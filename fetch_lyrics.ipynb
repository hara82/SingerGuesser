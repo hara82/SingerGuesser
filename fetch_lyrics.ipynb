{
 "cells": [
  {
   "attachments": {},
   "cell_type": "markdown",
   "metadata": {},
   "source": [
    "# Fetch lyrics from Genius API.\n",
    "- Text is lyrics of a song.  \n",
    "- Label is the singer (or band) who sings"
   ]
  },
  {
   "cell_type": "code",
   "execution_count": 1,
   "metadata": {},
   "outputs": [],
   "source": [
    "from lyricsgenius import Genius\n",
    "token = '02BnaBIRnqGhVSFhC2ZXAlL5LWl79xEtVhw9qJS4j1Nii8p9ZSO3JbcEwfQYZSry'\n",
    "import json"
   ]
  },
  {
   "cell_type": "code",
   "execution_count": 2,
   "metadata": {},
   "outputs": [],
   "source": [
    "# parameters and the list of artists\n",
    "excluded_terms = [\"remix\",\"Acoustic\",\"Instrumental\",\"speech\",\"Commentary\",\"Spotify\",\"version\"]\n",
    "artist_names = [\"Ariana Grande\", \"Michael Jackson\",\"Taylor Swift\",\"XXXTentacion\",\"Eminem\",\"Lady Gaga\",\"Selena Gomez\",\"Beyonce Knowles\",\"Dua Lipa\",\"jennifer Lopez\"]\n",
    "# artists are chosen from thefamouspeople.com/21st-century-singers\n",
    "\n",
    "#[\"Michael Jackson\",\"Elvis Presley\", \"Queen\", \"Aretha Franklin\",\n",
    "#\"Elton John\", \"The Beatles\", \"Whitney Housten\",\"Frank Sinatra\",\"David Bowie\"]"
   ]
  },
  {
   "cell_type": "code",
   "execution_count": 3,
   "metadata": {},
   "outputs": [
    {
     "name": "stdout",
     "output_type": "stream",
     "text": [
      "Searching for songs by Ariana Grande...\n",
      "\n",
      "Song 1: \"​thank u, next\"\n",
      "Song 2: \"7 rings\"\n",
      "Song 3: \"​God is a woman\"\n",
      "Song 4: \"Side To Side\"\n",
      "Song 5: \"​​no tears left to cry\"\n",
      "Song 6: \"34+35\"\n",
      "Song 7: \"​break up with your girlfriend, i’m bored\"\n",
      "Song 8: \"​​breathin\"\n",
      "Song 9: \"​positions\"\n",
      "Song 10: \"​pov\"\n",
      "Song 11: \"​imagine\"\n",
      "Song 12: \"​needy\"\n",
      "Song 13: \"​ghostin\"\n",
      "Song 14: \"​pete davidson\"\n",
      "Song 15: \"​in my head\"\n",
      "Song 16: \"​sweetener\"\n",
      "Song 17: \"Let Me Love You\"\n",
      "Song 18: \"​R.E.M.\"\n",
      "Song 19: \"Dangerous Woman\"\n",
      "Song 20: \"NASA\"\n",
      "Song 21: \"One Last Time\"\n",
      "Song 22: \"​bloodline\"\n",
      "Song 23: \"Into You\"\n",
      "Song 24: \"​fake smile\"\n",
      "Song 25: \"​goodnight n go\"\n",
      "Song 26: \"​the light is coming\"\n",
      "Song 27: \"​bad idea\"\n",
      "\"34+35 (Remix)\" is not valid. Skipping.\n",
      "Song 28: \"​better off\"\n",
      "\"Save Your Tears (Remix)\" is not valid. Skipping.\n",
      "Song 29: \"​make up\"\n",
      "Song 30: \"​get well soon\"\n",
      "Song 31: \"Problem\"\n",
      "Song 32: \"The Way\"\n",
      "Song 33: \"​everytime\"\n",
      "Song 34: \"Focus\"\n",
      "Song 35: \"​nasty\"\n",
      "Song 36: \"Moonlight\"\n",
      "Song 37: \"​just like magic\"\n",
      "Song 38: \"Everyday\"\n",
      "Song 39: \"​safety net\"\n",
      "Song 40: \"Be Alright\"\n",
      "Song 41: \"​raindrops (an angel cried)\"\n",
      "Song 42: \"​my hair\"\n",
      "Song 43: \"​successful\"\n",
      "Song 44: \"​love language\"\n",
      "Song 45: \"​shut up\"\n",
      "Song 46: \"​obvious\"\n",
      "Song 47: \"​six thirty\"\n",
      "Song 48: \"Santa Tell Me\"\n",
      "Song 49: \"Break Free\"\n",
      "Song 50: \"My Everything\"\n"
     ]
    }
   ],
   "source": [
    "\n",
    "genius = Genius(access_token=token, timeout=100, remove_section_headers=True,\n",
    " skip_non_songs=True,retries=10, excluded_terms=excluded_terms)\n",
    "\n",
    "\n",
    "for singer in artist_names:\n",
    "    artist = genius.search_artist(singer,sort=\"popularity\", max_songs=200)\n",
    "    artist.save_lyrics(f'raw_json/{singer}_artist_file.json')# save artist object as json file just in case, for some reason it fails to save in a directory\n",
    "\n",
    "    songs_dict = {}\n",
    "    songs_dict[\"ARTIST_NAME\"] = singer\n",
    "    for song in artist.songs:\n",
    "        lyrics_plain_text = song.to_text()\n",
    "        if(lyrics_plain_text != None):\n",
    "            songs_dict[song.title] = lyrics_plain_text\n",
    "    \n",
    "    # save dictionary as json file, key = title, value = lyrics\n",
    "    with open(f'./lyrics/{singer}.json',\"w\") as outfile:\n",
    "        json.dump(songs_dict,outfile)\n",
    "\n",
    "\n",
    "\n"
   ]
  },
  {
   "cell_type": "code",
   "execution_count": 8,
   "metadata": {},
   "outputs": [],
   "source": [
    "# make the list of dictionary, and save it as jason for later simplicity\n",
    "songs_dict_list = []\n",
    "for singer in artist_names:\n",
    "    with open(f'./lyrics/{singer}.json') as f:\n",
    "        songs_list = json.load(f)\n",
    "    songs_dict_list.append(songs_list)\n",
    "\n",
    "with open(f'./dataset/dict.json',\"w\") as outfile:\n",
    "    json.dump(songs_dict_list, outfile)\n"
   ]
  },
  {
   "attachments": {},
   "cell_type": "markdown",
   "metadata": {},
   "source": [
    "# ここから下はゴミ"
   ]
  },
  {
   "cell_type": "code",
   "execution_count": null,
   "metadata": {},
   "outputs": [],
   "source": [
    "from lyricsgenius import Genius\n",
    "token = '02BnaBIRnqGhVSFhC2ZXAlL5LWl79xEtVhw9qJS4j1Nii8p9ZSO3JbcEwfQYZSry'\n",
    "\n",
    "genius = Genius(token)\n",
    "artist = genius.search_artist(\"The Beatles\", max_songs=1, sort=\"title\")\n",
    "print(artist.songs)"
   ]
  },
  {
   "cell_type": "code",
   "execution_count": null,
   "metadata": {},
   "outputs": [],
   "source": [
    "artist_label = [\"Michael Jackson\",\"Elvis Presley\", \"Queen\", \"Aretha Franklin\",\n",
    "\"Elton John\", \"The Beatles\", \"Whitney Housten\",\"Frank Sinatra\",\"David Bowie\"]\n",
    "\n",
    "genius = Genius(access_token=token, timeout=100, remove_section_headers=True, skip_non_songs=True,retries=10, excluded_terms=[\"remix\",\"Acoustic\",\"Speech\",\"Instrumental\",\"Commentary\",\"Spotify\",\"version\"])\n",
    "artist = genius.search_artist(\"Ariana Grande\",sort=\"popularity\")\n",
    "artist.save_lyrics(overwrite=True)\n"
   ]
  },
  {
   "cell_type": "code",
   "execution_count": 9,
   "metadata": {},
   "outputs": [
    {
     "name": "stdout",
     "output_type": "stream",
     "text": [
      "Searching for songs by Michael Jacson...\n",
      "\n",
      "Changing artist name to 'Michael Jackson'\n",
      "Song 1: \"Billie Jean\"\n",
      "\n",
      "Reached user-specified song limit (1).\n",
      "Done. Found 1 songs.\n",
      "Wrote raw_jsonMichael Jacson_artist_file.json.\n"
     ]
    }
   ],
   "source": [
    "singer = \"Michael Jacson\"\n",
    "artist = genius.search_artist(singer,sort=\"popularity\", max_songs=1)\n",
    "artist.save_lyrics(\"raw_json/%s_artist_file.json\" % singer)# save artist object as json file just in case"
   ]
  },
  {
   "cell_type": "code",
   "execution_count": 11,
   "metadata": {},
   "outputs": [
    {
     "name": "stdout",
     "output_type": "stream",
     "text": [
      "Wrote raw_jsonrtist_file.json.\n"
     ]
    }
   ],
   "source": [
    "artist.save_lyrics(\"raw_json'/rtist_file.json\" )# save artist object as json file just in case"
   ]
  },
  {
   "cell_type": "code",
   "execution_count": null,
   "metadata": {},
   "outputs": [],
   "source": [
    "# print(artist.songs[13].to_text())\n",
    "# artist.save_lyrics(\"test.txt\",extension='txt')\n",
    "#artist.songs[0].save_lyrics()y\n",
    "dict_songs = {}\n",
    "songs = artist.songs\n",
    "for s in songs:\n",
    "    lyrics_plain_text = s.to_text()\n",
    "    if(lyrics_plain_text != None):\n",
    "        dict_songs[s.title] = lyrics_plain_text\n",
    "        \n"
   ]
  },
  {
   "cell_type": "code",
   "execution_count": null,
   "metadata": {},
   "outputs": [],
   "source": [
    "print(dict_songs.keys())"
   ]
  },
  {
   "cell_type": "code",
   "execution_count": null,
   "metadata": {},
   "outputs": [],
   "source": [
    "artist_label = [\"Michael Jackson\",\"Elvis Presley\", \"Queen\", \"Aretha Franklin\",\n",
    "\"Elton John\", \"The Beatles\", \"Whitney Housten\",\"Frank Sinatra\",\"David Bowie\"]\n",
    "# singers are selected from the site below. Paul and John -> The Beatles, Fredie -> Queen\n",
    "# too recent singers are not selected so as to ensure a singer releases enough quantity of songs.\n",
    "#https://utahpulse.com/popular-singers-of-all-time/\n",
    "\n",
    "for a in artist_label:\n",
    "    artist = genius.search_artist(a,max_songs=1, sort=\"title\")\n"
   ]
  },
  {
   "cell_type": "code",
   "execution_count": null,
   "metadata": {},
   "outputs": [],
   "source": []
  }
 ],
 "metadata": {
  "kernelspec": {
   "display_name": "Python 3",
   "language": "python",
   "name": "python3"
  },
  "language_info": {
   "codemirror_mode": {
    "name": "ipython",
    "version": 3
   },
   "file_extension": ".py",
   "mimetype": "text/x-python",
   "name": "python",
   "nbconvert_exporter": "python",
   "pygments_lexer": "ipython3",
   "version": "3.8.10"
  },
  "orig_nbformat": 4,
  "vscode": {
   "interpreter": {
    "hash": "31f2aee4e71d21fbe5cf8b01ff0e069b9275f58929596ceb00d14d90e3e16cd6"
   }
  }
 },
 "nbformat": 4,
 "nbformat_minor": 2
}
