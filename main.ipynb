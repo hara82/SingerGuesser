{
 "cells": [
  {
   "attachments": {},
   "cell_type": "markdown",
   "metadata": {},
   "source": [
    "### Load data"
   ]
  },
  {
   "cell_type": "code",
   "execution_count": 1,
   "metadata": {},
   "outputs": [
    {
     "data": {
      "text/plain": [
       "(0.5997757847533632, 0.20011210762331838, 0.20011210762331838)"
      ]
     },
     "execution_count": 1,
     "metadata": {},
     "output_type": "execute_result"
    }
   ],
   "source": [
    "import pickle\n",
    "with open('splitData.pickle', 'rb') as f:\n",
    "    texts_train = pickle.load(f)\n",
    "    texts_val = pickle.load(f)\n",
    "    texts_test = pickle.load(f)\n",
    "    labels_train = pickle.load(f)\n",
    "    labels_val = pickle.load(f)\n",
    "    labels_test = pickle.load(f)\n",
    "\n",
    "all_texts  = texts_train  + texts_val  + texts_test\n",
    "all_labels = labels_train + labels_val + labels_test\n",
    "# check the ratio of each dataset\n",
    "total = len(texts_train) + len(texts_val) + len(texts_test)\n",
    "len(texts_train)/total, len(texts_val)/total, len(texts_test)/total"
   ]
  },
  {
   "attachments": {},
   "cell_type": "markdown",
   "metadata": {},
   "source": [
    "# Q2-Clustering"
   ]
  },
  {
   "attachments": {},
   "cell_type": "markdown",
   "metadata": {},
   "source": [
    "### Step 0: Vectorise text"
   ]
  },
  {
   "cell_type": "code",
   "execution_count": 2,
   "metadata": {},
   "outputs": [
    {
     "data": {
      "text/plain": [
       "(1784, 22406)"
      ]
     },
     "execution_count": 2,
     "metadata": {},
     "output_type": "execute_result"
    }
   ],
   "source": [
    "from sklearn.feature_extraction.text import TfidfVectorizer\n",
    "vectorizer = TfidfVectorizer()\n",
    "\n",
    "# fitted_vectorizer = vectorizer.fit(texts)\n",
    "# texts_vector = fitted_vectorizer.transform(texts)\n",
    "texts_vector = vectorizer.fit_transform(all_texts)\n",
    "texts_vector.shape"
   ]
  },
  {
   "attachments": {},
   "cell_type": "markdown",
   "metadata": {},
   "source": [
    "## Conducting Kmeans"
   ]
  },
  {
   "cell_type": "code",
   "execution_count": 3,
   "metadata": {},
   "outputs": [
    {
     "name": "stdout",
     "output_type": "stream",
     "text": [
      "converged\n"
     ]
    },
    {
     "data": {
      "text/plain": [
       "Counter({'2': 691, '1': 612, '0': 468, '4': 10, '3': 3})"
      ]
     },
     "execution_count": 3,
     "metadata": {},
     "output_type": "execute_result"
    }
   ],
   "source": [
    "import numpy as np\n",
    "def kmeans(k, matrix, max_iter=300):\n",
    "    num_data, dim_feature = matrix.shape\n",
    "\n",
    "    # Step1: pick k random centroids\n",
    "    #### centroids = np.random.random([k,22406]) -- to be deleted\n",
    "    # pick centroids from data randomly to make sure at least one point is allocated to one point\n",
    "    centroids = matrix[np.random.randint(0,num_data,k)]\n",
    "\n",
    "\n",
    "    # new centroids to be calculated\n",
    "    new_centroids = np.zeros((k,dim_feature))\n",
    "\n",
    "    # labels(=index of centroids) assigned to data\n",
    "    labels = np.zeros(num_data)\n",
    "\n",
    "    # iterate until convergence or max_iteration\n",
    "    for itr in range(max_iter):\n",
    "        \n",
    "        # iterate through all data\n",
    "        for i in range(num_data):\n",
    "            # matrix is a sparse vector, so make it dense array\n",
    "            ith_vec = np.squeeze(np.asarray(matrix[i].todense()))\n",
    "\n",
    "            #Step2: Assign each vector to its closest centroid\n",
    "            dists = np.sum(np.square(centroids - ith_vec), axis=1)\n",
    "            labels[i] = np.argmin(dists)\n",
    "\n",
    "        #Step3:Recalculate the centroids\n",
    "        for j in range(k):\n",
    "            new_centroids[j] = matrix[labels==j].mean(axis=0)\n",
    "\n",
    "        # If step 2 and 3 converges, exit for-loop         \n",
    "        if np.all(new_centroids == centroids):\n",
    "            print(\"converged\")\n",
    "            break;\n",
    "        centroids = new_centroids\n",
    "\n",
    "    return labels, new_centroids\n",
    "\n",
    "\n",
    "clustered_labels, centroids = kmeans(5,texts_vector)\n",
    "from collections import Counter\n",
    "clustered_labels = [str(int(l)) for l in clustered_labels]\n",
    "Counter(clustered_labels)"
   ]
  },
  {
   "attachments": {},
   "cell_type": "markdown",
   "metadata": {},
   "source": [
    "### For answering questions"
   ]
  },
  {
   "cell_type": "code",
   "execution_count": 4,
   "metadata": {},
   "outputs": [
    {
     "name": "stdout",
     "output_type": "stream",
     "text": [
      "------top 5 tokens in centroid 0-----\n",
      "the,you,yeah,oh,ooh,\n",
      "\n",
      "------top 5 tokens in centroid 1-----\n",
      "to,the,you,it,and,\n",
      "\n",
      "------top 5 tokens in centroid 2-----\n",
      "to,the,you,it,me,\n",
      "\n",
      "------top 5 tokens in centroid 3-----\n",
      "magic,july,siegfried,roy,stadium,\n",
      "\n",
      "------top 5 tokens in centroid 4-----\n",
      "happy,mm,glad,jugg,serious,\n",
      "\n"
     ]
    }
   ],
   "source": [
    "# question a)\n",
    "for i in range(5):\n",
    "    print(f\"------top 5 tokens in centroid {i}-----\")\n",
    "    indices = np.argsort(centroids[i])[-5:] # indices of most prominent tokens\n",
    "    for key,val in vectorizer.vocabulary_.items():\n",
    "        if val in indices:\n",
    "            print(f'{key}',end=\",\")\n",
    "    print(\"\\n\")\n",
    "\n",
    "# tokenizerを工夫したほうがよいかも"
   ]
  },
  {
   "cell_type": "code",
   "execution_count": null,
   "metadata": {},
   "outputs": [],
   "source": []
  },
  {
   "cell_type": "code",
   "execution_count": 5,
   "metadata": {},
   "outputs": [],
   "source": [
    "# cm=confusion_matrix(clustered_labels, all_labels)\n",
    "# ConfusionMatrixDisplay(confusion_matrix=cm, display_labels=['not clinical trial','clinical trial']).plot()"
   ]
  },
  {
   "attachments": {},
   "cell_type": "markdown",
   "metadata": {},
   "source": [
    "# confusion matrixの完成形がわからん"
   ]
  },
  {
   "cell_type": "code",
   "execution_count": 6,
   "metadata": {},
   "outputs": [
    {
     "data": {
      "text/plain": [
       "<AxesSubplot:xlabel='k-means labels', ylabel='target labels'>"
      ]
     },
     "execution_count": 6,
     "metadata": {},
     "output_type": "execute_result"
    },
    {
     "data": {
      "image/png": "[encoded data removed]",
      "text/plain": [
       "<Figure size 432x288 with 1 Axes>"
      ]
     },
     "metadata": {
      "needs_background": "light"
     },
     "output_type": "display_data"
    }
   ],
   "source": [
    "# question c) construct a confusion matrix\n",
    "from sklearn.metrics import confusion_matrix\n",
    "from sklearn.metrics import ConfusionMatrixDisplay\n",
    "import seaborn as sn\n",
    "\n",
    "def plotConfusionMatrix(labels_val, labels_predicted):\n",
    "  cm = confusion_matrix(labels_val, labels_predicted)\n",
    "  colour_map = sn.color_palette(\"Reds\", as_cmap=True)\n",
    "  labels = ['not clinical trial', 'clinical trial']\n",
    "  plot = sn.heatmap(cm, \n",
    "                    annot=True, # Put the numbers in\n",
    "                    annot_kws={\"size\": 16}, # Make the numbers bigger\n",
    "                    fmt='g', # Stop scientific notation\n",
    "                    cmap = colour_map, # Choose the colour palette\n",
    "                    cbar = False, # Don't include the colour bar\n",
    "                    xticklabels=labels, # Put in the X and Y labels\n",
    "                    yticklabels=labels)\n",
    "  plot.set(xlabel='k-means labels', ylabel='target labels')\n",
    "  return plot\n",
    "\n",
    "plotConfusionMatrix(clustered_labels, all_labels)"
   ]
  },
  {
   "cell_type": "code",
   "execution_count": 7,
   "metadata": {},
   "outputs": [
    {
     "data": {
      "text/plain": [
       "Counter({2: 818, 1: 321, 3: 64, 4: 502, 0: 79})"
      ]
     },
     "execution_count": 7,
     "metadata": {},
     "output_type": "execute_result"
    }
   ],
   "source": [
    "from sklearn.cluster import KMeans\n",
    "from collections import Counter\n",
    "kmeans = KMeans(n_clusters=5, random_state=10).fit_predict(texts_vector)\n",
    "Counter(kmeans)"
   ]
  },
  {
   "cell_type": "code",
   "execution_count": null,
   "metadata": {},
   "outputs": [],
   "source": []
  },
  {
   "attachments": {},
   "cell_type": "markdown",
   "metadata": {},
   "source": [
    "# Q3-Comparing Classifiers"
   ]
  },
  {
   "cell_type": "code",
   "execution_count": 8,
   "metadata": {},
   "outputs": [],
   "source": [
    "\n",
    "# Show classifier performance\n",
    "from sklearn.metrics import accuracy_score, precision_score, recall_score, f1_score\n",
    "def showPerformance(labels_true, labels_predicted):\n",
    "    print(f'accuracy ={accuracy_score(labels_true, labels_predicted):.3f}')\n",
    "    print(f'precision={precision_score(labels_true, labels_predicted, average=\"macro\"):.3f}')\n",
    "    print(f'recall   ={recall_score(labels_true, labels_predicted, average=\"macro\"):.3f}') \n",
    "    print(f'f1       ={f1_score(labels_true, labels_predicted, average=\"macro\"):.3f}')\n",
    "    return ;\n"
   ]
  },
  {
   "attachments": {},
   "cell_type": "markdown",
   "metadata": {},
   "source": [
    "### Dummy Classifier with strategy=\"most_frequent\""
   ]
  },
  {
   "cell_type": "code",
   "execution_count": 9,
   "metadata": {},
   "outputs": [
    {
     "name": "stdout",
     "output_type": "stream",
     "text": [
      "0.08403361344537816\n",
      "accuracy =0.084\n",
      "precision=0.008\n",
      "recall   =0.100\n",
      "f1       =0.016\n"
     ]
    },
    {
     "name": "stderr",
     "output_type": "stream",
     "text": [
      "/home/denjo/.local/lib/python3.8/site-packages/sklearn/metrics/_classification.py:1334: UndefinedMetricWarning: Precision is ill-defined and being set to 0.0 in labels with no predicted samples. Use `zero_division` parameter to control this behavior.\n",
      "  _warn_prf(average, modifier, msg_start, len(result))\n"
     ]
    }
   ],
   "source": [
    "from sklearn.dummy import DummyClassifier\n",
    "dummy_clf = DummyClassifier(strategy=\"most_frequent\")\n",
    "dummy_clf.fit(texts_train,labels_train)\n",
    "labels_predicted = dummy_clf.predict(texts_val)\n",
    "\n",
    "print(dummy_clf.score(texts_val, labels_val))\n",
    "showPerformance(labels_val, labels_predicted)"
   ]
  },
  {
   "attachments": {},
   "cell_type": "markdown",
   "metadata": {},
   "source": [
    "### Dummy Classifier with strategy=\"most_frequent\""
   ]
  },
  {
   "cell_type": "code",
   "execution_count": 10,
   "metadata": {},
   "outputs": [
    {
     "name": "stdout",
     "output_type": "stream",
     "text": [
      "accuracy =0.106\n",
      "precision=0.123\n",
      "recall   =0.106\n",
      "f1       =0.109\n"
     ]
    }
   ],
   "source": [
    "from sklearn.dummy import DummyClassifier\n",
    "dummy_clf = DummyClassifier(strategy=\"stratified\")\n",
    "dummy_clf.fit(texts_train,labels_train)\n",
    "labels_predicted = dummy_clf.predict(texts_val)\n",
    "\n",
    "# print(dummy_clf.score(texts_val, labels_val))\n",
    "showPerformance(labels_val, labels_predicted)"
   ]
  },
  {
   "attachments": {},
   "cell_type": "markdown",
   "metadata": {},
   "source": [
    "### LogisticRegression with one-hot vectorization"
   ]
  },
  {
   "cell_type": "code",
   "execution_count": 31,
   "metadata": {},
   "outputs": [
    {
     "name": "stdout",
     "output_type": "stream",
     "text": [
      "accuracy =0.557\n",
      "precision=0.540\n",
      "recall   =0.555\n",
      "f1       =0.544\n"
     ]
    }
   ],
   "source": [
    "from sklearn.feature_extraction.text import CountVectorizer\n",
    "from sklearn.linear_model import LogisticRegression\n",
    "vectorizer = CountVectorizer()\n",
    "\n",
    "vect_texts_train = vectorizer.fit_transform(texts_train)\n",
    "vect_texts_train[vect_texts_train != 0] = 1 # convert non-zero counting into 1\n",
    "\n",
    "vect_texts_val = vectorizer.transform(texts_val)\n",
    "vect_texts_val[vect_texts_val != 0] = 1\n",
    "\n",
    "# Logistic Regression\n",
    "clf = LogisticRegression(random_state=42,max_iter=1000).fit(vect_texts_train, labels_train)\n",
    "labels_predicted = clf.predict(vect_texts_val)\n",
    "\n",
    "\n",
    "showPerformance(labels_val, labels_predicted)"
   ]
  },
  {
   "attachments": {},
   "cell_type": "markdown",
   "metadata": {},
   "source": [
    "### LogisticRegression with TF-IDF vectorization"
   ]
  },
  {
   "cell_type": "code",
   "execution_count": 12,
   "metadata": {},
   "outputs": [
    {
     "name": "stdout",
     "output_type": "stream",
     "text": [
      "accuracy =0.437\n",
      "precision=0.511\n",
      "recall   =0.433\n",
      "f1       =0.406\n"
     ]
    }
   ],
   "source": [
    "vectorizer = TfidfVectorizer()\n",
    "vect_texts_train = vectorizer.fit_transform(texts_train)\n",
    "vect_texts_val = vectorizer.transform(texts_val)\n",
    "\n",
    "# Logistic Regression\n",
    "clf = LogisticRegression(random_state=42).fit(vect_texts_train, labels_train)\n",
    "labels_predicted = clf.predict(vect_texts_val)\n",
    "\n",
    "\n",
    "showPerformance(labels_val, labels_predicted)\n"
   ]
  },
  {
   "attachments": {},
   "cell_type": "markdown",
   "metadata": {},
   "source": [
    "### SVC Classifier with One-hot vectorization"
   ]
  },
  {
   "cell_type": "code",
   "execution_count": 13,
   "metadata": {},
   "outputs": [
    {
     "name": "stdout",
     "output_type": "stream",
     "text": [
      "accuracy =0.546\n",
      "precision=0.538\n",
      "recall   =0.537\n",
      "f1       =0.497\n"
     ]
    },
    {
     "name": "stderr",
     "output_type": "stream",
     "text": [
      "/home/denjo/.local/lib/python3.8/site-packages/sklearn/metrics/_classification.py:1334: UndefinedMetricWarning: Precision is ill-defined and being set to 0.0 in labels with no predicted samples. Use `zero_division` parameter to control this behavior.\n",
      "  _warn_prf(average, modifier, msg_start, len(result))\n"
     ]
    }
   ],
   "source": [
    "# making one-hot vectors\n",
    "from sklearn.feature_extraction.text import CountVectorizer\n",
    "vectorizer = CountVectorizer()\n",
    "vect_texts_train = vectorizer.fit_transform(texts_train)\n",
    "vect_texts_train[vect_texts_train != 0] = 1 # convert non-zero counting into 1\n",
    "\n",
    "vect_texts_val = vectorizer.transform(texts_val)\n",
    "vect_texts_val[vect_texts_val != 0] = 1\n",
    "\n",
    "from sklearn.svm import SVC\n",
    "clf = SVC(random_state=42).fit(vect_texts_train, labels_train)\n",
    "labels_predicted = clf.predict(vect_texts_val)\n",
    "\n",
    "\n",
    "showPerformance(labels_val, labels_predicted)"
   ]
  },
  {
   "attachments": {},
   "cell_type": "markdown",
   "metadata": {},
   "source": [
    "# Q4-Parameter Tuning"
   ]
  },
  {
   "attachments": {},
   "cell_type": "markdown",
   "metadata": {},
   "source": [
    "#### choose C value"
   ]
  },
  {
   "cell_type": "code",
   "execution_count": 26,
   "metadata": {},
   "outputs": [
    {
     "name": "stderr",
     "output_type": "stream",
     "text": [
      "100%|██████████| 9/9 [01:54<00:00, 12.74s/it]"
     ]
    },
    {
     "name": "stdout",
     "output_type": "stream",
     "text": [
      "best_param={'C': 100.0}\n",
      "0.504\n"
     ]
    },
    {
     "name": "stderr",
     "output_type": "stream",
     "text": [
      "\n"
     ]
    }
   ],
   "source": [
    "from tqdm import tqdm\n",
    "from sklearn.model_selection import ParameterGrid\n",
    "param_C = {'C':np.logspace(-3,5,9,base=10.0)}\n",
    "\n",
    "max_f1 = 0\n",
    "best_param = {}\n",
    "for params in tqdm(ParameterGrid(param_C)):\n",
    "  # vectorize training set and validation set\n",
    "  vectorizer = TfidfVectorizer()\n",
    "  vect_texts_train = vectorizer.fit_transform(texts_train)\n",
    "  vect_texts_val = vectorizer.transform(texts_val)\n",
    "\n",
    "  # logistic regression\n",
    "  clf = LogisticRegression(random_state=42,C=params['C'],max_iter=1000).fit(vect_texts_train, labels_train)\n",
    "  labels_predicted = clf.predict(vect_texts_val)\n",
    "\n",
    "  cur_f1 = f1_score(labels_val, labels_predicted,average=\"macro\")\n",
    "  if(cur_f1 > max_f1):\n",
    "    max_f1 = cur_f1\n",
    "    best_param = params\n",
    "\n",
    "print(f'{best_param=}')\n",
    "print(f'{max_f1:.3f}')\n",
    "\n"
   ]
  },
  {
   "attachments": {},
   "cell_type": "markdown",
   "metadata": {},
   "source": [
    "#### choose vectorizer"
   ]
  },
  {
   "cell_type": "code",
   "execution_count": 32,
   "metadata": {},
   "outputs": [
    {
     "name": "stderr",
     "output_type": "stream",
     "text": [
      "  8%|▊         | 1/12 [00:12<02:17, 12.53s/it]"
     ]
    }
   ],
   "source": [
    "param_vec = {'max_features':[None, 5, 50, 500, 5000, 50000], 'sublinear_tf':[True,False]}\n",
    "\n",
    "max_f1 = 0\n",
    "best_param = {}\n",
    "for params in tqdm(ParameterGrid(param_vec)):\n",
    "  # vectorize training set and validation set\n",
    "  vectorizer = TfidfVectorizer(max_features=params[\"max_features\"], sublinear_tf=params[\"sublinear_tf\"])\n",
    "  vect_texts_train = vectorizer.fit_transform(texts_train)\n",
    "  vect_texts_val = vectorizer.transform(texts_val)\n",
    "\n",
    "  # logistic regression\n",
    "  clf = LogisticRegression(random_state=42,C=100,max_iter=1000).fit(vect_texts_train, labels_train)\n",
    "  labels_predicted = clf.predict(vect_texts_val)\n",
    "\n",
    "  cur_f1 = f1_score(labels_val, labels_predicted,average=\"macro\")\n",
    "  if(cur_f1 > max_f1):\n",
    "    max_f1 = cur_f1\n",
    "    best_param = params\n",
    "\n",
    "print(f'{best_param=}')\n",
    "print(f'{max_f1:.3f}')\n"
   ]
  }
 ],
 "metadata": {
  "kernelspec": {
   "display_name": "Python 3",
   "language": "python",
   "name": "python3"
  },
  "language_info": {
   "codemirror_mode": {
    "name": "ipython",
    "version": 3
   },
   "file_extension": ".py",
   "mimetype": "text/x-python",
   "name": "python",
   "nbconvert_exporter": "python",
   "pygments_lexer": "ipython3",
   "version": "3.8.10"
  },
  "orig_nbformat": 4,
  "vscode": {
   "interpreter": {
    "hash": "31f2aee4e71d21fbe5cf8b01ff0e069b9275f58929596ceb00d14d90e3e16cd6"
   }
  }
 },
 "nbformat": 4,
 "nbformat_minor": 2
}
