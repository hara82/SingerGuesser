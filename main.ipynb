{
 "cells": [
  {
   "attachments": {},
   "cell_type": "markdown",
   "metadata": {},
   "source": [
    "### Load data"
   ]
  },
  {
   "cell_type": "code",
   "execution_count": 10,
   "metadata": {},
   "outputs": [
    {
     "data": {
      "text/plain": [
       "(0.5997757847533632, 0.20011210762331838, 0.20011210762331838)"
      ]
     },
     "execution_count": 10,
     "metadata": {},
     "output_type": "execute_result"
    }
   ],
   "source": [
    "import pickle\n",
    "with open('splitData.pickle', 'rb') as f:\n",
    "    texts_train = pickle.load(f)\n",
    "    texts_val = pickle.load(f)\n",
    "    texts_test = pickle.load(f)\n",
    "    labels_train = pickle.load(f)\n",
    "    labels_val = pickle.load(f)\n",
    "    labels_test = pickle.load(f)\n",
    "\n",
    "all_texts  = texts_train  + texts_val  + texts_test\n",
    "all_labels = labels_train + labels_val + labels_test\n",
    "# check the ratio of each dataset\n",
    "total = len(texts_train) + len(texts_val) + len(texts_test)\n",
    "len(texts_train)/total, len(texts_val)/total, len(texts_test)/total"
   ]
  },
  {
   "attachments": {},
   "cell_type": "markdown",
   "metadata": {},
   "source": [
    "# Q2-Clustering"
   ]
  },
  {
   "attachments": {},
   "cell_type": "markdown",
   "metadata": {},
   "source": [
    "### Step 0: Vectorise text"
   ]
  },
  {
   "attachments": {},
   "cell_type": "markdown",
   "metadata": {},
   "source": [
    "## NOTE: lyrics are not necessarily limited to English"
   ]
  },
  {
   "cell_type": "code",
   "execution_count": 3,
   "metadata": {},
   "outputs": [
    {
     "data": {
      "text/plain": [
       "['thing', 'miss', 'miss', 'mind']"
      ]
     },
     "execution_count": 3,
     "metadata": {},
     "output_type": "execute_result"
    }
   ],
   "source": [
    "import spacy\n",
    "\n",
    "nlp = spacy.load('en_core_web_sm') # can tokenize Spanish at least\n",
    "\n",
    "added_stop_words = set([\"ayy\",\"ay\",\"ah\",\"oh\",\"ohh\",\"ooh\",\"la\",\"da\",\"dum\",\"ll\",\"d\",\"m\",\"ve\",\"yah\",\"yeah\"])\n",
    "my_stop_words = nlp.Defaults.stop_words.union(added_stop_words)\n",
    "\n",
    "# nlp = spacy.load(\"xx_ent_wiki_sm\") <-not work well for lemmanize\n",
    "\n",
    "def text_pipeline_spacy(text):\n",
    "    tokens = []\n",
    "    doc = nlp(text)\n",
    "    for t in doc:\n",
    "        if not t.is_stop and not t.is_punct and not t.is_space and not t in my_stop_words:\n",
    "            tokens.append(t.lemma_.lower())\n",
    "    return tokens\n",
    "\n",
    "# Check pipiline:\n",
    "text_pipeline_spacy(\"Of all the things I miss, I miss my mind the most.\")"
   ]
  },
  {
   "cell_type": "code",
   "execution_count": 4,
   "metadata": {},
   "outputs": [
    {
     "data": {
      "text/plain": [
       "(1784, 19605)"
      ]
     },
     "execution_count": 4,
     "metadata": {},
     "output_type": "execute_result"
    }
   ],
   "source": [
    "from sklearn.feature_extraction.text import TfidfVectorizer\n",
    "vectorizer = TfidfVectorizer(tokenizer=text_pipeline_spacy, stop_words=my_stop_words)\n",
    "\n",
    "texts_vector = vectorizer.fit_transform(all_texts)\n",
    "texts_vector.shape"
   ]
  },
  {
   "attachments": {},
   "cell_type": "markdown",
   "metadata": {},
   "source": [
    "## Conducting Kmeans"
   ]
  },
  {
   "cell_type": "code",
   "execution_count": 5,
   "metadata": {},
   "outputs": [
    {
     "name": "stdout",
     "output_type": "stream",
     "text": [
      "converged\n"
     ]
    },
    {
     "data": {
      "text/plain": [
       "Counter({3: 689, 0: 885, 1: 130, 2: 20, 4: 60})"
      ]
     },
     "execution_count": 5,
     "metadata": {},
     "output_type": "execute_result"
    }
   ],
   "source": [
    "import numpy as np\n",
    "np.random.seed(42)\n",
    "def kmeans(k, matrix, max_iter=300):\n",
    "    num_data, dim_feature = matrix.shape\n",
    "\n",
    "    # Step1: pick k random centroids\n",
    "    #### centroids = np.random.random([k,22406])  # Random Partition --- does not work well\n",
    "    #Use Forgy partition to make sure at least one point is allocated to one point\n",
    "    centroids = matrix[np.random.randint(0,num_data,k)]\n",
    "\n",
    "\n",
    "    # new centroids to be calculated\n",
    "    new_centroids = np.zeros((k,dim_feature))\n",
    "\n",
    "    # labels(=index of centroids) assigned to data\n",
    "    labels = np.zeros(num_data)\n",
    "\n",
    "    # iterate until convergence or max_iteration\n",
    "    for itr in range(max_iter):\n",
    "        \n",
    "        # iterate through all data\n",
    "        for i in range(num_data):\n",
    "            # matrix is a sparse vector, so make it dense array\n",
    "            ith_vec = np.squeeze(np.asarray(matrix[i].todense()))\n",
    "\n",
    "            #Step2: Assign each vector to its closest centroid\n",
    "            dists = np.sum(np.square(centroids - ith_vec), axis=1)\n",
    "            labels[i] = np.argmin(dists)\n",
    "\n",
    "        #Step3:Recalculate the centroids\n",
    "        for j in range(k):\n",
    "            new_centroids[j] = matrix[labels==j].mean(axis=0)\n",
    "\n",
    "        # If step 2 and 3 converges, exit for-loop         \n",
    "        if np.all(new_centroids == centroids):\n",
    "            print(\"converged\")\n",
    "            break;\n",
    "        centroids = new_centroids\n",
    "\n",
    "    return labels, new_centroids\n",
    "\n",
    "\n",
    "clustered_labels, centroids = kmeans(5,texts_vector)\n",
    "from collections import Counter\n",
    "clustered_labels = [int(l) for l in clustered_labels]\n",
    "Counter(clustered_labels)"
   ]
  },
  {
   "attachments": {},
   "cell_type": "markdown",
   "metadata": {},
   "source": [
    "### For answering questions"
   ]
  },
  {
   "cell_type": "code",
   "execution_count": 6,
   "metadata": {},
   "outputs": [
    {
     "name": "stdout",
     "output_type": "stream",
     "text": [
      "\n",
      "=======label0=======\n",
      "0th docs\n",
      "Moonlight\n",
      "Lyrics\n",
      "The sun is setting and you're right here by my side\n",
      "And the movie is playing, but we won't be watching \n",
      "------------------\n",
      "1th docs\n",
      "Shady XV\n",
      "Shady XV Lyrics\n",
      "I'm liable to start a violent spark with a silent thought\n",
      "I disgust you like dialogue from The \n",
      "------------------\n",
      "2th docs\n",
      "Write Your Name\n",
      "Write Your Name Lyrics\n",
      "Take my arm, take my head\n",
      "Make your mark like a man\n",
      "Write your name\n",
      "Gonna write y\n",
      "------------------\n",
      "\n",
      "=======label1=======\n",
      "0th docs\n",
      "On the Floor (Mixin Marc & Tony Svejda L.A. to Ibiza Mix)\n",
      "On the Floor (Mixin Marc & Tony Svejda L.A. to Ibiza Mix) Lyri\n",
      "------------------\n",
      "1th docs\n",
      "​in my head\n",
      "Grande - in my head (Srpski Prevod)PortuguêsAriana Grande - in my head (polskie tłumaczenie)ItalianoDeutschف\n",
      "------------------\n",
      "2th docs\n",
      "Don’t Walk Away\n",
      "Don’t Walk Away Lyrics\n",
      "Ooh, don't walk away\n",
      "Walk away\n",
      "\n",
      "Don't walk away\n",
      "See, I just can't find the right \n",
      "------------------\n",
      "\n",
      "=======label2=======\n",
      "0th docs\n",
      "INUYASHA\n",
      "Lyrics\n",
      "Damn, baby, what's your fucking name? god damn (Murder)\n",
      "Goddamn, goddamn\n",
      "100 hoes\n",
      "BitBoy Beats\n",
      "Acid, aci\n",
      "------------------\n",
      "1th docs\n",
      "​rare\n",
      "Lyrics\n",
      "Very fucking holy, very fucking rare\n",
      "Even in broad daylight, I have this dream, I have this fantasy\n",
      "Marvelo\n",
      "------------------\n",
      "2th docs\n",
      "Yah Yah\n",
      "- Yah Yah ft. Royce da 5'9'’ & Black Thought & Q-Tip & dEnAun (Türkçe Çeviri)Bahasa IndonesiaYah Yah Lyrics\n",
      "Yah,\n",
      "------------------\n",
      "\n",
      "=======label3=======\n",
      "0th docs\n",
      "Perfect Illusion\n",
      "Perfect Illusion Lyrics\n",
      "Tryin' to get control\n",
      "Pressure's takin' its toll\n",
      "Stuck in the middle zone\n",
      "I jus\n",
      "------------------\n",
      "1th docs\n",
      "Freakshow\n",
      "Freakshow Lyrics\n",
      "'Cause I guarantee you've never seen a show like this before\n",
      "Gonna show you something that yo\n",
      "------------------\n",
      "2th docs\n",
      "Again\n",
      "Again Lyrics\n",
      "Like an angel, out the sky you came\n",
      "Clearing up all the clouds, the sadness and the rain\n",
      "So pure and \n",
      "------------------\n",
      "\n",
      "=======label4=======\n",
      "0th docs\n",
      "Scheiße (DJ White Shadow Mugler)\n",
      "Scheiße (DJ White Shadow Mugler) Lyrics\n",
      "I don’t speak German, but I can if you like, ow\n",
      "------------------\n",
      "1th docs\n",
      "The Manifesto of Chromatica\n",
      "The Manifesto of Chromatica Lyrics\n",
      "When I was younger, I was at some point, born.\n",
      "I grew in \n",
      "------------------\n",
      "2th docs\n",
      "Yours And Mine\n",
      "Yours And Mine Lyrics\n",
      "I sometimes wish I could just be anonymous and walk down the street just like every\n",
      "------------------\n"
     ]
    }
   ],
   "source": [
    "# question a) show documents assigned to eatch cluster\n",
    "shown = {} # labels checked\n",
    "doc_samples = [[] for _ in range(5)]# documents sampled\n",
    "for idx,l in enumerate(clustered_labels):\n",
    "    if(shown.get(l,0) < 3):\n",
    "        shown[l] = shown.get(l,0)+1\n",
    "        doc_samples[l].append(all_texts[idx])\n",
    "    \n",
    "for label,docs in enumerate(doc_samples):\n",
    "    print(f'\\n=======label{label}=======')\n",
    "    for i in range(3):\n",
    "        print(f'{i}th docs')\n",
    "        print(docs[i][:120])\n",
    "        print('------------------')\n",
    "\n",
    "\n"
   ]
  },
  {
   "cell_type": "code",
   "execution_count": 7,
   "metadata": {},
   "outputs": [
    {
     "name": "stdout",
     "output_type": "stream",
     "text": [
      "------top 5 tokens in centroid 0-----\n",
      "know,feel,like,fuck,let,\n",
      "\n",
      "------top 5 tokens in centroid 1-----\n",
      "stay,bitch,away,work,walk,\n",
      "\n",
      "------top 5 tokens in centroid 2-----\n",
      "animal,jump,damn,glad,effect,\n",
      "\n",
      "------top 5 tokens in centroid 3-----\n",
      "want,know,love,like,baby,\n",
      "\n",
      "------top 5 tokens in centroid 4-----\n",
      "like,people,world,woman,million,\n",
      "\n"
     ]
    }
   ],
   "source": [
    "# question a)\n",
    "for i in range(5):\n",
    "    print(f\"------top 5 tokens in centroid {i}-----\")\n",
    "    indices = np.argsort(centroids[i])[-5:] # indices of most prominent tokens\n",
    "    for key,val in vectorizer.vocabulary_.items():\n",
    "        if val in indices:\n",
    "            print(f'{key}',end=\",\")\n",
    "    print(\"\\n\")\n",
    "\n",
    "# tokenizerを工夫したほうがよいかも"
   ]
  },
  {
   "cell_type": "code",
   "execution_count": 8,
   "metadata": {},
   "outputs": [
    {
     "name": "stdout",
     "output_type": "stream",
     "text": [
      "Counter({0: 885, 3: 689, 1: 130, 4: 60, 2: 20})\n"
     ]
    },
    {
     "data": {
      "text/plain": [
       "array([885, 130,  20, 689,  60])"
      ]
     },
     "execution_count": 8,
     "metadata": {},
     "output_type": "execute_result"
    }
   ],
   "source": [
    "# question c) construct a confusion matrix\n",
    "# correspond labels(songer names) with integers\n",
    "label2id = {label: i for i, label in enumerate(set(labels_train))}\n",
    "id2label = {id:label for label,id in label2id.items()}\n",
    "\n",
    "print(Counter(clustered_labels))\n",
    "\n",
    "cm = [[0 for _ in range(5)] for _ in range(10)]\n",
    "for idx, label in enumerate(all_labels):\n",
    "    true_id = label2id[label] \n",
    "    pred_id = clustered_labels[idx]\n",
    "    cm[true_id][pred_id] += 1\n",
    "cm = np.array(cm)\n",
    "np.sum(cm,axis=0)"
   ]
  },
  {
   "cell_type": "code",
   "execution_count": 9,
   "metadata": {},
   "outputs": [
    {
     "data": {
      "text/plain": [
       "False"
      ]
     },
     "execution_count": 9,
     "metadata": {},
     "output_type": "execute_result"
    }
   ],
   "source": [
    "a = list(label2id.keys())\n",
    "labels_y = ['Eminem', 'Beyonce Knowles', 'Dua Lipa', 'Selena Gomez', 'Michael Jackson', 'Ariana Grande', 'Taylor Swift', 'Lady Gaga', 'XXXTentacion', 'Jennifer Lopez']\n",
    "a == labels_y"
   ]
  },
  {
   "cell_type": "code",
   "execution_count": 10,
   "metadata": {},
   "outputs": [
    {
     "data": {
      "text/plain": [
       "<AxesSubplot:xlabel='k-means labels', ylabel='Target labels'>"
      ]
     },
     "execution_count": 10,
     "metadata": {},
     "output_type": "execute_result"
    },
    {
     "data": {
      "image/png": "[encoded data removed]",
      "text/plain": [
       "<Figure size 432x288 with 1 Axes>"
      ]
     },
     "metadata": {
      "needs_background": "light"
     },
     "output_type": "display_data"
    }
   ],
   "source": [
    "# show confusion matrix\n",
    "from sklearn.metrics import confusion_matrix\n",
    "from sklearn.metrics import ConfusionMatrixDisplay\n",
    "import seaborn as sn\n",
    "\n",
    "def plotConfusionMatrix(cm, labels_val, labels_predicted):\n",
    "  cm = cm\n",
    "  colour_map = sn.color_palette(\"Reds\", as_cmap=True)\n",
    "  labels_x = labels_val\n",
    "  labels_y = labels_predicted #list(label2id.keys())#['Eminem', 'Beyonce Knowles', 'Dua Lipa', 'Selena Gomez', 'Michael Jackson', 'Ariana Grande', 'Taylor Swift', 'Lady Gaga', 'XXXTentacion', 'Jennifer Lopez']\n",
    "  plot = sn.heatmap(cm, \n",
    "                    annot=True, # Put the numbers in\n",
    "                    annot_kws={\"size\": 16}, # Make the numbers bigger\n",
    "                    fmt='g', # Stop scientific notation\n",
    "                    cmap = colour_map, # Choose the colour palette\n",
    "                    cbar = False, # Don't include the colour bar\n",
    "                    xticklabels=labels_x,#labels_x, # Put in the X and Y labels\n",
    "                    yticklabels=labels_y)\n",
    "  plot.set(xlabel='k-means labels', ylabel='Target labels')\n",
    "  return plot\n",
    "\n",
    "plotConfusionMatrix(cm, [str(i) for i in range(5)] ,list(label2id.keys()))"
   ]
  },
  {
   "cell_type": "code",
   "execution_count": 12,
   "metadata": {},
   "outputs": [
    {
     "data": {
      "text/plain": [
       "Counter({2: 1010, 4: 378, 3: 257, 0: 118, 1: 21})"
      ]
     },
     "execution_count": 12,
     "metadata": {},
     "output_type": "execute_result"
    }
   ],
   "source": [
    "# unnecessary\n",
    "from sklearn.cluster import KMeans\n",
    "from collections import Counter\n",
    "kmeans = KMeans(n_clusters=5, random_state=10).fit_predict(texts_vector)\n",
    "Counter(kmeans)"
   ]
  },
  {
   "cell_type": "code",
   "execution_count": null,
   "metadata": {},
   "outputs": [],
   "source": []
  },
  {
   "attachments": {},
   "cell_type": "markdown",
   "metadata": {},
   "source": [
    "# Q3-Comparing Classifiers"
   ]
  },
  {
   "cell_type": "code",
   "execution_count": 4,
   "metadata": {},
   "outputs": [],
   "source": [
    "\n",
    "# Show classifier performance\n",
    "from sklearn.metrics import accuracy_score, precision_score, recall_score, f1_score\n",
    "def showPerformance(labels_true, labels_predicted):\n",
    "    print(f'accuracy ={accuracy_score(labels_true, labels_predicted):.3f}')\n",
    "    print(f'precision={precision_score(labels_true, labels_predicted, average=\"macro\"):.3f}')\n",
    "    print(f'recall   ={recall_score(labels_true, labels_predicted, average=\"macro\"):.3f}') \n",
    "    print(f'f1       ={f1_score(labels_true, labels_predicted, average=\"macro\"):.3f}')\n",
    "    return ;\n"
   ]
  },
  {
   "attachments": {},
   "cell_type": "markdown",
   "metadata": {},
   "source": [
    "### Dummy Classifier with strategy=\"most_frequent\""
   ]
  },
  {
   "cell_type": "code",
   "execution_count": 20,
   "metadata": {},
   "outputs": [
    {
     "name": "stdout",
     "output_type": "stream",
     "text": [
      "0.08403361344537816\n",
      "on validation\n",
      "accuracy =0.084\n",
      "precision=0.008\n",
      "recall   =0.100\n",
      "f1       =0.016\n",
      "\n",
      "on training\n",
      "accuracy =0.127\n",
      "precision=0.013\n",
      "recall   =0.100\n",
      "f1       =0.023\n"
     ]
    },
    {
     "name": "stderr",
     "output_type": "stream",
     "text": [
      "/home/denjo/.local/lib/python3.8/site-packages/sklearn/metrics/_classification.py:1334: UndefinedMetricWarning: Precision is ill-defined and being set to 0.0 in labels with no predicted samples. Use `zero_division` parameter to control this behavior.\n",
      "  _warn_prf(average, modifier, msg_start, len(result))\n",
      "/home/denjo/.local/lib/python3.8/site-packages/sklearn/metrics/_classification.py:1334: UndefinedMetricWarning: Precision is ill-defined and being set to 0.0 in labels with no predicted samples. Use `zero_division` parameter to control this behavior.\n",
      "  _warn_prf(average, modifier, msg_start, len(result))\n"
     ]
    }
   ],
   "source": [
    "from sklearn.dummy import DummyClassifier\n",
    "dummy_clf = DummyClassifier(strategy=\"most_frequent\")\n",
    "dummy_clf.fit(texts_train,labels_train)\n",
    "labels_predicted = dummy_clf.predict(texts_val)\n",
    "\n",
    "print(dummy_clf.score(texts_val, labels_val))\n",
    "print(\"on validation\")\n",
    "showPerformance(labels_val, labels_predicted)\n",
    "print(\"\\non training\")\n",
    "showPerformance(labels_train, dummy_clf.predict(texts_train))"
   ]
  },
  {
   "attachments": {},
   "cell_type": "markdown",
   "metadata": {},
   "source": [
    "### Dummy Classifier with strategy=\"stratified\""
   ]
  },
  {
   "cell_type": "code",
   "execution_count": 22,
   "metadata": {},
   "outputs": [
    {
     "name": "stdout",
     "output_type": "stream",
     "text": [
      "accuracy =0.106\n",
      "precision=0.101\n",
      "recall   =0.101\n",
      "f1       =0.100\n",
      "\n",
      "on training\n",
      "accuracy =0.095\n",
      "precision=0.090\n",
      "recall   =0.090\n",
      "f1       =0.090\n"
     ]
    }
   ],
   "source": [
    "from sklearn.dummy import DummyClassifier\n",
    "dummy_clf = DummyClassifier(strategy=\"stratified\")\n",
    "dummy_clf.fit(texts_train,labels_train)\n",
    "labels_predicted = dummy_clf.predict(texts_val)\n",
    "\n",
    "# print(dummy_clf.score(texts_val, labels_val))\n",
    "showPerformance(labels_val, labels_predicted)\n",
    "\n",
    "print(\"\\non training\")\n",
    "showPerformance(labels_train, dummy_clf.predict(texts_train))"
   ]
  },
  {
   "attachments": {},
   "cell_type": "markdown",
   "metadata": {},
   "source": [
    "### LogisticRegression with one-hot vectorization"
   ]
  },
  {
   "cell_type": "code",
   "execution_count": 25,
   "metadata": {},
   "outputs": [
    {
     "name": "stdout",
     "output_type": "stream",
     "text": [
      "accuracy =0.563\n",
      "precision=0.565\n",
      "recall   =0.567\n",
      "f1       =0.556\n",
      "\n",
      "on training\n",
      "accuracy =1.000\n",
      "precision=1.000\n",
      "recall   =1.000\n",
      "f1       =1.000\n"
     ]
    }
   ],
   "source": [
    "from sklearn.feature_extraction.text import CountVectorizer\n",
    "from sklearn.linear_model import LogisticRegression\n",
    "vectorizer = CountVectorizer(tokenizer=text_pipeline_spacy,stop_words=my_stop_words)\n",
    "\n",
    "vect_texts_train = vectorizer.fit_transform(texts_train)\n",
    "vect_texts_train[vect_texts_train != 0] = 1 # convert non-zero counting into 1\n",
    "\n",
    "vect_texts_val = vectorizer.transform(texts_val)\n",
    "vect_texts_val[vect_texts_val != 0] = 1\n",
    "\n",
    "# Logistic Regression\n",
    "clf = LogisticRegression(random_state=42,max_iter=1000).fit(vect_texts_train, labels_train)\n",
    "labels_predicted = clf.predict(vect_texts_val)\n",
    "\n",
    "\n",
    "showPerformance(labels_val, labels_predicted)\n",
    "\n",
    "print(\"\\non training\")\n",
    "showPerformance(labels_train, clf.predict(vect_texts_train))"
   ]
  },
  {
   "attachments": {},
   "cell_type": "markdown",
   "metadata": {},
   "source": [
    "### LogisticRegression with TF-IDF vectorization"
   ]
  },
  {
   "cell_type": "code",
   "execution_count": 26,
   "metadata": {},
   "outputs": [
    {
     "name": "stdout",
     "output_type": "stream",
     "text": [
      "accuracy =0.451\n",
      "precision=0.424\n",
      "recall   =0.444\n",
      "f1       =0.413\n",
      "\n",
      "on training\n",
      "accuracy =0.895\n",
      "precision=0.906\n",
      "recall   =0.867\n",
      "f1       =0.874\n"
     ]
    },
    {
     "name": "stderr",
     "output_type": "stream",
     "text": [
      "/home/denjo/.local/lib/python3.8/site-packages/sklearn/metrics/_classification.py:1334: UndefinedMetricWarning: Precision is ill-defined and being set to 0.0 in labels with no predicted samples. Use `zero_division` parameter to control this behavior.\n",
      "  _warn_prf(average, modifier, msg_start, len(result))\n"
     ]
    }
   ],
   "source": [
    "vectorizer = TfidfVectorizer(tokenizer=text_pipeline_spacy,stop_words=my_stop_words)\n",
    "vect_texts_train = vectorizer.fit_transform(texts_train)\n",
    "vect_texts_val = vectorizer.transform(texts_val)\n",
    "\n",
    "# Logistic Regression\n",
    "clf = LogisticRegression(random_state=42).fit(vect_texts_train, labels_train)\n",
    "labels_predicted = clf.predict(vect_texts_val)\n",
    "\n",
    "\n",
    "showPerformance(labels_val, labels_predicted)\n",
    "\n",
    "print(\"\\non training\")\n",
    "showPerformance(labels_train, clf.predict(vect_texts_train))\n"
   ]
  },
  {
   "attachments": {},
   "cell_type": "markdown",
   "metadata": {},
   "source": [
    "### SVC Classifier with One-hot vectorization"
   ]
  },
  {
   "cell_type": "code",
   "execution_count": 27,
   "metadata": {},
   "outputs": [
    {
     "name": "stdout",
     "output_type": "stream",
     "text": [
      "accuracy =0.518\n",
      "precision=0.498\n",
      "recall   =0.514\n",
      "f1       =0.481\n",
      "\n",
      "on training\n"
     ]
    },
    {
     "name": "stderr",
     "output_type": "stream",
     "text": [
      "/home/denjo/.local/lib/python3.8/site-packages/sklearn/metrics/_classification.py:1334: UndefinedMetricWarning: Precision is ill-defined and being set to 0.0 in labels with no predicted samples. Use `zero_division` parameter to control this behavior.\n",
      "  _warn_prf(average, modifier, msg_start, len(result))\n"
     ]
    },
    {
     "name": "stdout",
     "output_type": "stream",
     "text": [
      "accuracy =0.936\n",
      "precision=0.943\n",
      "recall   =0.912\n",
      "f1       =0.919\n"
     ]
    }
   ],
   "source": [
    "# making one-hot vectors\n",
    "from sklearn.feature_extraction.text import CountVectorizer\n",
    "vectorizer = CountVectorizer(tokenizer=text_pipeline_spacy,stop_words=my_stop_words)\n",
    "vect_texts_train = vectorizer.fit_transform(texts_train)\n",
    "vect_texts_train[vect_texts_train != 0] = 1 # convert non-zero counting into 1\n",
    "\n",
    "vect_texts_val = vectorizer.transform(texts_val)\n",
    "vect_texts_val[vect_texts_val != 0] = 1\n",
    "\n",
    "from sklearn.svm import SVC\n",
    "clf = SVC(random_state=42).fit(vect_texts_train, labels_train)\n",
    "labels_predicted = clf.predict(vect_texts_val)\n",
    "\n",
    "\n",
    "showPerformance(labels_val, labels_predicted)\n",
    "\n",
    "print(\"\\non training\")\n",
    "showPerformance(labels_train, clf.predict(vect_texts_train))"
   ]
  },
  {
   "attachments": {},
   "cell_type": "markdown",
   "metadata": {},
   "source": [
    "#### bar chart for F1 scores in LR with One-hot"
   ]
  },
  {
   "cell_type": "code",
   "execution_count": 28,
   "metadata": {},
   "outputs": [
    {
     "name": "stdout",
     "output_type": "stream",
     "text": [
      "accuracy =0.563\n",
      "precision=0.565\n",
      "recall   =0.567\n",
      "f1       =0.556\n"
     ]
    }
   ],
   "source": [
    "# calculate labels again\n",
    "vectorizer = CountVectorizer(tokenizer=text_pipeline_spacy,stop_words=my_stop_words)\n",
    "\n",
    "vect_texts_train = vectorizer.fit_transform(texts_train)\n",
    "vect_texts_train[vect_texts_train != 0] = 1 # convert non-zero counting into 1\n",
    "vect_texts_val = vectorizer.transform(texts_val)\n",
    "vect_texts_val[vect_texts_val != 0] = 1\n",
    "# Logistic Regression\n",
    "clf = LogisticRegression(random_state=42,max_iter=1000).fit(vect_texts_train, labels_train)\n",
    "labels_predicted = clf.predict(vect_texts_val)\n",
    "\n",
    "\n",
    "showPerformance(labels_val, labels_predicted)"
   ]
  },
  {
   "cell_type": "code",
   "execution_count": 43,
   "metadata": {},
   "outputs": [
    {
     "name": "stderr",
     "output_type": "stream",
     "text": [
      "/tmp/ipykernel_30475/267435486.py:27: UserWarning: Matplotlib is currently using module://matplotlib_inline.backend_inline, which is a non-GUI backend, so cannot show the figure.\n",
      "  fig.show()\n"
     ]
    },
    {
     "data": {
      "image/png": "[encoded data removed]",
      "text/plain": [
       "<Figure size 432x288 with 1 Axes>"
      ]
     },
     "metadata": {
      "needs_background": "light"
     },
     "output_type": "display_data"
    }
   ],
   "source": [
    "#a) drawing a bar chart for F1 scores\n",
    "import matplotlib.pyplot as plt\n",
    "\n",
    "# Calculate F1 score for each class\n",
    "label_set = set(labels_val)\n",
    "f1_scores = np.zeros(10)\n",
    "for idx,l in enumerate(label_set):\n",
    "    true_mask = np.array(labels_val) == l\n",
    "    pred_mask = np.array(labels_predicted) == l\n",
    "    f1_scores[idx] = f1_score(true_mask, pred_mask)\n",
    "\n",
    "# Plot bar chart with F1 score for each class\n",
    "fig = plt.figure()\n",
    "ax = fig.add_subplot()\n",
    "ax.bar(range(10), f1_scores)\n",
    "ax.set_xlabel(\"Class\")\n",
    "ax.set_ylabel(\"F1 Score\")\n",
    "ax.set_xticks(range(10))\n",
    "\n",
    "ax.set_xticklabels(list(label_set),rotation=90)\n",
    "fig.savefig(\"./figures/F1score.png\", bbox_inches=\"tight\")\n",
    "fig.show()\n"
   ]
  },
  {
   "attachments": {},
   "cell_type": "markdown",
   "metadata": {},
   "source": [
    "### b) my classifier"
   ]
  },
  {
   "cell_type": "code",
   "execution_count": 79,
   "metadata": {},
   "outputs": [
    {
     "name": "stdout",
     "output_type": "stream",
     "text": [
      "[[0.48507125 0.48507125 0.72760688]]\n"
     ]
    },
    {
     "data": {
      "text/plain": [
       "dict_keys(['oh', '-', 'ah'])"
      ]
     },
     "execution_count": 79,
     "metadata": {},
     "output_type": "execute_result"
    }
   ],
   "source": [
    "# my tokenizer\n",
    "def my_text_pipeline_spacy(text):\n",
    "    tokens = []\n",
    "    doc = nlp(text)\n",
    "    for t in doc:\n",
    "        # maintain punctuation, stopwords, Capital words\n",
    "        if not t.is_space:\n",
    "            tokens.append(t.lemma_)\n",
    "    return tokens\n",
    "vectorizer = TfidfVectorizer(tokenizer=my_text_pipeline_spacy)#tokenizer=None, stop_words=None,lowercase=False)\n",
    "print(vectorizer.fit_transform([\"Oh-oh-oh \\tah ah\"]).todense())\n",
    "vectorizer.vocabulary_.keys()\n"
   ]
  },
  {
   "cell_type": "code",
   "execution_count": 80,
   "metadata": {},
   "outputs": [
    {
     "name": "stdout",
     "output_type": "stream",
     "text": [
      "(1070, 15354)\n",
      "accuracy =0.443\n",
      "precision=0.413\n",
      "recall   =0.437\n",
      "f1       =0.403\n",
      "\n",
      "on training\n",
      "accuracy =0.839\n",
      "precision=0.854\n",
      "recall   =0.805\n",
      "f1       =0.812\n"
     ]
    },
    {
     "name": "stderr",
     "output_type": "stream",
     "text": [
      "/home/denjo/.local/lib/python3.8/site-packages/sklearn/metrics/_classification.py:1334: UndefinedMetricWarning: Precision is ill-defined and being set to 0.0 in labels with no predicted samples. Use `zero_division` parameter to control this behavior.\n",
      "  _warn_prf(average, modifier, msg_start, len(result))\n"
     ]
    }
   ],
   "source": [
    "vectorizer = TfidfVectorizer(tokenizer=my_text_pipeline_spacy)\n",
    "vect_texts_train = vectorizer.fit_transform(texts_train)\n",
    "vect_texts_val = vectorizer.transform(texts_val)\n",
    "\n",
    "print(vect_texts_train.shape)\n",
    "# Logistic Regression\n",
    "clf = LogisticRegression(random_state=42).fit(vect_texts_train, labels_train)\n",
    "labels_predicted = clf.predict(vect_texts_val)\n",
    "\n",
    "\n",
    "showPerformance(labels_val, labels_predicted)\n",
    "\n",
    "print(\"\\non training\")\n",
    "showPerformance(labels_train, clf.predict(vect_texts_train))\n"
   ]
  },
  {
   "cell_type": "code",
   "execution_count": 74,
   "metadata": {},
   "outputs": [
    {
     "name": "stdout",
     "output_type": "stream",
     "text": [
      "find\n"
     ]
    }
   ],
   "source": [
    "vect_texts_train[0].todense()\n",
    "for i in vectorizer.vocabulary_.keys():\n",
    "    if(i == '-'):\n",
    "        print(\"find\")"
   ]
  },
  {
   "attachments": {},
   "cell_type": "markdown",
   "metadata": {},
   "source": [
    "# Q4-Parameter Tuning"
   ]
  },
  {
   "attachments": {},
   "cell_type": "markdown",
   "metadata": {},
   "source": [
    "#### choose C value"
   ]
  },
  {
   "cell_type": "code",
   "execution_count": 102,
   "metadata": {},
   "outputs": [
    {
     "data": {
      "text/html": [
       "<div>\n",
       "<style scoped>\n",
       "    .dataframe tbody tr th:only-of-type {\n",
       "        vertical-align: middle;\n",
       "    }\n",
       "\n",
       "    .dataframe tbody tr th {\n",
       "        vertical-align: top;\n",
       "    }\n",
       "\n",
       "    .dataframe thead th {\n",
       "        text-align: right;\n",
       "    }\n",
       "</style>\n",
       "<table border=\"1\" class=\"dataframe\">\n",
       "  <thead>\n",
       "    <tr style=\"text-align: right;\">\n",
       "      <th></th>\n",
       "      <th>parameter</th>\n",
       "      <th>accuracy</th>\n",
       "      <th>precision</th>\n",
       "      <th>recall</th>\n",
       "      <th>F1</th>\n",
       "    </tr>\n",
       "  </thead>\n",
       "  <tbody>\n",
       "    <tr>\n",
       "      <th>010</th>\n",
       "      <td>0.111</td>\n",
       "      <td>0.2</td>\n",
       "      <td>0.1</td>\n",
       "      <td>0.3</td>\n",
       "      <td>0.4</td>\n",
       "    </tr>\n",
       "  </tbody>\n",
       "</table>\n",
       "</div>"
      ],
      "text/plain": [
       "     parameter  accuracy  precision  recall   F1\n",
       "010      0.111       0.2        0.1     0.3  0.4"
      ]
     },
     "execution_count": 102,
     "metadata": {},
     "output_type": "execute_result"
    }
   ],
   "source": [
    "\n",
    "import pandas as pd\n",
    "results = pd.DataFrame({\"parameter\":[],\n",
    "                        \"accuracy\":[],\n",
    "                        \"precision\":[],\n",
    "                        \"recall\":[],\n",
    "                        \"F1\":[]})\n",
    "a=10\n",
    "results.loc[f'0{a}'] = [0.11111,0.2,0.1,0.3,0.4]\n",
    "results.round(3)"
   ]
  },
  {
   "cell_type": "code",
   "execution_count": 105,
   "metadata": {},
   "outputs": [
    {
     "name": "stderr",
     "output_type": "stream",
     "text": [
      "  0%|          | 0/9 [00:00<?, ?it/s]/home/denjo/.local/lib/python3.8/site-packages/sklearn/metrics/_classification.py:1334: UndefinedMetricWarning: Precision is ill-defined and being set to 0.0 in labels with no predicted samples. Use `zero_division` parameter to control this behavior.\n",
      "  _warn_prf(average, modifier, msg_start, len(result))\n",
      " 11%|█         | 1/9 [02:11<17:35, 131.88s/it]/home/denjo/.local/lib/python3.8/site-packages/sklearn/metrics/_classification.py:1334: UndefinedMetricWarning: Precision is ill-defined and being set to 0.0 in labels with no predicted samples. Use `zero_division` parameter to control this behavior.\n",
      "  _warn_prf(average, modifier, msg_start, len(result))\n",
      " 22%|██▏       | 2/9 [04:09<14:23, 123.40s/it]/home/denjo/.local/lib/python3.8/site-packages/sklearn/metrics/_classification.py:1334: UndefinedMetricWarning: Precision is ill-defined and being set to 0.0 in labels with no predicted samples. Use `zero_division` parameter to control this behavior.\n",
      "  _warn_prf(average, modifier, msg_start, len(result))\n",
      " 33%|███▎      | 3/9 [06:19<12:39, 126.58s/it]/home/denjo/.local/lib/python3.8/site-packages/sklearn/metrics/_classification.py:1334: UndefinedMetricWarning: Precision is ill-defined and being set to 0.0 in labels with no predicted samples. Use `zero_division` parameter to control this behavior.\n",
      "  _warn_prf(average, modifier, msg_start, len(result))\n",
      "100%|██████████| 9/9 [19:54<00:00, 132.68s/it]\n"
     ]
    },
    {
     "data": {
      "text/html": [
       "<div>\n",
       "<style scoped>\n",
       "    .dataframe tbody tr th:only-of-type {\n",
       "        vertical-align: middle;\n",
       "    }\n",
       "\n",
       "    .dataframe tbody tr th {\n",
       "        vertical-align: top;\n",
       "    }\n",
       "\n",
       "    .dataframe thead th {\n",
       "        text-align: right;\n",
       "    }\n",
       "</style>\n",
       "<table border=\"1\" class=\"dataframe\">\n",
       "  <thead>\n",
       "    <tr style=\"text-align: right;\">\n",
       "      <th></th>\n",
       "      <th>accuracy</th>\n",
       "      <th>precision</th>\n",
       "      <th>recall</th>\n",
       "      <th>F1</th>\n",
       "    </tr>\n",
       "  </thead>\n",
       "  <tbody>\n",
       "    <tr>\n",
       "      <th>C=0.001</th>\n",
       "      <td>0.084</td>\n",
       "      <td>0.008</td>\n",
       "      <td>0.100</td>\n",
       "      <td>0.016</td>\n",
       "    </tr>\n",
       "    <tr>\n",
       "      <th>C=0.01</th>\n",
       "      <td>0.084</td>\n",
       "      <td>0.008</td>\n",
       "      <td>0.100</td>\n",
       "      <td>0.016</td>\n",
       "    </tr>\n",
       "    <tr>\n",
       "      <th>C=0.1</th>\n",
       "      <td>0.263</td>\n",
       "      <td>0.346</td>\n",
       "      <td>0.269</td>\n",
       "      <td>0.233</td>\n",
       "    </tr>\n",
       "    <tr>\n",
       "      <th>C=1.0</th>\n",
       "      <td>0.457</td>\n",
       "      <td>0.434</td>\n",
       "      <td>0.451</td>\n",
       "      <td>0.421</td>\n",
       "    </tr>\n",
       "    <tr>\n",
       "      <th>C=10.0</th>\n",
       "      <td>0.485</td>\n",
       "      <td>0.489</td>\n",
       "      <td>0.484</td>\n",
       "      <td>0.479</td>\n",
       "    </tr>\n",
       "    <tr>\n",
       "      <th>C=100.0</th>\n",
       "      <td>0.473</td>\n",
       "      <td>0.469</td>\n",
       "      <td>0.472</td>\n",
       "      <td>0.466</td>\n",
       "    </tr>\n",
       "    <tr>\n",
       "      <th>C=1000.0</th>\n",
       "      <td>0.468</td>\n",
       "      <td>0.460</td>\n",
       "      <td>0.467</td>\n",
       "      <td>0.461</td>\n",
       "    </tr>\n",
       "    <tr>\n",
       "      <th>C=10000.0</th>\n",
       "      <td>0.462</td>\n",
       "      <td>0.455</td>\n",
       "      <td>0.463</td>\n",
       "      <td>0.456</td>\n",
       "    </tr>\n",
       "    <tr>\n",
       "      <th>C=100000.0</th>\n",
       "      <td>0.462</td>\n",
       "      <td>0.455</td>\n",
       "      <td>0.462</td>\n",
       "      <td>0.455</td>\n",
       "    </tr>\n",
       "  </tbody>\n",
       "</table>\n",
       "</div>"
      ],
      "text/plain": [
       "            accuracy  precision  recall     F1\n",
       "C=0.001        0.084      0.008   0.100  0.016\n",
       "C=0.01         0.084      0.008   0.100  0.016\n",
       "C=0.1          0.263      0.346   0.269  0.233\n",
       "C=1.0          0.457      0.434   0.451  0.421\n",
       "C=10.0         0.485      0.489   0.484  0.479\n",
       "C=100.0        0.473      0.469   0.472  0.466\n",
       "C=1000.0       0.468      0.460   0.467  0.461\n",
       "C=10000.0      0.462      0.455   0.463  0.456\n",
       "C=100000.0     0.462      0.455   0.462  0.455"
      ]
     },
     "execution_count": 105,
     "metadata": {},
     "output_type": "execute_result"
    }
   ],
   "source": [
    "import pandas as pd\n",
    "from tqdm import tqdm\n",
    "from sklearn.model_selection import ParameterGrid\n",
    "param_C = {'C':np.logspace(-3,5,9,base=10.0)}\n",
    "\n",
    "results = pd.DataFrame({\"accuracy\":[],\n",
    "                        \"precision\":[],\n",
    "                        \"recall\":[],\n",
    "                        \"F1\":[]})\n",
    "\n",
    "# max_f1 = 0\n",
    "# best_param = {}\n",
    "for params in tqdm(ParameterGrid(param_C)):\n",
    "  # vectorize training set and validation set\n",
    "  vectorizer = TfidfVectorizer(tokenizer=text_pipeline_spacy, stop_words=my_stop_words)\n",
    "  vect_texts_train = vectorizer.fit_transform(texts_train)\n",
    "  vect_texts_val = vectorizer.transform(texts_val)\n",
    "\n",
    "  # logistic regression\n",
    "  clf = LogisticRegression(random_state=42,C=params['C'],max_iter=1000).fit(vect_texts_train, labels_train)\n",
    "  labels_predicted = clf.predict(vect_texts_val)\n",
    "\n",
    "  results.loc[f\"C={params['C']}\"] = [accuracy_score(labels_val, labels_predicted),\n",
    "                                     precision_score(labels_val,labels_predicted,average=\"macro\"),\n",
    "                                     recall_score(labels_val, labels_predicted, average=\"macro\"),\n",
    "                                     f1_score(labels_val, labels_predicted, average=\"macro\")\n",
    "                                    ]\n",
    "#   cur_f1 = f1_score(labels_val, labels_predicted,average=\"macro\")\n",
    "#   if(cur_f1 > max_f1):\n",
    "#     max_f1 = cur_f1\n",
    "#     best_param = params\n",
    "\n",
    "# print(f'{best_param=}')\n",
    "# print(f'{max_f1:.3f}')\n",
    "results.round(3)\n",
    "\n"
   ]
  },
  {
   "attachments": {},
   "cell_type": "markdown",
   "metadata": {},
   "source": [
    "#### choose vectorizer"
   ]
  },
  {
   "cell_type": "code",
   "execution_count": 107,
   "metadata": {},
   "outputs": [
    {
     "name": "stderr",
     "output_type": "stream",
     "text": [
      " 17%|█▋        | 2/12 [03:57<19:46, 118.67s/it]/home/denjo/.local/lib/python3.8/site-packages/sklearn/metrics/_classification.py:1334: UndefinedMetricWarning: Precision is ill-defined and being set to 0.0 in labels with no predicted samples. Use `zero_division` parameter to control this behavior.\n",
      "  _warn_prf(average, modifier, msg_start, len(result))\n",
      " 25%|██▌       | 3/12 [05:42<16:55, 112.79s/it]/home/denjo/.local/lib/python3.8/site-packages/sklearn/metrics/_classification.py:1334: UndefinedMetricWarning: Precision is ill-defined and being set to 0.0 in labels with no predicted samples. Use `zero_division` parameter to control this behavior.\n",
      "  _warn_prf(average, modifier, msg_start, len(result))\n",
      "100%|██████████| 12/12 [19:21<00:00, 96.80s/it]\n"
     ]
    },
    {
     "data": {
      "text/html": [
       "<div>\n",
       "<style scoped>\n",
       "    .dataframe tbody tr th:only-of-type {\n",
       "        vertical-align: middle;\n",
       "    }\n",
       "\n",
       "    .dataframe tbody tr th {\n",
       "        vertical-align: top;\n",
       "    }\n",
       "\n",
       "    .dataframe thead th {\n",
       "        text-align: right;\n",
       "    }\n",
       "</style>\n",
       "<table border=\"1\" class=\"dataframe\">\n",
       "  <thead>\n",
       "    <tr style=\"text-align: right;\">\n",
       "      <th></th>\n",
       "      <th>accuracy</th>\n",
       "      <th>precision</th>\n",
       "      <th>recall</th>\n",
       "      <th>F1</th>\n",
       "    </tr>\n",
       "  </thead>\n",
       "  <tbody>\n",
       "    <tr>\n",
       "      <th>MF=None,SF=True</th>\n",
       "      <td>0.571</td>\n",
       "      <td>0.584</td>\n",
       "      <td>0.565</td>\n",
       "      <td>0.554</td>\n",
       "    </tr>\n",
       "    <tr>\n",
       "      <th>MF=None,SF=False</th>\n",
       "      <td>0.485</td>\n",
       "      <td>0.489</td>\n",
       "      <td>0.484</td>\n",
       "      <td>0.479</td>\n",
       "    </tr>\n",
       "    <tr>\n",
       "      <th>MF=5,SF=True</th>\n",
       "      <td>0.196</td>\n",
       "      <td>0.124</td>\n",
       "      <td>0.203</td>\n",
       "      <td>0.147</td>\n",
       "    </tr>\n",
       "    <tr>\n",
       "      <th>MF=5,SF=False</th>\n",
       "      <td>0.196</td>\n",
       "      <td>0.124</td>\n",
       "      <td>0.205</td>\n",
       "      <td>0.143</td>\n",
       "    </tr>\n",
       "    <tr>\n",
       "      <th>MF=50,SF=True</th>\n",
       "      <td>0.412</td>\n",
       "      <td>0.415</td>\n",
       "      <td>0.423</td>\n",
       "      <td>0.407</td>\n",
       "    </tr>\n",
       "    <tr>\n",
       "      <th>MF=50,SF=False</th>\n",
       "      <td>0.367</td>\n",
       "      <td>0.366</td>\n",
       "      <td>0.369</td>\n",
       "      <td>0.358</td>\n",
       "    </tr>\n",
       "    <tr>\n",
       "      <th>MF=500,SF=True</th>\n",
       "      <td>0.499</td>\n",
       "      <td>0.504</td>\n",
       "      <td>0.501</td>\n",
       "      <td>0.495</td>\n",
       "    </tr>\n",
       "    <tr>\n",
       "      <th>MF=500,SF=False</th>\n",
       "      <td>0.415</td>\n",
       "      <td>0.418</td>\n",
       "      <td>0.422</td>\n",
       "      <td>0.414</td>\n",
       "    </tr>\n",
       "    <tr>\n",
       "      <th>MF=5000,SF=True</th>\n",
       "      <td>0.577</td>\n",
       "      <td>0.589</td>\n",
       "      <td>0.575</td>\n",
       "      <td>0.567</td>\n",
       "    </tr>\n",
       "    <tr>\n",
       "      <th>MF=5000,SF=False</th>\n",
       "      <td>0.473</td>\n",
       "      <td>0.470</td>\n",
       "      <td>0.473</td>\n",
       "      <td>0.465</td>\n",
       "    </tr>\n",
       "    <tr>\n",
       "      <th>MF=50000,SF=True</th>\n",
       "      <td>0.571</td>\n",
       "      <td>0.584</td>\n",
       "      <td>0.565</td>\n",
       "      <td>0.554</td>\n",
       "    </tr>\n",
       "    <tr>\n",
       "      <th>MF=50000,SF=False</th>\n",
       "      <td>0.485</td>\n",
       "      <td>0.489</td>\n",
       "      <td>0.484</td>\n",
       "      <td>0.479</td>\n",
       "    </tr>\n",
       "  </tbody>\n",
       "</table>\n",
       "</div>"
      ],
      "text/plain": [
       "                   accuracy  precision  recall     F1\n",
       "MF=None,SF=True       0.571      0.584   0.565  0.554\n",
       "MF=None,SF=False      0.485      0.489   0.484  0.479\n",
       "MF=5,SF=True          0.196      0.124   0.203  0.147\n",
       "MF=5,SF=False         0.196      0.124   0.205  0.143\n",
       "MF=50,SF=True         0.412      0.415   0.423  0.407\n",
       "MF=50,SF=False        0.367      0.366   0.369  0.358\n",
       "MF=500,SF=True        0.499      0.504   0.501  0.495\n",
       "MF=500,SF=False       0.415      0.418   0.422  0.414\n",
       "MF=5000,SF=True       0.577      0.589   0.575  0.567\n",
       "MF=5000,SF=False      0.473      0.470   0.473  0.465\n",
       "MF=50000,SF=True      0.571      0.584   0.565  0.554\n",
       "MF=50000,SF=False     0.485      0.489   0.484  0.479"
      ]
     },
     "execution_count": 107,
     "metadata": {},
     "output_type": "execute_result"
    }
   ],
   "source": [
    "param_vec = {'max_features':[None, 5, 50, 500, 5000, 50000], 'sublinear_tf':[True,False]}\n",
    "\n",
    "results = pd.DataFrame({\"accuracy\":[],\n",
    "                        \"precision\":[],\n",
    "                        \"recall\":[],\n",
    "                        \"F1\":[]})\n",
    "# max_f1 = 0\n",
    "# best_param = {}\n",
    "for params in tqdm(ParameterGrid(param_vec)):\n",
    "  # vectorize training set and validation set\n",
    "  vectorizer = TfidfVectorizer(tokenizer=text_pipeline_spacy,stop_words=my_stop_words, max_features=params[\"max_features\"], sublinear_tf=params[\"sublinear_tf\"])\n",
    "  vect_texts_train = vectorizer.fit_transform(texts_train)\n",
    "  vect_texts_val = vectorizer.transform(texts_val)\n",
    "\n",
    "  # logistic regression\n",
    "  clf = LogisticRegression(random_state=42,C=10,max_iter=1000).fit(vect_texts_train, labels_train)\n",
    "  labels_predicted = clf.predict(vect_texts_val)\n",
    "\n",
    "  results.loc[f\"MF={params['max_features']},SF={params['sublinear_tf']}\"] = \\\n",
    "                                    [accuracy_score(labels_val, labels_predicted),\n",
    "                                     precision_score(labels_val,labels_predicted,average=\"macro\"),\n",
    "                                     recall_score(labels_val, labels_predicted, average=\"macro\"),\n",
    "                                     f1_score(labels_val, labels_predicted, average=\"macro\")\n",
    "                                    ]\n",
    "#   cur_f1 = f1_score(labels_val, labels_predicted,average=\"macro\")\n",
    "#   if(cur_f1 > max_f1):\n",
    "#     max_f1 = cur_f1\n",
    "#     best_param = params\n",
    "\n",
    "# print(f'{best_param=}')\n",
    "# print(f'{max_f1:.3f}')\n",
    "results.round(3)\n"
   ]
  },
  {
   "cell_type": "code",
   "execution_count": 115,
   "metadata": {},
   "outputs": [
    {
     "name": "stderr",
     "output_type": "stream",
     "text": [
      "  0%|          | 0/4 [00:00<?, ?it/s]/home/denjo/.local/lib/python3.8/site-packages/sklearn/linear_model/_logistic.py:1106: UserWarning: l1_ratio parameter is only used when penalty is 'elasticnet'. Got (penalty=none)\n",
      "  warnings.warn(\n",
      "/home/denjo/.local/lib/python3.8/site-packages/sklearn/linear_model/_logistic.py:1113: UserWarning: Setting penalty='none' will ignore the C and l1_ratio parameters\n",
      "  warnings.warn(\n",
      " 25%|██▌       | 1/4 [00:05<00:16,  5.61s/it]/home/denjo/.local/lib/python3.8/site-packages/sklearn/linear_model/_logistic.py:1106: UserWarning: l1_ratio parameter is only used when penalty is 'elasticnet'. Got (penalty=l2)\n",
      "  warnings.warn(\n",
      " 50%|█████     | 2/4 [00:06<00:06,  3.04s/it]/home/denjo/.local/lib/python3.8/site-packages/sklearn/linear_model/_logistic.py:1106: UserWarning: l1_ratio parameter is only used when penalty is 'elasticnet'. Got (penalty=l1)\n",
      "  warnings.warn(\n",
      "100%|██████████| 4/4 [00:34<00:00,  8.53s/it]\n"
     ]
    },
    {
     "data": {
      "text/html": [
       "<div>\n",
       "<style scoped>\n",
       "    .dataframe tbody tr th:only-of-type {\n",
       "        vertical-align: middle;\n",
       "    }\n",
       "\n",
       "    .dataframe tbody tr th {\n",
       "        vertical-align: top;\n",
       "    }\n",
       "\n",
       "    .dataframe thead th {\n",
       "        text-align: right;\n",
       "    }\n",
       "</style>\n",
       "<table border=\"1\" class=\"dataframe\">\n",
       "  <thead>\n",
       "    <tr style=\"text-align: right;\">\n",
       "      <th></th>\n",
       "      <th>accuracy</th>\n",
       "      <th>precision</th>\n",
       "      <th>recall</th>\n",
       "      <th>F1</th>\n",
       "    </tr>\n",
       "  </thead>\n",
       "  <tbody>\n",
       "    <tr>\n",
       "      <th>param:none</th>\n",
       "      <td>0.552</td>\n",
       "      <td>0.560</td>\n",
       "      <td>0.554</td>\n",
       "      <td>0.549</td>\n",
       "    </tr>\n",
       "    <tr>\n",
       "      <th>param:l2</th>\n",
       "      <td>0.577</td>\n",
       "      <td>0.589</td>\n",
       "      <td>0.575</td>\n",
       "      <td>0.567</td>\n",
       "    </tr>\n",
       "    <tr>\n",
       "      <th>param:l1</th>\n",
       "      <td>0.499</td>\n",
       "      <td>0.496</td>\n",
       "      <td>0.503</td>\n",
       "      <td>0.492</td>\n",
       "    </tr>\n",
       "    <tr>\n",
       "      <th>param:elasticnet</th>\n",
       "      <td>0.535</td>\n",
       "      <td>0.557</td>\n",
       "      <td>0.537</td>\n",
       "      <td>0.531</td>\n",
       "    </tr>\n",
       "  </tbody>\n",
       "</table>\n",
       "</div>"
      ],
      "text/plain": [
       "                  accuracy  precision  recall     F1\n",
       "param:none           0.552      0.560   0.554  0.549\n",
       "param:l2             0.577      0.589   0.575  0.567\n",
       "param:l1             0.499      0.496   0.503  0.492\n",
       "param:elasticnet     0.535      0.557   0.537  0.531"
      ]
     },
     "execution_count": 115,
     "metadata": {},
     "output_type": "execute_result"
    }
   ],
   "source": [
    "# Choose penalty and vectorizer\n",
    "param_vec = {'penalty':['none','l2','l1','elasticnet']}\n",
    "\n",
    "results = pd.DataFrame({\"accuracy\":[],\n",
    "                        \"precision\":[],\n",
    "                        \"recall\":[],\n",
    "                        \"F1\":[]})\n",
    "# vectorize training set and validation set\n",
    "vectorizer = TfidfVectorizer(tokenizer=text_pipeline_spacy,stop_words=my_stop_words,max_features=5000, sublinear_tf=True)#, max_features=params[\"max_features\"], sublinear_tf=params[\"sublinear_tf\"])\n",
    "vect_texts_train = vectorizer.fit_transform(texts_train)\n",
    "vect_texts_val = vectorizer.transform(texts_val)\n",
    "for params in tqdm(ParameterGrid(param_vec)):\n",
    "\n",
    "  # logistic regression\n",
    "  clf = LogisticRegression(random_state=42,C=10,max_iter=10000,penalty=params[\"penalty\"],solver='saga',l1_ratio=0.5).fit(vect_texts_train, labels_train)\n",
    "  labels_predicted = clf.predict(vect_texts_val)\n",
    "\n",
    "  results.loc[f\"param:{params['penalty']}\"] =  \\\n",
    "                                    [accuracy_score(labels_val, labels_predicted),\n",
    "                                     precision_score(labels_val,labels_predicted,average=\"macro\"),\n",
    "                                     recall_score(labels_val, labels_predicted, average=\"macro\"),\n",
    "                                     f1_score(labels_val, labels_predicted, average=\"macro\")\n",
    "                                    ]\n",
    "results.round(3)"
   ]
  },
  {
   "cell_type": "code",
   "execution_count": 22,
   "metadata": {},
   "outputs": [
    {
     "name": "stderr",
     "output_type": "stream",
     "text": [
      "  0%|          | 0/12 [00:09<?, ?it/s]\n"
     ]
    },
    {
     "ename": "KeyboardInterrupt",
     "evalue": "",
     "output_type": "error",
     "traceback": [
      "\u001b[0;31m---------------------------------------------------------------------------\u001b[0m",
      "\u001b[0;31mKeyboardInterrupt\u001b[0m                         Traceback (most recent call last)",
      "Cell \u001b[0;32mIn[22], line 12\u001b[0m\n\u001b[1;32m      9\u001b[0m vect_texts_val \u001b[39m=\u001b[39m vectorizer\u001b[39m.\u001b[39mtransform(texts_val)\n\u001b[1;32m     11\u001b[0m \u001b[39m# logistic regression\u001b[39;00m\n\u001b[0;32m---> 12\u001b[0m clf \u001b[39m=\u001b[39m LogisticRegression(random_state\u001b[39m=\u001b[39;49m\u001b[39m42\u001b[39;49m,C\u001b[39m=\u001b[39;49m\u001b[39m100\u001b[39;49m,max_iter\u001b[39m=\u001b[39;49m\u001b[39m1000\u001b[39;49m)\u001b[39m.\u001b[39;49mfit(vect_texts_train, labels_train)\n\u001b[1;32m     13\u001b[0m labels_predicted \u001b[39m=\u001b[39m clf\u001b[39m.\u001b[39mpredict(vect_texts_val)\n\u001b[1;32m     15\u001b[0m cur_f1 \u001b[39m=\u001b[39m f1_score(labels_val, labels_predicted,average\u001b[39m=\u001b[39m\u001b[39m\"\u001b[39m\u001b[39mmacro\u001b[39m\u001b[39m\"\u001b[39m)\n",
      "File \u001b[0;32m~/.local/lib/python3.10/site-packages/sklearn/linear_model/_logistic.py:1291\u001b[0m, in \u001b[0;36mLogisticRegression.fit\u001b[0;34m(self, X, y, sample_weight)\u001b[0m\n\u001b[1;32m   1288\u001b[0m \u001b[39melse\u001b[39;00m:\n\u001b[1;32m   1289\u001b[0m     n_threads \u001b[39m=\u001b[39m \u001b[39m1\u001b[39m\n\u001b[0;32m-> 1291\u001b[0m fold_coefs_ \u001b[39m=\u001b[39m Parallel(n_jobs\u001b[39m=\u001b[39;49m\u001b[39mself\u001b[39;49m\u001b[39m.\u001b[39;49mn_jobs, verbose\u001b[39m=\u001b[39;49m\u001b[39mself\u001b[39;49m\u001b[39m.\u001b[39;49mverbose, prefer\u001b[39m=\u001b[39;49mprefer)(\n\u001b[1;32m   1292\u001b[0m     path_func(\n\u001b[1;32m   1293\u001b[0m         X,\n\u001b[1;32m   1294\u001b[0m         y,\n\u001b[1;32m   1295\u001b[0m         pos_class\u001b[39m=\u001b[39;49mclass_,\n\u001b[1;32m   1296\u001b[0m         Cs\u001b[39m=\u001b[39;49m[C_],\n\u001b[1;32m   1297\u001b[0m         l1_ratio\u001b[39m=\u001b[39;49m\u001b[39mself\u001b[39;49m\u001b[39m.\u001b[39;49ml1_ratio,\n\u001b[1;32m   1298\u001b[0m         fit_intercept\u001b[39m=\u001b[39;49m\u001b[39mself\u001b[39;49m\u001b[39m.\u001b[39;49mfit_intercept,\n\u001b[1;32m   1299\u001b[0m         tol\u001b[39m=\u001b[39;49m\u001b[39mself\u001b[39;49m\u001b[39m.\u001b[39;49mtol,\n\u001b[1;32m   1300\u001b[0m         verbose\u001b[39m=\u001b[39;49m\u001b[39mself\u001b[39;49m\u001b[39m.\u001b[39;49mverbose,\n\u001b[1;32m   1301\u001b[0m         solver\u001b[39m=\u001b[39;49msolver,\n\u001b[1;32m   1302\u001b[0m         multi_class\u001b[39m=\u001b[39;49mmulti_class,\n\u001b[1;32m   1303\u001b[0m         max_iter\u001b[39m=\u001b[39;49m\u001b[39mself\u001b[39;49m\u001b[39m.\u001b[39;49mmax_iter,\n\u001b[1;32m   1304\u001b[0m         class_weight\u001b[39m=\u001b[39;49m\u001b[39mself\u001b[39;49m\u001b[39m.\u001b[39;49mclass_weight,\n\u001b[1;32m   1305\u001b[0m         check_input\u001b[39m=\u001b[39;49m\u001b[39mFalse\u001b[39;49;00m,\n\u001b[1;32m   1306\u001b[0m         random_state\u001b[39m=\u001b[39;49m\u001b[39mself\u001b[39;49m\u001b[39m.\u001b[39;49mrandom_state,\n\u001b[1;32m   1307\u001b[0m         coef\u001b[39m=\u001b[39;49mwarm_start_coef_,\n\u001b[1;32m   1308\u001b[0m         penalty\u001b[39m=\u001b[39;49mpenalty,\n\u001b[1;32m   1309\u001b[0m         max_squared_sum\u001b[39m=\u001b[39;49mmax_squared_sum,\n\u001b[1;32m   1310\u001b[0m         sample_weight\u001b[39m=\u001b[39;49msample_weight,\n\u001b[1;32m   1311\u001b[0m         n_threads\u001b[39m=\u001b[39;49mn_threads,\n\u001b[1;32m   1312\u001b[0m     )\n\u001b[1;32m   1313\u001b[0m     \u001b[39mfor\u001b[39;49;00m class_, warm_start_coef_ \u001b[39min\u001b[39;49;00m \u001b[39mzip\u001b[39;49m(classes_, warm_start_coef)\n\u001b[1;32m   1314\u001b[0m )\n\u001b[1;32m   1316\u001b[0m fold_coefs_, _, n_iter_ \u001b[39m=\u001b[39m \u001b[39mzip\u001b[39m(\u001b[39m*\u001b[39mfold_coefs_)\n\u001b[1;32m   1317\u001b[0m \u001b[39mself\u001b[39m\u001b[39m.\u001b[39mn_iter_ \u001b[39m=\u001b[39m np\u001b[39m.\u001b[39masarray(n_iter_, dtype\u001b[39m=\u001b[39mnp\u001b[39m.\u001b[39mint32)[:, \u001b[39m0\u001b[39m]\n",
      "File \u001b[0;32m~/.local/lib/python3.10/site-packages/sklearn/utils/parallel.py:63\u001b[0m, in \u001b[0;36mParallel.__call__\u001b[0;34m(self, iterable)\u001b[0m\n\u001b[1;32m     58\u001b[0m config \u001b[39m=\u001b[39m get_config()\n\u001b[1;32m     59\u001b[0m iterable_with_config \u001b[39m=\u001b[39m (\n\u001b[1;32m     60\u001b[0m     (_with_config(delayed_func, config), args, kwargs)\n\u001b[1;32m     61\u001b[0m     \u001b[39mfor\u001b[39;00m delayed_func, args, kwargs \u001b[39min\u001b[39;00m iterable\n\u001b[1;32m     62\u001b[0m )\n\u001b[0;32m---> 63\u001b[0m \u001b[39mreturn\u001b[39;00m \u001b[39msuper\u001b[39;49m()\u001b[39m.\u001b[39;49m\u001b[39m__call__\u001b[39;49m(iterable_with_config)\n",
      "File \u001b[0;32m~/.local/lib/python3.10/site-packages/joblib/parallel.py:1085\u001b[0m, in \u001b[0;36mParallel.__call__\u001b[0;34m(self, iterable)\u001b[0m\n\u001b[1;32m   1076\u001b[0m \u001b[39mtry\u001b[39;00m:\n\u001b[1;32m   1077\u001b[0m     \u001b[39m# Only set self._iterating to True if at least a batch\u001b[39;00m\n\u001b[1;32m   1078\u001b[0m     \u001b[39m# was dispatched. In particular this covers the edge\u001b[39;00m\n\u001b[0;32m   (...)\u001b[0m\n\u001b[1;32m   1082\u001b[0m     \u001b[39m# was very quick and its callback already dispatched all the\u001b[39;00m\n\u001b[1;32m   1083\u001b[0m     \u001b[39m# remaining jobs.\u001b[39;00m\n\u001b[1;32m   1084\u001b[0m     \u001b[39mself\u001b[39m\u001b[39m.\u001b[39m_iterating \u001b[39m=\u001b[39m \u001b[39mFalse\u001b[39;00m\n\u001b[0;32m-> 1085\u001b[0m     \u001b[39mif\u001b[39;00m \u001b[39mself\u001b[39;49m\u001b[39m.\u001b[39;49mdispatch_one_batch(iterator):\n\u001b[1;32m   1086\u001b[0m         \u001b[39mself\u001b[39m\u001b[39m.\u001b[39m_iterating \u001b[39m=\u001b[39m \u001b[39mself\u001b[39m\u001b[39m.\u001b[39m_original_iterator \u001b[39mis\u001b[39;00m \u001b[39mnot\u001b[39;00m \u001b[39mNone\u001b[39;00m\n\u001b[1;32m   1088\u001b[0m     \u001b[39mwhile\u001b[39;00m \u001b[39mself\u001b[39m\u001b[39m.\u001b[39mdispatch_one_batch(iterator):\n",
      "File \u001b[0;32m~/.local/lib/python3.10/site-packages/joblib/parallel.py:901\u001b[0m, in \u001b[0;36mParallel.dispatch_one_batch\u001b[0;34m(self, iterator)\u001b[0m\n\u001b[1;32m    899\u001b[0m     \u001b[39mreturn\u001b[39;00m \u001b[39mFalse\u001b[39;00m\n\u001b[1;32m    900\u001b[0m \u001b[39melse\u001b[39;00m:\n\u001b[0;32m--> 901\u001b[0m     \u001b[39mself\u001b[39;49m\u001b[39m.\u001b[39;49m_dispatch(tasks)\n\u001b[1;32m    902\u001b[0m     \u001b[39mreturn\u001b[39;00m \u001b[39mTrue\u001b[39;00m\n",
      "File \u001b[0;32m~/.local/lib/python3.10/site-packages/joblib/parallel.py:819\u001b[0m, in \u001b[0;36mParallel._dispatch\u001b[0;34m(self, batch)\u001b[0m\n\u001b[1;32m    817\u001b[0m \u001b[39mwith\u001b[39;00m \u001b[39mself\u001b[39m\u001b[39m.\u001b[39m_lock:\n\u001b[1;32m    818\u001b[0m     job_idx \u001b[39m=\u001b[39m \u001b[39mlen\u001b[39m(\u001b[39mself\u001b[39m\u001b[39m.\u001b[39m_jobs)\n\u001b[0;32m--> 819\u001b[0m     job \u001b[39m=\u001b[39m \u001b[39mself\u001b[39;49m\u001b[39m.\u001b[39;49m_backend\u001b[39m.\u001b[39;49mapply_async(batch, callback\u001b[39m=\u001b[39;49mcb)\n\u001b[1;32m    820\u001b[0m     \u001b[39m# A job can complete so quickly than its callback is\u001b[39;00m\n\u001b[1;32m    821\u001b[0m     \u001b[39m# called before we get here, causing self._jobs to\u001b[39;00m\n\u001b[1;32m    822\u001b[0m     \u001b[39m# grow. To ensure correct results ordering, .insert is\u001b[39;00m\n\u001b[1;32m    823\u001b[0m     \u001b[39m# used (rather than .append) in the following line\u001b[39;00m\n\u001b[1;32m    824\u001b[0m     \u001b[39mself\u001b[39m\u001b[39m.\u001b[39m_jobs\u001b[39m.\u001b[39minsert(job_idx, job)\n",
      "File \u001b[0;32m~/.local/lib/python3.10/site-packages/joblib/_parallel_backends.py:208\u001b[0m, in \u001b[0;36mSequentialBackend.apply_async\u001b[0;34m(self, func, callback)\u001b[0m\n\u001b[1;32m    206\u001b[0m \u001b[39mdef\u001b[39;00m \u001b[39mapply_async\u001b[39m(\u001b[39mself\u001b[39m, func, callback\u001b[39m=\u001b[39m\u001b[39mNone\u001b[39;00m):\n\u001b[1;32m    207\u001b[0m \u001b[39m    \u001b[39m\u001b[39m\"\"\"Schedule a func to be run\"\"\"\u001b[39;00m\n\u001b[0;32m--> 208\u001b[0m     result \u001b[39m=\u001b[39m ImmediateResult(func)\n\u001b[1;32m    209\u001b[0m     \u001b[39mif\u001b[39;00m callback:\n\u001b[1;32m    210\u001b[0m         callback(result)\n",
      "File \u001b[0;32m~/.local/lib/python3.10/site-packages/joblib/_parallel_backends.py:597\u001b[0m, in \u001b[0;36mImmediateResult.__init__\u001b[0;34m(self, batch)\u001b[0m\n\u001b[1;32m    594\u001b[0m \u001b[39mdef\u001b[39;00m \u001b[39m__init__\u001b[39m(\u001b[39mself\u001b[39m, batch):\n\u001b[1;32m    595\u001b[0m     \u001b[39m# Don't delay the application, to avoid keeping the input\u001b[39;00m\n\u001b[1;32m    596\u001b[0m     \u001b[39m# arguments in memory\u001b[39;00m\n\u001b[0;32m--> 597\u001b[0m     \u001b[39mself\u001b[39m\u001b[39m.\u001b[39mresults \u001b[39m=\u001b[39m batch()\n",
      "File \u001b[0;32m~/.local/lib/python3.10/site-packages/joblib/parallel.py:288\u001b[0m, in \u001b[0;36mBatchedCalls.__call__\u001b[0;34m(self)\u001b[0m\n\u001b[1;32m    284\u001b[0m \u001b[39mdef\u001b[39;00m \u001b[39m__call__\u001b[39m(\u001b[39mself\u001b[39m):\n\u001b[1;32m    285\u001b[0m     \u001b[39m# Set the default nested backend to self._backend but do not set the\u001b[39;00m\n\u001b[1;32m    286\u001b[0m     \u001b[39m# change the default number of processes to -1\u001b[39;00m\n\u001b[1;32m    287\u001b[0m     \u001b[39mwith\u001b[39;00m parallel_backend(\u001b[39mself\u001b[39m\u001b[39m.\u001b[39m_backend, n_jobs\u001b[39m=\u001b[39m\u001b[39mself\u001b[39m\u001b[39m.\u001b[39m_n_jobs):\n\u001b[0;32m--> 288\u001b[0m         \u001b[39mreturn\u001b[39;00m [func(\u001b[39m*\u001b[39margs, \u001b[39m*\u001b[39m\u001b[39m*\u001b[39mkwargs)\n\u001b[1;32m    289\u001b[0m                 \u001b[39mfor\u001b[39;00m func, args, kwargs \u001b[39min\u001b[39;00m \u001b[39mself\u001b[39m\u001b[39m.\u001b[39mitems]\n",
      "File \u001b[0;32m~/.local/lib/python3.10/site-packages/joblib/parallel.py:288\u001b[0m, in \u001b[0;36m<listcomp>\u001b[0;34m(.0)\u001b[0m\n\u001b[1;32m    284\u001b[0m \u001b[39mdef\u001b[39;00m \u001b[39m__call__\u001b[39m(\u001b[39mself\u001b[39m):\n\u001b[1;32m    285\u001b[0m     \u001b[39m# Set the default nested backend to self._backend but do not set the\u001b[39;00m\n\u001b[1;32m    286\u001b[0m     \u001b[39m# change the default number of processes to -1\u001b[39;00m\n\u001b[1;32m    287\u001b[0m     \u001b[39mwith\u001b[39;00m parallel_backend(\u001b[39mself\u001b[39m\u001b[39m.\u001b[39m_backend, n_jobs\u001b[39m=\u001b[39m\u001b[39mself\u001b[39m\u001b[39m.\u001b[39m_n_jobs):\n\u001b[0;32m--> 288\u001b[0m         \u001b[39mreturn\u001b[39;00m [func(\u001b[39m*\u001b[39;49margs, \u001b[39m*\u001b[39;49m\u001b[39m*\u001b[39;49mkwargs)\n\u001b[1;32m    289\u001b[0m                 \u001b[39mfor\u001b[39;00m func, args, kwargs \u001b[39min\u001b[39;00m \u001b[39mself\u001b[39m\u001b[39m.\u001b[39mitems]\n",
      "File \u001b[0;32m~/.local/lib/python3.10/site-packages/sklearn/utils/parallel.py:123\u001b[0m, in \u001b[0;36m_FuncWrapper.__call__\u001b[0;34m(self, *args, **kwargs)\u001b[0m\n\u001b[1;32m    121\u001b[0m     config \u001b[39m=\u001b[39m {}\n\u001b[1;32m    122\u001b[0m \u001b[39mwith\u001b[39;00m config_context(\u001b[39m*\u001b[39m\u001b[39m*\u001b[39mconfig):\n\u001b[0;32m--> 123\u001b[0m     \u001b[39mreturn\u001b[39;00m \u001b[39mself\u001b[39;49m\u001b[39m.\u001b[39;49mfunction(\u001b[39m*\u001b[39;49margs, \u001b[39m*\u001b[39;49m\u001b[39m*\u001b[39;49mkwargs)\n",
      "File \u001b[0;32m~/.local/lib/python3.10/site-packages/sklearn/linear_model/_logistic.py:450\u001b[0m, in \u001b[0;36m_logistic_regression_path\u001b[0;34m(X, y, pos_class, Cs, fit_intercept, max_iter, tol, verbose, solver, coef, class_weight, dual, penalty, intercept_scaling, multi_class, random_state, check_input, max_squared_sum, sample_weight, l1_ratio, n_threads)\u001b[0m\n\u001b[1;32m    446\u001b[0m l2_reg_strength \u001b[39m=\u001b[39m \u001b[39m1.0\u001b[39m \u001b[39m/\u001b[39m C\n\u001b[1;32m    447\u001b[0m iprint \u001b[39m=\u001b[39m [\u001b[39m-\u001b[39m\u001b[39m1\u001b[39m, \u001b[39m50\u001b[39m, \u001b[39m1\u001b[39m, \u001b[39m100\u001b[39m, \u001b[39m101\u001b[39m][\n\u001b[1;32m    448\u001b[0m     np\u001b[39m.\u001b[39msearchsorted(np\u001b[39m.\u001b[39marray([\u001b[39m0\u001b[39m, \u001b[39m1\u001b[39m, \u001b[39m2\u001b[39m, \u001b[39m3\u001b[39m]), verbose)\n\u001b[1;32m    449\u001b[0m ]\n\u001b[0;32m--> 450\u001b[0m opt_res \u001b[39m=\u001b[39m optimize\u001b[39m.\u001b[39;49mminimize(\n\u001b[1;32m    451\u001b[0m     func,\n\u001b[1;32m    452\u001b[0m     w0,\n\u001b[1;32m    453\u001b[0m     method\u001b[39m=\u001b[39;49m\u001b[39m\"\u001b[39;49m\u001b[39mL-BFGS-B\u001b[39;49m\u001b[39m\"\u001b[39;49m,\n\u001b[1;32m    454\u001b[0m     jac\u001b[39m=\u001b[39;49m\u001b[39mTrue\u001b[39;49;00m,\n\u001b[1;32m    455\u001b[0m     args\u001b[39m=\u001b[39;49m(X, target, sample_weight, l2_reg_strength, n_threads),\n\u001b[1;32m    456\u001b[0m     options\u001b[39m=\u001b[39;49m{\u001b[39m\"\u001b[39;49m\u001b[39miprint\u001b[39;49m\u001b[39m\"\u001b[39;49m: iprint, \u001b[39m\"\u001b[39;49m\u001b[39mgtol\u001b[39;49m\u001b[39m\"\u001b[39;49m: tol, \u001b[39m\"\u001b[39;49m\u001b[39mmaxiter\u001b[39;49m\u001b[39m\"\u001b[39;49m: max_iter},\n\u001b[1;32m    457\u001b[0m )\n\u001b[1;32m    458\u001b[0m n_iter_i \u001b[39m=\u001b[39m _check_optimize_result(\n\u001b[1;32m    459\u001b[0m     solver,\n\u001b[1;32m    460\u001b[0m     opt_res,\n\u001b[1;32m    461\u001b[0m     max_iter,\n\u001b[1;32m    462\u001b[0m     extra_warning_msg\u001b[39m=\u001b[39m_LOGISTIC_SOLVER_CONVERGENCE_MSG,\n\u001b[1;32m    463\u001b[0m )\n\u001b[1;32m    464\u001b[0m w0, loss \u001b[39m=\u001b[39m opt_res\u001b[39m.\u001b[39mx, opt_res\u001b[39m.\u001b[39mfun\n",
      "File \u001b[0;32m~/.local/lib/python3.10/site-packages/scipy/optimize/_minimize.py:696\u001b[0m, in \u001b[0;36mminimize\u001b[0;34m(fun, x0, args, method, jac, hess, hessp, bounds, constraints, tol, callback, options)\u001b[0m\n\u001b[1;32m    693\u001b[0m     res \u001b[39m=\u001b[39m _minimize_newtoncg(fun, x0, args, jac, hess, hessp, callback,\n\u001b[1;32m    694\u001b[0m                              \u001b[39m*\u001b[39m\u001b[39m*\u001b[39moptions)\n\u001b[1;32m    695\u001b[0m \u001b[39melif\u001b[39;00m meth \u001b[39m==\u001b[39m \u001b[39m'\u001b[39m\u001b[39ml-bfgs-b\u001b[39m\u001b[39m'\u001b[39m:\n\u001b[0;32m--> 696\u001b[0m     res \u001b[39m=\u001b[39m _minimize_lbfgsb(fun, x0, args, jac, bounds,\n\u001b[1;32m    697\u001b[0m                            callback\u001b[39m=\u001b[39;49mcallback, \u001b[39m*\u001b[39;49m\u001b[39m*\u001b[39;49moptions)\n\u001b[1;32m    698\u001b[0m \u001b[39melif\u001b[39;00m meth \u001b[39m==\u001b[39m \u001b[39m'\u001b[39m\u001b[39mtnc\u001b[39m\u001b[39m'\u001b[39m:\n\u001b[1;32m    699\u001b[0m     res \u001b[39m=\u001b[39m _minimize_tnc(fun, x0, args, jac, bounds, callback\u001b[39m=\u001b[39mcallback,\n\u001b[1;32m    700\u001b[0m                         \u001b[39m*\u001b[39m\u001b[39m*\u001b[39moptions)\n",
      "File \u001b[0;32m~/.local/lib/python3.10/site-packages/scipy/optimize/_lbfgsb_py.py:350\u001b[0m, in \u001b[0;36m_minimize_lbfgsb\u001b[0;34m(fun, x0, args, jac, bounds, disp, maxcor, ftol, gtol, eps, maxfun, maxiter, iprint, callback, maxls, finite_diff_rel_step, **unknown_options)\u001b[0m\n\u001b[1;32m    346\u001b[0m n_iterations \u001b[39m=\u001b[39m \u001b[39m0\u001b[39m\n\u001b[1;32m    348\u001b[0m \u001b[39mwhile\u001b[39;00m \u001b[39m1\u001b[39m:\n\u001b[1;32m    349\u001b[0m     \u001b[39m# x, f, g, wa, iwa, task, csave, lsave, isave, dsave = \\\u001b[39;00m\n\u001b[0;32m--> 350\u001b[0m     _lbfgsb\u001b[39m.\u001b[39;49msetulb(m, x, low_bnd, upper_bnd, nbd, f, g, factr,\n\u001b[1;32m    351\u001b[0m                    pgtol, wa, iwa, task, iprint, csave, lsave,\n\u001b[1;32m    352\u001b[0m                    isave, dsave, maxls)\n\u001b[1;32m    353\u001b[0m     task_str \u001b[39m=\u001b[39m task\u001b[39m.\u001b[39mtobytes()\n\u001b[1;32m    354\u001b[0m     \u001b[39mif\u001b[39;00m task_str\u001b[39m.\u001b[39mstartswith(\u001b[39mb\u001b[39m\u001b[39m'\u001b[39m\u001b[39mFG\u001b[39m\u001b[39m'\u001b[39m):\n\u001b[1;32m    355\u001b[0m         \u001b[39m# The minimization routine wants f and g at the current x.\u001b[39;00m\n\u001b[1;32m    356\u001b[0m         \u001b[39m# Note that interruptions due to maxfun are postponed\u001b[39;00m\n\u001b[1;32m    357\u001b[0m         \u001b[39m# until the completion of the current minimization iteration.\u001b[39;00m\n\u001b[1;32m    358\u001b[0m         \u001b[39m# Overwrite f and g:\u001b[39;00m\n",
      "\u001b[0;31mKeyboardInterrupt\u001b[0m: "
     ]
    }
   ],
   "source": [
    "#たぶんいらない\n",
    "param_vec = {'max_features':[None, 5, 50, 500, 5000, 50000], 'sublinear_tf':[True,False]}\n",
    "\n",
    "max_f1 = 0\n",
    "best_param = {}\n",
    "for params in tqdm(ParameterGrid(param_vec)):\n",
    "  # vectorize training set and validation set\n",
    "  vectorizer = TfidfVectorizer(max_features=params[\"max_features\"], sublinear_tf=params[\"sublinear_tf\"])\n",
    "  vect_texts_train = vectorizer.fit_transform(texts_train)\n",
    "  vect_texts_val = vectorizer.transform(texts_val)\n",
    "\n",
    "  # logistic regression\n",
    "  clf = LogisticRegression(random_state=42,C=100,max_iter=1000).fit(vect_texts_train, labels_train)\n",
    "  labels_predicted = clf.predict(vect_texts_val)\n",
    "\n",
    "  cur_f1 = f1_score(labels_val, labels_predicted,average=\"macro\")\n",
    "  if(cur_f1 > max_f1):\n",
    "    max_f1 = cur_f1\n",
    "    best_param = params\n",
    "\n",
    "print(f'{best_param=}')\n",
    "print(f'{max_f1:.3f}')"
   ]
  },
  {
   "attachments": {},
   "cell_type": "markdown",
   "metadata": {},
   "source": [
    "# Q5-Context vectors using BERT"
   ]
  },
  {
   "cell_type": "code",
   "execution_count": 5,
   "metadata": {},
   "outputs": [
    {
     "ename": "ModuleNotFoundError",
     "evalue": "No module named 'torch'",
     "output_type": "error",
     "traceback": [
      "\u001b[0;31m---------------------------------------------------------------------------\u001b[0m",
      "\u001b[0;31mModuleNotFoundError\u001b[0m                       Traceback (most recent call last)",
      "\u001b[1;32m/home/denjo/Glasgow2/textAsData/main.ipynb Cell 37\u001b[0m in \u001b[0;36m<cell line: 3>\u001b[0;34m()\u001b[0m\n\u001b[1;32m      <a href='vscode-notebook-cell:/home/denjo/Glasgow2/textAsData/main.ipynb#X52sZmlsZQ%3D%3D?line=0'>1</a>\u001b[0m \u001b[39mfrom\u001b[39;00m \u001b[39mtransformers\u001b[39;00m \u001b[39mimport\u001b[39;00m AutoTokenizer\n\u001b[0;32m----> <a href='vscode-notebook-cell:/home/denjo/Glasgow2/textAsData/main.ipynb#X52sZmlsZQ%3D%3D?line=2'>3</a>\u001b[0m \u001b[39mimport\u001b[39;00m \u001b[39mtorch\u001b[39;00m\n",
      "\u001b[0;31mModuleNotFoundError\u001b[0m: No module named 'torch'"
     ]
    }
   ],
   "source": [
    "from transformers import AutoTokenizer\n",
    "\n",
    "import torch\n",
    "# tokenizer = AutoTokenizer.from_pretrained(\"bert-base-uncased\")"
   ]
  },
  {
   "cell_type": "code",
   "execution_count": 3,
   "metadata": {},
   "outputs": [
    {
     "data": {
      "text/plain": [
       "['i', 'walked', 'through', 'kelvin', '##grove', '.']"
      ]
     },
     "execution_count": 3,
     "metadata": {},
     "output_type": "execute_result"
    }
   ],
   "source": [
    "tokenizer.tokenize(\"I walked through Kelvingrove.\")"
   ]
  },
  {
   "cell_type": "code",
   "execution_count": 39,
   "metadata": {},
   "outputs": [
    {
     "data": {
      "text/plain": [
       "array([[4.21015997e-35, 8.58148935e-01, 1.41851065e-01, 3.32446694e-21]])"
      ]
     },
     "execution_count": 39,
     "metadata": {},
     "output_type": "execute_result"
    }
   ],
   "source": [
    "import numpy as np\n",
    "def softmax(z):\n",
    "    assert len(z.shape) == 2\n",
    "\n",
    "\n",
    "    s = np.max(z, axis=1)\n",
    "    s = s[:, np.newaxis] # necessary step to do broadcasting\n",
    "    e_x = np.exp(z - s)\n",
    "    div = np.sum(e_x, axis=1)\n",
    "    div = div[:, np.newaxis] # dito\n",
    "    return e_x / div\n",
    "\n",
    "\n",
    "x1 = np.array([[12.1,91.1,89.3, 44.1]])\n",
    "softmax(x1)\n"
   ]
  },
  {
   "attachments": {},
   "cell_type": "markdown",
   "metadata": {},
   "source": [
    "# Q6"
   ]
  },
  {
   "cell_type": "code",
   "execution_count": 68,
   "metadata": {},
   "outputs": [
    {
     "name": "stdout",
     "output_type": "stream",
     "text": [
      "357\n"
     ]
    },
    {
     "data": {
      "text/plain": [
       "357"
      ]
     },
     "execution_count": 68,
     "metadata": {},
     "output_type": "execute_result"
    }
   ],
   "source": [
    "import pickle\n",
    "with open (\"test_resultsE.pickle\",\"rb\") as f:\n",
    "    t_labels_predicted = pickle.load(f)\n",
    "    t_label_ids = pickle.load(f)\n",
    "\n",
    "print(len(t_label_ids))\n",
    "len(t_labels_predicted)"
   ]
  },
  {
   "cell_type": "code",
   "execution_count": 69,
   "metadata": {},
   "outputs": [
    {
     "data": {
      "text/plain": [
       "array([0, 2, 0, 1, 2, 8, 5, 9, 5, 6])"
      ]
     },
     "execution_count": 69,
     "metadata": {},
     "output_type": "execute_result"
    }
   ],
   "source": [
    "t_labels_predicted[:10]\n",
    "t_label_ids[:10]"
   ]
  },
  {
   "cell_type": "code",
   "execution_count": 70,
   "metadata": {},
   "outputs": [],
   "source": [
    "\n",
    "def showPerformance(labels_true, labels_predicted):\n",
    "    print(f'accuracy ={accuracy_score(labels_true, labels_predicted):.3f}')\n",
    "    print(f'precision={precision_score(labels_true, labels_predicted, average=\"macro\"):.3f}')\n",
    "    print(f'recall   ={recall_score(labels_true, labels_predicted, average=\"macro\"):.3f}') \n",
    "    print(f'f1       ={f1_score(labels_true, labels_predicted, average=\"macro\"):.3f}')\n",
    "    return ;"
   ]
  },
  {
   "cell_type": "code",
   "execution_count": 71,
   "metadata": {},
   "outputs": [
    {
     "name": "stdout",
     "output_type": "stream",
     "text": [
      "accuracy =0.597\n",
      "precision=0.617\n",
      "recall   =0.592\n",
      "f1       =0.591\n"
     ]
    }
   ],
   "source": [
    "showPerformance(t_label_ids, t_labels_predicted)"
   ]
  },
  {
   "cell_type": "code",
   "execution_count": 86,
   "metadata": {},
   "outputs": [],
   "source": [
    "# correspond labels(songer names) with integers\n",
    "label2id = {label: i for i, label in enumerate(set(labels_train))}\n",
    "id2label = {id:label for label,id in label2id.items()}\n",
    "labels_train_int = [label2id[l] for l in labels_train]\n",
    "labels_val_int = [label2id[l] for l in labels_val]"
   ]
  },
  {
   "cell_type": "code",
   "execution_count": 73,
   "metadata": {},
   "outputs": [
    {
     "name": "stdout",
     "output_type": "stream",
     "text": [
      "accuracy =0.597\n",
      "precision=0.617\n",
      "recall   =0.592\n",
      "f1       =0.591\n"
     ]
    }
   ],
   "source": [
    "showPerformance(t_label_ids, t_labels_predicted)"
   ]
  },
  {
   "cell_type": "code",
   "execution_count": 102,
   "metadata": {},
   "outputs": [],
   "source": [
    "from sklearn.metrics import confusion_matrix\n",
    "# confusion_matrix(t_label_ids, t_labels_predicted)\n",
    "\n",
    "# show confusion matrix\n",
    "from sklearn.metrics import confusion_matrix\n",
    "from sklearn.metrics import ConfusionMatrixDisplay\n",
    "import seaborn as sn\n",
    "\n",
    "def plotConfusionMatrix(cm, labels_val, labels_predicted):\n",
    "  # cm = cm\n",
    "  colour_map = sn.color_palette(\"Reds\", as_cmap=True)\n",
    "  labels_x = labels_val\n",
    "  labels_y = labels_predicted #list(label2id.keys())#['Eminem', 'Beyonce Knowles', 'Dua Lipa', 'Selena Gomez', 'Michael Jackson', 'Ariana Grande', 'Taylor Swift', 'Lady Gaga', 'XXXTentacion', 'Jennifer Lopez']\n",
    "  plot = sn.heatmap(cm, \n",
    "                    annot=True, # Put the numbers in\n",
    "                    annot_kws={\"size\": 16}, # Make the numbers bigger\n",
    "                    fmt='g', # Stop scientific notation\n",
    "                    cmap = colour_map, # Choose the colour palette\n",
    "                    cbar = False, # Don't include the colour bar\n",
    "                    xticklabels=labels_x,#labels_x, # Put in the X and Y labels\n",
    "                    yticklabels=labels_y)\n",
    "  plot.set(xlabel='Predicted labels', ylabel='Target labels')\n",
    "  return plot\n"
   ]
  },
  {
   "cell_type": "code",
   "execution_count": 103,
   "metadata": {},
   "outputs": [
    {
     "data": {
      "text/plain": [
       "<AxesSubplot:xlabel='Predicted labels', ylabel='Target labels'>"
      ]
     },
     "execution_count": 103,
     "metadata": {},
     "output_type": "execute_result"
    },
    {
     "data": {
      "image/png": "[encoded data removed]",
      "text/plain": [
       "<Figure size 432x288 with 1 Axes>"
      ]
     },
     "metadata": {
      "needs_background": "light"
     },
     "output_type": "display_data"
    }
   ],
   "source": [
    "cm = confusion_matrix(t_label_ids, t_labels_predicted)\n",
    "plotConfusionMatrix(cm, list(label2id.keys()) ,list(label2id.keys()))"
   ]
  },
  {
   "cell_type": "code",
   "execution_count": 105,
   "metadata": {},
   "outputs": [
    {
     "data": {
      "text/plain": [
       "[34, 36, 77, 154, 209, 227, 300]"
      ]
     },
     "execution_count": 105,
     "metadata": {},
     "output_type": "execute_result"
    }
   ],
   "source": [
    "def checkMissClassification(true_id, false_id, labels_test, labels_predicted):\n",
    "    mistaken_docID = []\n",
    "    for i in range(len(labels_test)):\n",
    "        # check false negative for true_id class, i.e. case where mistake true_id for false_id\n",
    "        # # # if type == \"FN\":\n",
    "        if(labels_test[i] == true_id and labels_predicted[i] == false_id):\n",
    "            mistaken_docID.append(i)\n",
    "        \n",
    "        # # if type == \"FP\":\n",
    "        #     if(labels_test[i] == )\n",
    "    return mistaken_docID\n",
    "\n",
    "        \n",
    "            \n",
    "checkMissClassification(label2id[\"Beyonce Knowles\"],\n",
    "                        label2id[\"Selena Gomez\"],\n",
    "                        t_label_ids, t_labels_predicted)\n",
    "\n"
   ]
  },
  {
   "cell_type": "code",
   "execution_count": 106,
   "metadata": {},
   "outputs": [
    {
     "name": "stdout",
     "output_type": "stream",
     "text": [
      "Smash Into You\n",
      "Smash Into You Lyrics\n",
      "\n",
      "Head down\n",
      "As\n",
      "Beyonce Knowles\n"
     ]
    }
   ],
   "source": [
    "print(texts_test[34][:50])\n",
    "print(labels_test[34])"
   ]
  },
  {
   "cell_type": "code",
   "execution_count": 107,
   "metadata": {},
   "outputs": [
    {
     "data": {
      "text/plain": [
       "'Beyonce Knowles'"
      ]
     },
     "execution_count": 107,
     "metadata": {},
     "output_type": "execute_result"
    }
   ],
   "source": [
    "id2label[t_label_ids[34]]"
   ]
  },
  {
   "cell_type": "code",
   "execution_count": 93,
   "metadata": {},
   "outputs": [
    {
     "data": {
      "text/plain": [
       "'Michael Jackson'"
      ]
     },
     "execution_count": 93,
     "metadata": {},
     "output_type": "execute_result"
    }
   ],
   "source": [
    "id2label[t_labels_predicted[54]]"
   ]
  },
  {
   "cell_type": "code",
   "execution_count": 94,
   "metadata": {},
   "outputs": [
    {
     "data": {
      "text/plain": [
       "dict_values(['Beyonce Knowles', 'Michael Jackson', 'Lady Gaga', 'Taylor Swift', 'Ariana Grande', 'Selena Gomez'])"
      ]
     },
     "execution_count": 94,
     "metadata": {},
     "output_type": "execute_result"
    }
   ],
   "source": [
    "id2label.values()"
   ]
  },
  {
   "cell_type": "code",
   "execution_count": 88,
   "metadata": {},
   "outputs": [
    {
     "data": {
      "text/plain": [
       "dict_keys(['Jennifer Lopez', 'Beyonce Knowles', 'Taylor Swift', 'Michael Jackson', 'Selena Gomez', 'Lady Gaga', 'Eminem', 'Ariana Grande', 'Dua Lipa', 'XXXTentacion'])"
      ]
     },
     "execution_count": 88,
     "metadata": {},
     "output_type": "execute_result"
    }
   ],
   "source": [
    "label2id.keys()"
   ]
  },
  {
   "cell_type": "code",
   "execution_count": null,
   "metadata": {},
   "outputs": [],
   "source": []
  },
  {
   "cell_type": "code",
   "execution_count": 100,
   "metadata": {},
   "outputs": [],
   "source": [
    "# enumerate が環境依存だった\n",
    "label2id = {\"Beyonce Knowles\":0,\n",
    "            \"Michael Jackson\":1,\n",
    "            \"Lady Gaga\":2,\n",
    "            \"Taylor Swift\":3,\n",
    "            \"Ariana Grande\":4,\n",
    "            \"Selena Gomez\":5,\n",
    "            \"Eminem\":6,\n",
    "            \"Jennifer Lopez\":7,\n",
    "            \"Dua Lipa\":8,\n",
    "            \"XXXTentacion\":9}\n",
    "id2label = {id:label for label,id in label2id.items()}"
   ]
  },
  {
   "cell_type": "code",
   "execution_count": 99,
   "metadata": {},
   "outputs": [
    {
     "data": {
      "text/plain": [
       "{'Ariana Grande',\n",
       " 'Beyonce Knowles',\n",
       " 'Dua Lipa',\n",
       " 'Eminem',\n",
       " 'Jennifer Lopez',\n",
       " 'Lady Gaga',\n",
       " 'Michael Jackson',\n",
       " 'Selena Gomez',\n",
       " 'Taylor Swift',\n",
       " 'XXXTentacion'}"
      ]
     },
     "execution_count": 99,
     "metadata": {},
     "output_type": "execute_result"
    }
   ],
   "source": [
    "set(labels_train)\n",
    "# label2id = {label: i for i, label in enumerate(set(labels_train))}"
   ]
  },
  {
   "cell_type": "code",
   "execution_count": 98,
   "metadata": {},
   "outputs": [
    {
     "name": "stdout",
     "output_type": "stream",
     "text": [
      "0 Jennifer Lopez\n",
      "1 Beyonce Knowles\n",
      "2 Taylor Swift\n",
      "3 Michael Jackson\n",
      "4 Selena Gomez\n",
      "5 Lady Gaga\n",
      "6 Eminem\n",
      "7 Ariana Grande\n",
      "8 Dua Lipa\n",
      "9 XXXTentacion\n"
     ]
    }
   ],
   "source": [
    "for i,l in enumerate(set(labels_train)):\n",
    "    print(i,l)"
   ]
  },
  {
   "cell_type": "code",
   "execution_count": 76,
   "metadata": {},
   "outputs": [
    {
     "name": "stdout",
     "output_type": "stream",
     "text": [
      "Jennifer Lopez\n"
     ]
    },
    {
     "data": {
      "text/plain": [
       "'Beyonce Knowles'"
      ]
     },
     "execution_count": 76,
     "metadata": {},
     "output_type": "execute_result"
    }
   ],
   "source": [
    "print(id2label[t_label_ids[0]])\n",
    "labels_test[0]"
   ]
  },
  {
   "cell_type": "code",
   "execution_count": 38,
   "metadata": {},
   "outputs": [
    {
     "name": "stdout",
     "output_type": "stream",
     "text": [
      "Jennifer Lopez\n",
      "[0 3 6 5 9 9 7 8 7 6]\n",
      "['Beyonce Knowles', 'Lady Gaga', 'Beyonce Knowles', 'Michael Jackson', 'Lady Gaga', 'Dua Lipa', 'Selena Gomez', 'XXXTentacion', 'Selena Gomez', 'Eminem']\n",
      "[0 3 0 5 3 7 1 8 1 6]\n"
     ]
    }
   ],
   "source": [
    "print(id2label[t_label_ids[54]])\n",
    "id2label[t_labels_predicted[54]]\n",
    "print(t_label_ids[:10])\n",
    "print(labels_test[:10])\n",
    "print(t_labels_predicted[:10])\n"
   ]
  },
  {
   "cell_type": "code",
   "execution_count": 30,
   "metadata": {},
   "outputs": [],
   "source": [
    "labels_test_int = [label2id[l] for l in labels_test]\n"
   ]
  },
  {
   "cell_type": "code",
   "execution_count": 35,
   "metadata": {},
   "outputs": [
    {
     "name": "stdout",
     "output_type": "stream",
     "text": [
      "['Beyonce Knowles', 'Lady Gaga', 'Beyonce Knowles', 'Michael Jackson', 'Lady Gaga', 'Dua Lipa', 'Selena Gomez', 'XXXTentacion', 'Selena Gomez', 'Eminem']\n"
     ]
    }
   ],
   "source": [
    "print([id2label[l] for l in labels_test_int[:10]])"
   ]
  },
  {
   "cell_type": "code",
   "execution_count": 37,
   "metadata": {},
   "outputs": [
    {
     "name": "stderr",
     "output_type": "stream",
     "text": [
      "None of PyTorch, TensorFlow >= 2.0, or Flax have been found. Models won't be available and only tokenizers, configuration and file/data utilities can be used.\n"
     ]
    },
    {
     "ename": "ModuleNotFoundError",
     "evalue": "No module named 'datasets'",
     "output_type": "error",
     "traceback": [
      "\u001b[0;31m---------------------------------------------------------------------------\u001b[0m",
      "\u001b[0;31mModuleNotFoundError\u001b[0m                       Traceback (most recent call last)",
      "\u001b[1;32m/home/denjo/Glasgow2/textAsData/main.ipynb Cell 59\u001b[0m in \u001b[0;36m<cell line: 2>\u001b[0;34m()\u001b[0m\n\u001b[1;32m      <a href='vscode-notebook-cell:/home/denjo/Glasgow2/textAsData/main.ipynb#Y113sZmlsZQ%3D%3D?line=0'>1</a>\u001b[0m \u001b[39mfrom\u001b[39;00m \u001b[39mtransformers\u001b[39;00m \u001b[39mimport\u001b[39;00m AutoTokenizer\n\u001b[0;32m----> <a href='vscode-notebook-cell:/home/denjo/Glasgow2/textAsData/main.ipynb#Y113sZmlsZQ%3D%3D?line=1'>2</a>\u001b[0m \u001b[39mfrom\u001b[39;00m \u001b[39mdatasets\u001b[39;00m \u001b[39mimport\u001b[39;00m Dataset\n\u001b[1;32m      <a href='vscode-notebook-cell:/home/denjo/Glasgow2/textAsData/main.ipynb#Y113sZmlsZQ%3D%3D?line=3'>4</a>\u001b[0m tokenizer \u001b[39m=\u001b[39m AutoTokenizer\u001b[39m.\u001b[39mfrom_pretrained(\u001b[39m\"\u001b[39m\u001b[39mroberta-base\u001b[39m\u001b[39m\"\u001b[39m)\n\u001b[1;32m      <a href='vscode-notebook-cell:/home/denjo/Glasgow2/textAsData/main.ipynb#Y113sZmlsZQ%3D%3D?line=5'>6</a>\u001b[0m \u001b[39mdef\u001b[39;00m \u001b[39mcreateDataset\u001b[39m(texts, labels_int):\n",
      "\u001b[0;31mModuleNotFoundError\u001b[0m: No module named 'datasets'"
     ]
    }
   ],
   "source": [
    "from transformers import AutoTokenizer\n",
    "from datasets import Dataset\n",
    "\n",
    "tokenizer = AutoTokenizer.from_pretrained(\"roberta-base\")\n",
    "\n",
    "def createDataset(texts, labels_int):\n",
    "    encoded_texts = []\n",
    "    for t in texts:\n",
    "        encoded_texts.append(tokenizer.encode(t,truncation=True))#,max_length=128))### max_length need to be changed\n",
    "    \n",
    "    dataset = Dataset.from_dict({\n",
    "        \"input_ids\":encoded_texts,\n",
    "        \"labels\": labels_int\n",
    "    })\n",
    "    return dataset"
   ]
  },
  {
   "cell_type": "code",
   "execution_count": null,
   "metadata": {},
   "outputs": [],
   "source": []
  }
 ],
 "metadata": {
  "kernelspec": {
   "display_name": "Python 3",
   "language": "python",
   "name": "python3"
  },
  "language_info": {
   "codemirror_mode": {
    "name": "ipython",
    "version": 3
   },
   "file_extension": ".py",
   "mimetype": "text/x-python",
   "name": "python",
   "nbconvert_exporter": "python",
   "pygments_lexer": "ipython3",
   "version": "3.8.10"
  },
  "orig_nbformat": 4,
  "vscode": {
   "interpreter": {
    "hash": "31f2aee4e71d21fbe5cf8b01ff0e069b9275f58929596ceb00d14d90e3e16cd6"
   }
  }
 },
 "nbformat": 4,
 "nbformat_minor": 2
}
