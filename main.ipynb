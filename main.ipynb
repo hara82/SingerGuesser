{
 "cells": [
  {
   "attachments": {},
   "cell_type": "markdown",
   "metadata": {},
   "source": [
    "### Load data"
   ]
  },
  {
   "cell_type": "code",
   "execution_count": 1,
   "metadata": {},
   "outputs": [
    {
     "data": {
      "text/plain": [
       "(0.5997757847533632, 0.20011210762331838, 0.20011210762331838)"
      ]
     },
     "execution_count": 1,
     "metadata": {},
     "output_type": "execute_result"
    }
   ],
   "source": [
    "import pickle\n",
    "with open('splitData.pickle', 'rb') as f:\n",
    "    texts_train = pickle.load(f)\n",
    "    texts_val = pickle.load(f)\n",
    "    texts_test = pickle.load(f)\n",
    "    labels_train = pickle.load(f)\n",
    "    labels_val = pickle.load(f)\n",
    "    labels_test = pickle.load(f)\n",
    "\n",
    "all_texts  = texts_train  + texts_val  + texts_test\n",
    "all_labels = labels_train + labels_val + labels_test\n",
    "# check the ratio of each dataset\n",
    "total = len(texts_train) + len(texts_val) + len(texts_test)\n",
    "len(texts_train)/total, len(texts_val)/total, len(texts_test)/total"
   ]
  },
  {
   "attachments": {},
   "cell_type": "markdown",
   "metadata": {},
   "source": [
    "# Q2-Clustering"
   ]
  },
  {
   "attachments": {},
   "cell_type": "markdown",
   "metadata": {},
   "source": [
    "### Step 0: Vectorise text"
   ]
  },
  {
   "cell_type": "code",
   "execution_count": 2,
   "metadata": {},
   "outputs": [
    {
     "data": {
      "text/plain": [
       "['thing', 'miss', 'miss', 'mind']"
      ]
     },
     "execution_count": 2,
     "metadata": {},
     "output_type": "execute_result"
    }
   ],
   "source": [
    "import spacy\n",
    "\n",
    "nlp = spacy.load('en_core_web_sm') # can tokenize other languages like Spanish at least\n",
    "\n",
    "# additional stop words to be removed during pipeline\n",
    "added_stop_words = set([\"ayy\",\"ay\",\"ah\",\"oh\",\"ohh\",\"ooh\",\"la\",\"da\",\"dum\",\"ll\",\"d\",\"m\",\"ve\",\"yah\",\"yeah\"])\n",
    "my_stop_words = nlp.Defaults.stop_words.union(added_stop_words)\n",
    "\n",
    "\n",
    "def text_pipeline_spacy(text):\n",
    "    tokens = []\n",
    "    doc = nlp(text)\n",
    "    for t in doc:\n",
    "        if not t.is_stop and not t.is_punct and not t.is_space and not t in my_stop_words:\n",
    "            tokens.append(t.lemma_.lower())\n",
    "    return tokens\n",
    "\n",
    "# Check pipiline:\n",
    "text_pipeline_spacy(\"Of all the things I miss, I miss my mind the most.\")"
   ]
  },
  {
   "cell_type": "code",
   "execution_count": 3,
   "metadata": {},
   "outputs": [
    {
     "data": {
      "text/plain": [
       "(1784, 19605)"
      ]
     },
     "execution_count": 3,
     "metadata": {},
     "output_type": "execute_result"
    }
   ],
   "source": [
    "from sklearn.feature_extraction.text import TfidfVectorizer\n",
    "vectorizer = TfidfVectorizer(tokenizer=text_pipeline_spacy, stop_words=my_stop_words)\n",
    "\n",
    "texts_vector = vectorizer.fit_transform(all_texts)\n",
    "texts_vector.shape"
   ]
  },
  {
   "attachments": {},
   "cell_type": "markdown",
   "metadata": {},
   "source": [
    "## Conducting Kmeans"
   ]
  },
  {
   "cell_type": "code",
   "execution_count": 4,
   "metadata": {},
   "outputs": [
    {
     "name": "stdout",
     "output_type": "stream",
     "text": [
      "converged\n"
     ]
    },
    {
     "data": {
      "text/plain": [
       "Counter({3: 689, 0: 885, 1: 130, 2: 20, 4: 60})"
      ]
     },
     "execution_count": 4,
     "metadata": {},
     "output_type": "execute_result"
    }
   ],
   "source": [
    "import numpy as np\n",
    "np.random.seed(42)\n",
    "def kmeans(k, matrix, max_iter=300):\n",
    "    num_data, dim_feature = matrix.shape\n",
    "\n",
    "    # Step1: pick k random centroids\n",
    "    #### centroids = np.random.random([k,22406])  # Random Partition --- does not work well\n",
    "    #Use Forgy partition to make sure at least one point is allocated to one point\n",
    "    centroids = matrix[np.random.randint(0,num_data,k)]\n",
    "\n",
    "\n",
    "    # new centroids to be calculated\n",
    "    new_centroids = np.zeros((k,dim_feature))\n",
    "\n",
    "    # labels(=index of centroids) assigned to data\n",
    "    labels = np.zeros(num_data)\n",
    "\n",
    "    # iterate until convergence or max_iteration\n",
    "    for itr in range(max_iter):\n",
    "        \n",
    "        # iterate through all data\n",
    "        for i in range(num_data):\n",
    "            # matrix is a sparse vector, so make it dense array\n",
    "            ith_vec = np.squeeze(np.asarray(matrix[i].todense()))\n",
    "\n",
    "            #Step2: Assign each vector to its closest centroid\n",
    "            dists = np.sum(np.square(centroids - ith_vec), axis=1)\n",
    "            labels[i] = np.argmin(dists)\n",
    "\n",
    "        #Step3:Recalculate the centroids\n",
    "        for j in range(k):\n",
    "            new_centroids[j] = matrix[labels==j].mean(axis=0)\n",
    "\n",
    "        # If step 2 and 3 converges, exit for-loop         \n",
    "        if np.all(new_centroids == centroids):\n",
    "            print(\"converged\")\n",
    "            break;\n",
    "        centroids = new_centroids\n",
    "\n",
    "    return labels, new_centroids\n",
    "\n",
    "\n",
    "clustered_labels, centroids = kmeans(5,texts_vector)\n",
    "from collections import Counter\n",
    "clustered_labels = [int(l) for l in clustered_labels]\n",
    "Counter(clustered_labels)"
   ]
  },
  {
   "attachments": {},
   "cell_type": "markdown",
   "metadata": {},
   "source": [
    "### For answering questions"
   ]
  },
  {
   "cell_type": "code",
   "execution_count": 5,
   "metadata": {},
   "outputs": [
    {
     "name": "stdout",
     "output_type": "stream",
     "text": [
      "\n",
      "=======label0=======\n",
      "0th docs\n",
      "Moonlight\n",
      "Lyrics\n",
      "The sun is setting and you're right here by my side\n",
      "And the movie is playing, but we won't be watching \n",
      "------------------\n",
      "1th docs\n",
      "Shady XV\n",
      "Shady XV Lyrics\n",
      "I'm liable to start a violent spark with a silent thought\n",
      "I disgust you like dialogue from The \n",
      "------------------\n",
      "2th docs\n",
      "Write Your Name\n",
      "Write Your Name Lyrics\n",
      "Take my arm, take my head\n",
      "Make your mark like a man\n",
      "Write your name\n",
      "Gonna write y\n",
      "------------------\n",
      "\n",
      "=======label1=======\n",
      "0th docs\n",
      "On the Floor (Mixin Marc & Tony Svejda L.A. to Ibiza Mix)\n",
      "On the Floor (Mixin Marc & Tony Svejda L.A. to Ibiza Mix) Lyri\n",
      "------------------\n",
      "1th docs\n",
      "​in my head\n",
      "Grande - in my head (Srpski Prevod)PortuguêsAriana Grande - in my head (polskie tłumaczenie)ItalianoDeutschف\n",
      "------------------\n",
      "2th docs\n",
      "Don’t Walk Away\n",
      "Don’t Walk Away Lyrics\n",
      "Ooh, don't walk away\n",
      "Walk away\n",
      "\n",
      "Don't walk away\n",
      "See, I just can't find the right \n",
      "------------------\n",
      "\n",
      "=======label2=======\n",
      "0th docs\n",
      "INUYASHA\n",
      "Lyrics\n",
      "Damn, baby, what's your fucking name? god damn (Murder)\n",
      "Goddamn, goddamn\n",
      "100 hoes\n",
      "BitBoy Beats\n",
      "Acid, aci\n",
      "------------------\n",
      "1th docs\n",
      "​rare\n",
      "Lyrics\n",
      "Very fucking holy, very fucking rare\n",
      "Even in broad daylight, I have this dream, I have this fantasy\n",
      "Marvelo\n",
      "------------------\n",
      "2th docs\n",
      "Yah Yah\n",
      "- Yah Yah ft. Royce da 5'9'’ & Black Thought & Q-Tip & dEnAun (Türkçe Çeviri)Bahasa IndonesiaYah Yah Lyrics\n",
      "Yah,\n",
      "------------------\n",
      "\n",
      "=======label3=======\n",
      "0th docs\n",
      "Perfect Illusion\n",
      "Perfect Illusion Lyrics\n",
      "Tryin' to get control\n",
      "Pressure's takin' its toll\n",
      "Stuck in the middle zone\n",
      "I jus\n",
      "------------------\n",
      "1th docs\n",
      "Freakshow\n",
      "Freakshow Lyrics\n",
      "'Cause I guarantee you've never seen a show like this before\n",
      "Gonna show you something that yo\n",
      "------------------\n",
      "2th docs\n",
      "Again\n",
      "Again Lyrics\n",
      "Like an angel, out the sky you came\n",
      "Clearing up all the clouds, the sadness and the rain\n",
      "So pure and \n",
      "------------------\n",
      "\n",
      "=======label4=======\n",
      "0th docs\n",
      "Scheiße (DJ White Shadow Mugler)\n",
      "Scheiße (DJ White Shadow Mugler) Lyrics\n",
      "I don’t speak German, but I can if you like, ow\n",
      "------------------\n",
      "1th docs\n",
      "The Manifesto of Chromatica\n",
      "The Manifesto of Chromatica Lyrics\n",
      "When I was younger, I was at some point, born.\n",
      "I grew in \n",
      "------------------\n",
      "2th docs\n",
      "Yours And Mine\n",
      "Yours And Mine Lyrics\n",
      "I sometimes wish I could just be anonymous and walk down the street just like every\n",
      "------------------\n"
     ]
    }
   ],
   "source": [
    "# question a) show documents assigned to eatch cluster\n",
    "shown = {} # labels checked\n",
    "doc_samples = [[] for _ in range(5)]# documents sampled\n",
    "for idx,l in enumerate(clustered_labels):\n",
    "    if(shown.get(l,0) < 3):\n",
    "        shown[l] = shown.get(l,0)+1\n",
    "        doc_samples[l].append(all_texts[idx])\n",
    "    \n",
    "for label,docs in enumerate(doc_samples):\n",
    "    print(f'\\n=======label{label}=======')\n",
    "    for i in range(3):\n",
    "        print(f'{i}th docs')\n",
    "        print(docs[i][:120])\n",
    "        print('------------------')\n",
    "\n",
    "\n"
   ]
  },
  {
   "cell_type": "code",
   "execution_count": 6,
   "metadata": {},
   "outputs": [
    {
     "name": "stdout",
     "output_type": "stream",
     "text": [
      "------top 5 tokens in centroid 0-----\n",
      "know,feel,like,fuck,let,\n",
      "\n",
      "------top 5 tokens in centroid 1-----\n",
      "stay,bitch,away,work,walk,\n",
      "\n",
      "------top 5 tokens in centroid 2-----\n",
      "animal,jump,damn,glad,effect,\n",
      "\n",
      "------top 5 tokens in centroid 3-----\n",
      "want,know,love,like,baby,\n",
      "\n",
      "------top 5 tokens in centroid 4-----\n",
      "like,people,world,woman,million,\n",
      "\n"
     ]
    }
   ],
   "source": [
    "# question a)\n",
    "for i in range(5):\n",
    "    print(f\"------top 5 tokens in centroid {i}-----\")\n",
    "    indices = np.argsort(centroids[i])[-5:] # indices of most prominent tokens\n",
    "    for key,val in vectorizer.vocabulary_.items():\n",
    "        if val in indices:\n",
    "            print(f'{key}',end=\",\")\n",
    "    print(\"\\n\")\n"
   ]
  },
  {
   "cell_type": "code",
   "execution_count": 7,
   "metadata": {},
   "outputs": [
    {
     "name": "stdout",
     "output_type": "stream",
     "text": [
      "Counter({0: 885, 3: 689, 1: 130, 4: 60, 2: 20})\n"
     ]
    },
    {
     "data": {
      "text/plain": [
       "array([885, 130,  20, 689,  60])"
      ]
     },
     "execution_count": 7,
     "metadata": {},
     "output_type": "execute_result"
    }
   ],
   "source": [
    "# question c) construct a confusion matrix\n",
    "# correspond labels(songer names) with integers\n",
    "\n",
    "label2id = {\"Beyonce Knowles\":0,\n",
    "            \"Michael Jackson\":1,\n",
    "            \"Lady Gaga\":2,\n",
    "            \"Taylor Swift\":3,\n",
    "            \"Ariana Grande\":4,\n",
    "            \"Selena Gomez\":5,\n",
    "            \"Eminem\":6,\n",
    "            \"Jennifer Lopez\":7,\n",
    "            \"Dua Lipa\":8,\n",
    "            \"XXXTentacion\":9}\n",
    "#label2id = {label: i for i, label in enumerate(set(labels_train))} \n",
    "#enumerate is environmentally dependent so, substituted by avove\n",
    "id2label = {id:label for label,id in label2id.items()}\n",
    "\n",
    "print(Counter(clustered_labels))\n",
    "\n",
    "cm = [[0 for _ in range(5)] for _ in range(10)]\n",
    "for idx, label in enumerate(all_labels):\n",
    "    true_id = label2id[label] \n",
    "    pred_id = clustered_labels[idx]\n",
    "    cm[true_id][pred_id] += 1\n",
    "cm = np.array(cm)\n",
    "np.sum(cm,axis=0) #Just to check aggregation is correctly done"
   ]
  },
  {
   "cell_type": "code",
   "execution_count": 8,
   "metadata": {},
   "outputs": [
    {
     "data": {
      "text/plain": [
       "<AxesSubplot:xlabel='k-means labels', ylabel='Target labels'>"
      ]
     },
     "execution_count": 8,
     "metadata": {},
     "output_type": "execute_result"
    },
    {
     "data": {
      "image/png": "[encoded data removed]",
      "text/plain": [
       "<Figure size 432x288 with 1 Axes>"
      ]
     },
     "metadata": {
      "needs_background": "light"
     },
     "output_type": "display_data"
    }
   ],
   "source": [
    "# show confusion matrix\n",
    "from sklearn.metrics import confusion_matrix\n",
    "from sklearn.metrics import ConfusionMatrixDisplay\n",
    "import seaborn as sn\n",
    "\n",
    "def plotConfusionMatrix(cm, labels_val, labels_predicted):\n",
    "  cm = cm\n",
    "  colour_map = sn.color_palette(\"Reds\", as_cmap=True)\n",
    "  labels_x = labels_val\n",
    "  labels_y = labels_predicted #list(label2id.keys())#['Eminem', 'Beyonce Knowles', 'Dua Lipa', 'Selena Gomez', 'Michael Jackson', 'Ariana Grande', 'Taylor Swift', 'Lady Gaga', 'XXXTentacion', 'Jennifer Lopez']\n",
    "  plot = sn.heatmap(cm, \n",
    "                    annot=True, # Put the numbers in\n",
    "                    annot_kws={\"size\": 16}, # Make the numbers bigger\n",
    "                    fmt='g', # Stop scientific notation\n",
    "                    cmap = colour_map, # Choose the colour palette\n",
    "                    cbar = False, # Don't include the colour bar\n",
    "                    xticklabels=labels_x,#labels_x, # Put in the X and Y labels\n",
    "                    yticklabels=labels_y)\n",
    "  plot.set(xlabel='k-means labels', ylabel='Target labels')\n",
    "  return plot\n",
    "\n",
    "plotConfusionMatrix(cm, [str(i) for i in range(5)] ,list(label2id.keys()))"
   ]
  },
  {
   "attachments": {},
   "cell_type": "markdown",
   "metadata": {},
   "source": [
    "# Q3-Comparing Classifiers"
   ]
  },
  {
   "cell_type": "code",
   "execution_count": 9,
   "metadata": {},
   "outputs": [],
   "source": [
    "# Show classifier performance\n",
    "from sklearn.metrics import accuracy_score, precision_score, recall_score, f1_score\n",
    "def showPerformance(labels_true, labels_predicted):\n",
    "    print(f'accuracy ={accuracy_score(labels_true, labels_predicted):.3f}')\n",
    "    print(f'precision={precision_score(labels_true, labels_predicted, average=\"macro\"):.3f}')\n",
    "    print(f'recall   ={recall_score(labels_true, labels_predicted, average=\"macro\"):.3f}') \n",
    "    print(f'f1       ={f1_score(labels_true, labels_predicted, average=\"macro\"):.3f}')\n",
    "    return ;\n"
   ]
  },
  {
   "attachments": {},
   "cell_type": "markdown",
   "metadata": {},
   "source": [
    "### Dummy Classifier with strategy=\"most_frequent\""
   ]
  },
  {
   "cell_type": "code",
   "execution_count": 10,
   "metadata": {},
   "outputs": [
    {
     "name": "stdout",
     "output_type": "stream",
     "text": [
      "0.08403361344537816\n",
      "on validation\n",
      "accuracy =0.084\n",
      "precision=0.008\n",
      "recall   =0.100\n",
      "f1       =0.016\n",
      "\n",
      "on training\n",
      "accuracy =0.127\n",
      "precision=0.013\n",
      "recall   =0.100\n",
      "f1       =0.023\n"
     ]
    },
    {
     "name": "stderr",
     "output_type": "stream",
     "text": [
      "/home/denjo/.local/lib/python3.8/site-packages/sklearn/metrics/_classification.py:1334: UndefinedMetricWarning: Precision is ill-defined and being set to 0.0 in labels with no predicted samples. Use `zero_division` parameter to control this behavior.\n",
      "  _warn_prf(average, modifier, msg_start, len(result))\n",
      "/home/denjo/.local/lib/python3.8/site-packages/sklearn/metrics/_classification.py:1334: UndefinedMetricWarning: Precision is ill-defined and being set to 0.0 in labels with no predicted samples. Use `zero_division` parameter to control this behavior.\n",
      "  _warn_prf(average, modifier, msg_start, len(result))\n"
     ]
    }
   ],
   "source": [
    "from sklearn.dummy import DummyClassifier\n",
    "dummy_clf = DummyClassifier(strategy=\"most_frequent\")\n",
    "dummy_clf.fit(texts_train,labels_train)\n",
    "labels_predicted = dummy_clf.predict(texts_val)\n",
    "\n",
    "print(dummy_clf.score(texts_val, labels_val))\n",
    "print(\"on validation\")\n",
    "showPerformance(labels_val, labels_predicted)\n",
    "print(\"\\non training\")\n",
    "showPerformance(labels_train, dummy_clf.predict(texts_train))"
   ]
  },
  {
   "attachments": {},
   "cell_type": "markdown",
   "metadata": {},
   "source": [
    "### Dummy Classifier with strategy=\"stratified\""
   ]
  },
  {
   "cell_type": "code",
   "execution_count": 27,
   "metadata": {},
   "outputs": [
    {
     "name": "stdout",
     "output_type": "stream",
     "text": [
      "accuracy =0.101\n",
      "precision=0.099\n",
      "recall   =0.096\n",
      "f1       =0.096\n",
      "\n",
      "on training\n",
      "accuracy =0.089\n",
      "precision=0.087\n",
      "recall   =0.086\n",
      "f1       =0.086\n"
     ]
    }
   ],
   "source": [
    "from sklearn.dummy import DummyClassifier\n",
    "dummy_clf = DummyClassifier(strategy=\"stratified\")\n",
    "dummy_clf.fit(texts_train,labels_train)\n",
    "labels_predicted = dummy_clf.predict(texts_val)\n",
    "\n",
    "showPerformance(labels_val, labels_predicted)\n",
    "\n",
    "print(\"\\non training\")\n",
    "showPerformance(labels_train, dummy_clf.predict(texts_train))"
   ]
  },
  {
   "attachments": {},
   "cell_type": "markdown",
   "metadata": {},
   "source": [
    "### LogisticRegression with one-hot vectorization"
   ]
  },
  {
   "cell_type": "code",
   "execution_count": 28,
   "metadata": {},
   "outputs": [
    {
     "name": "stdout",
     "output_type": "stream",
     "text": [
      "accuracy =0.560\n",
      "precision=0.563\n",
      "recall   =0.564\n",
      "f1       =0.554\n",
      "\n",
      "on training\n",
      "accuracy =1.000\n",
      "precision=1.000\n",
      "recall   =1.000\n",
      "f1       =1.000\n"
     ]
    }
   ],
   "source": [
    "from sklearn.feature_extraction.text import CountVectorizer\n",
    "from sklearn.linear_model import LogisticRegression\n",
    "vectorizer = CountVectorizer(tokenizer=text_pipeline_spacy,stop_words=my_stop_words)\n",
    "\n",
    "vect_texts_train = vectorizer.fit_transform(texts_train)\n",
    "vect_texts_train[vect_texts_train != 0] = 1 # convert non-zero counting into 1\n",
    "\n",
    "vect_texts_val = vectorizer.transform(texts_val)\n",
    "vect_texts_val[vect_texts_val != 0] = 1\n",
    "\n",
    "# Logistic Regression\n",
    "clf = LogisticRegression(random_state=42,max_iter=1000).fit(vect_texts_train, labels_train)\n",
    "labels_predicted = clf.predict(vect_texts_val)\n",
    "\n",
    "\n",
    "showPerformance(labels_val, labels_predicted)\n",
    "\n",
    "print(\"\\non training\")\n",
    "showPerformance(labels_train, clf.predict(vect_texts_train))"
   ]
  },
  {
   "attachments": {},
   "cell_type": "markdown",
   "metadata": {},
   "source": [
    "### LogisticRegression with TF-IDF vectorization"
   ]
  },
  {
   "cell_type": "code",
   "execution_count": 29,
   "metadata": {},
   "outputs": [
    {
     "name": "stdout",
     "output_type": "stream",
     "text": [
      "accuracy =0.457\n",
      "precision=0.434\n",
      "recall   =0.451\n",
      "f1       =0.421\n",
      "\n",
      "on training\n",
      "accuracy =0.921\n",
      "precision=0.931\n",
      "recall   =0.895\n",
      "f1       =0.902\n"
     ]
    },
    {
     "name": "stderr",
     "output_type": "stream",
     "text": [
      "/home/denjo/.local/lib/python3.8/site-packages/sklearn/metrics/_classification.py:1334: UndefinedMetricWarning: Precision is ill-defined and being set to 0.0 in labels with no predicted samples. Use `zero_division` parameter to control this behavior.\n",
      "  _warn_prf(average, modifier, msg_start, len(result))\n"
     ]
    }
   ],
   "source": [
    "vectorizer = TfidfVectorizer(tokenizer=text_pipeline_spacy,stop_words=my_stop_words)\n",
    "vect_texts_train = vectorizer.fit_transform(texts_train)\n",
    "vect_texts_val = vectorizer.transform(texts_val)\n",
    "\n",
    "# Logistic Regression\n",
    "clf = LogisticRegression(random_state=42).fit(vect_texts_train, labels_train)\n",
    "labels_predicted = clf.predict(vect_texts_val)\n",
    "\n",
    "\n",
    "showPerformance(labels_val, labels_predicted)\n",
    "\n",
    "print(\"\\non training\")\n",
    "showPerformance(labels_train, clf.predict(vect_texts_train))\n"
   ]
  },
  {
   "attachments": {},
   "cell_type": "markdown",
   "metadata": {},
   "source": [
    "### SVC Classifier with One-hot vectorization"
   ]
  },
  {
   "cell_type": "code",
   "execution_count": 30,
   "metadata": {},
   "outputs": [
    {
     "name": "stdout",
     "output_type": "stream",
     "text": [
      "accuracy =0.499\n",
      "precision=0.493\n",
      "recall   =0.496\n",
      "f1       =0.466\n",
      "\n",
      "on training\n"
     ]
    },
    {
     "name": "stderr",
     "output_type": "stream",
     "text": [
      "/home/denjo/.local/lib/python3.8/site-packages/sklearn/metrics/_classification.py:1334: UndefinedMetricWarning: Precision is ill-defined and being set to 0.0 in labels with no predicted samples. Use `zero_division` parameter to control this behavior.\n",
      "  _warn_prf(average, modifier, msg_start, len(result))\n"
     ]
    },
    {
     "name": "stdout",
     "output_type": "stream",
     "text": [
      "accuracy =0.927\n",
      "precision=0.940\n",
      "recall   =0.902\n",
      "f1       =0.910\n"
     ]
    }
   ],
   "source": [
    "# making one-hot vectors\n",
    "from sklearn.feature_extraction.text import CountVectorizer\n",
    "vectorizer = CountVectorizer(tokenizer=text_pipeline_spacy,stop_words=my_stop_words)\n",
    "vect_texts_train = vectorizer.fit_transform(texts_train)\n",
    "vect_texts_train[vect_texts_train != 0] = 1 # convert non-zero counting into 1\n",
    "\n",
    "vect_texts_val = vectorizer.transform(texts_val)\n",
    "vect_texts_val[vect_texts_val != 0] = 1\n",
    "\n",
    "from sklearn.svm import SVC\n",
    "clf = SVC(random_state=42).fit(vect_texts_train, labels_train)\n",
    "labels_predicted = clf.predict(vect_texts_val)\n",
    "\n",
    "\n",
    "showPerformance(labels_val, labels_predicted)\n",
    "\n",
    "print(\"\\non training\")\n",
    "showPerformance(labels_train, clf.predict(vect_texts_train))"
   ]
  },
  {
   "attachments": {},
   "cell_type": "markdown",
   "metadata": {},
   "source": [
    "#### bar chart for F1 scores in LR with One-hot"
   ]
  },
  {
   "cell_type": "code",
   "execution_count": 31,
   "metadata": {},
   "outputs": [
    {
     "name": "stdout",
     "output_type": "stream",
     "text": [
      "accuracy =0.560\n",
      "precision=0.563\n",
      "recall   =0.564\n",
      "f1       =0.554\n"
     ]
    }
   ],
   "source": [
    "# calculate labels again\n",
    "vectorizer = CountVectorizer(tokenizer=text_pipeline_spacy,stop_words=my_stop_words)\n",
    "\n",
    "vect_texts_train = vectorizer.fit_transform(texts_train)\n",
    "vect_texts_train[vect_texts_train != 0] = 1 # convert non-zero counting into 1\n",
    "vect_texts_val = vectorizer.transform(texts_val)\n",
    "vect_texts_val[vect_texts_val != 0] = 1\n",
    "# Logistic Regression\n",
    "clf = LogisticRegression(random_state=42,max_iter=1000).fit(vect_texts_train, labels_train)\n",
    "labels_predicted = clf.predict(vect_texts_val)\n",
    "\n",
    "\n",
    "showPerformance(labels_val, labels_predicted)"
   ]
  },
  {
   "cell_type": "code",
   "execution_count": 32,
   "metadata": {},
   "outputs": [
    {
     "name": "stderr",
     "output_type": "stream",
     "text": [
      "/tmp/ipykernel_21142/3443738131.py:22: UserWarning: Matplotlib is currently using module://matplotlib_inline.backend_inline, which is a non-GUI backend, so cannot show the figure.\n",
      "  fig.show()\n"
     ]
    },
    {
     "data": {
      "image/png": "[encoded data removed]",
      "text/plain": [
       "<Figure size 432x288 with 1 Axes>"
      ]
     },
     "metadata": {
      "needs_background": "light"
     },
     "output_type": "display_data"
    }
   ],
   "source": [
    "#a) drawing a bar chart for F1 scores\n",
    "import matplotlib.pyplot as plt\n",
    "\n",
    "# Calculate F1 score for each class\n",
    "label_set = set(labels_val)\n",
    "f1_scores = np.zeros(10)\n",
    "for idx,l in enumerate(label_set):\n",
    "    true_mask = np.array(labels_val) == l\n",
    "    pred_mask = np.array(labels_predicted) == l\n",
    "    f1_scores[idx] = f1_score(true_mask, pred_mask)\n",
    "\n",
    "# Plot bar chart with F1 score for each class\n",
    "fig = plt.figure()\n",
    "ax = fig.add_subplot()\n",
    "ax.bar(range(10), f1_scores)\n",
    "ax.set_xlabel(\"Class\")\n",
    "ax.set_ylabel(\"F1 Score\")\n",
    "ax.set_xticks(range(10))\n",
    "\n",
    "ax.set_xticklabels(list(label_set),rotation=90)\n",
    "fig.savefig(\"./figures/F1score.png\", bbox_inches=\"tight\")\n",
    "fig.show()\n"
   ]
  },
  {
   "attachments": {},
   "cell_type": "markdown",
   "metadata": {},
   "source": [
    "### b) my classifier"
   ]
  },
  {
   "cell_type": "code",
   "execution_count": 33,
   "metadata": {},
   "outputs": [
    {
     "name": "stdout",
     "output_type": "stream",
     "text": [
      "[[0.48507125 0.48507125 0.72760688]]\n"
     ]
    },
    {
     "data": {
      "text/plain": [
       "dict_keys(['oh', '-', 'ah'])"
      ]
     },
     "execution_count": 33,
     "metadata": {},
     "output_type": "execute_result"
    }
   ],
   "source": [
    "# my tokenizer\n",
    "def my_text_pipeline_spacy(text):\n",
    "    tokens = []\n",
    "    doc = nlp(text)\n",
    "    for t in doc:\n",
    "        # maintain punctuation, stopwords, Capital words\n",
    "        if not t.is_space:\n",
    "            tokens.append(t.lemma_)\n",
    "    return tokens\n",
    "vectorizer = TfidfVectorizer(tokenizer=my_text_pipeline_spacy)#tokenizer=None, stop_words=None,lowercase=False)\n",
    "print(vectorizer.fit_transform([\"Oh-oh-oh \\tah ah\"]).todense())\n",
    "vectorizer.vocabulary_.keys()\n"
   ]
  },
  {
   "cell_type": "code",
   "execution_count": 34,
   "metadata": {},
   "outputs": [
    {
     "name": "stdout",
     "output_type": "stream",
     "text": [
      "(1070, 15354)\n",
      "accuracy =0.443\n",
      "precision=0.413\n",
      "recall   =0.437\n",
      "f1       =0.403\n",
      "\n",
      "on training\n",
      "accuracy =0.839\n",
      "precision=0.854\n",
      "recall   =0.805\n",
      "f1       =0.812\n"
     ]
    },
    {
     "name": "stderr",
     "output_type": "stream",
     "text": [
      "/home/denjo/.local/lib/python3.8/site-packages/sklearn/metrics/_classification.py:1334: UndefinedMetricWarning: Precision is ill-defined and being set to 0.0 in labels with no predicted samples. Use `zero_division` parameter to control this behavior.\n",
      "  _warn_prf(average, modifier, msg_start, len(result))\n"
     ]
    }
   ],
   "source": [
    "vectorizer = TfidfVectorizer(tokenizer=my_text_pipeline_spacy)\n",
    "vect_texts_train = vectorizer.fit_transform(texts_train)\n",
    "vect_texts_val = vectorizer.transform(texts_val)\n",
    "\n",
    "print(vect_texts_train.shape)\n",
    "# Logistic Regression\n",
    "clf = LogisticRegression(random_state=42).fit(vect_texts_train, labels_train)\n",
    "labels_predicted = clf.predict(vect_texts_val)\n",
    "\n",
    "\n",
    "showPerformance(labels_val, labels_predicted)\n",
    "\n",
    "print(\"\\non training\")\n",
    "showPerformance(labels_train, clf.predict(vect_texts_train))\n"
   ]
  },
  {
   "attachments": {},
   "cell_type": "markdown",
   "metadata": {},
   "source": [
    "# Q4-Parameter Tuning"
   ]
  },
  {
   "attachments": {},
   "cell_type": "markdown",
   "metadata": {},
   "source": [
    "#### choose C value"
   ]
  },
  {
   "cell_type": "code",
   "execution_count": null,
   "metadata": {},
   "outputs": [],
   "source": [
    "import pandas as pd\n",
    "from tqdm import tqdm\n",
    "from sklearn.model_selection import ParameterGrid\n",
    "param_C = {'C':np.logspace(-3,5,9,base=10.0)}\n",
    "\n",
    "results = pd.DataFrame({\"accuracy\":[],\n",
    "                        \"precision\":[],\n",
    "                        \"recall\":[],\n",
    "                        \"F1\":[]})\n",
    "\n",
    "for params in tqdm(ParameterGrid(param_C)):\n",
    "  # vectorize training set and validation set\n",
    "  vectorizer = TfidfVectorizer(tokenizer=text_pipeline_spacy, stop_words=my_stop_words)\n",
    "  vect_texts_train = vectorizer.fit_transform(texts_train)\n",
    "  vect_texts_val = vectorizer.transform(texts_val)\n",
    "\n",
    "  # logistic regression\n",
    "  clf = LogisticRegression(random_state=42,C=params['C'],max_iter=1000).fit(vect_texts_train, labels_train)\n",
    "  labels_predicted = clf.predict(vect_texts_val)\n",
    "\n",
    "  results.loc[f\"C={params['C']}\"] = [accuracy_score(labels_val, labels_predicted),\n",
    "                                     precision_score(labels_val,labels_predicted,average=\"macro\"),\n",
    "                                     recall_score(labels_val, labels_predicted, average=\"macro\"),\n",
    "                                     f1_score(labels_val, labels_predicted, average=\"macro\")\n",
    "                                    ]\n",
    "results.round(3)\n",
    "\n"
   ]
  },
  {
   "attachments": {},
   "cell_type": "markdown",
   "metadata": {},
   "source": [
    "#### choose vectorizer"
   ]
  },
  {
   "cell_type": "code",
   "execution_count": null,
   "metadata": {},
   "outputs": [],
   "source": [
    "param_vec = {'max_features':[None, 5, 50, 500, 5000, 50000], 'sublinear_tf':[True,False]}\n",
    "\n",
    "results = pd.DataFrame({\"accuracy\":[],\n",
    "                        \"precision\":[],\n",
    "                        \"recall\":[],\n",
    "                        \"F1\":[]})\n",
    "for params in tqdm(ParameterGrid(param_vec)):\n",
    "  # vectorize training set and validation set\n",
    "  vectorizer = TfidfVectorizer(tokenizer=text_pipeline_spacy,stop_words=my_stop_words, max_features=params[\"max_features\"], sublinear_tf=params[\"sublinear_tf\"])\n",
    "  vect_texts_train = vectorizer.fit_transform(texts_train)\n",
    "  vect_texts_val = vectorizer.transform(texts_val)\n",
    "\n",
    "  # logistic regression\n",
    "  clf = LogisticRegression(random_state=42,C=10,max_iter=1000).fit(vect_texts_train, labels_train)\n",
    "  labels_predicted = clf.predict(vect_texts_val)\n",
    "\n",
    "  results.loc[f\"MF={params['max_features']},SF={params['sublinear_tf']}\"] = \\\n",
    "                                    [accuracy_score(labels_val, labels_predicted),\n",
    "                                     precision_score(labels_val,labels_predicted,average=\"macro\"),\n",
    "                                     recall_score(labels_val, labels_predicted, average=\"macro\"),\n",
    "                                     f1_score(labels_val, labels_predicted, average=\"macro\")\n",
    "                                    ]\n",
    "results.round(3)\n"
   ]
  },
  {
   "attachments": {},
   "cell_type": "markdown",
   "metadata": {},
   "source": [
    "#### Choose penalty "
   ]
  },
  {
   "cell_type": "code",
   "execution_count": null,
   "metadata": {},
   "outputs": [],
   "source": [
    "param_vec = {'penalty':['none','l2','l1','elasticnet']}\n",
    "\n",
    "results = pd.DataFrame({\"accuracy\":[],\n",
    "                        \"precision\":[],\n",
    "                        \"recall\":[],\n",
    "                        \"F1\":[]})\n",
    "# vectorize training set and validation set\n",
    "vectorizer = TfidfVectorizer(tokenizer=text_pipeline_spacy,stop_words=my_stop_words,max_features=5000, sublinear_tf=True)#, max_features=params[\"max_features\"], sublinear_tf=params[\"sublinear_tf\"])\n",
    "vect_texts_train = vectorizer.fit_transform(texts_train)\n",
    "vect_texts_val = vectorizer.transform(texts_val)\n",
    "\n",
    "for params in tqdm(ParameterGrid(param_vec)):\n",
    "\n",
    "  # logistic regression\n",
    "  clf = LogisticRegression(random_state=42,C=10,max_iter=10000,penalty=params[\"penalty\"],solver='saga',l1_ratio=0.5).fit(vect_texts_train, labels_train)\n",
    "  labels_predicted = clf.predict(vect_texts_val)\n",
    "\n",
    "  results.loc[f\"param:{params['penalty']}\"] =  \\\n",
    "                                    [accuracy_score(labels_val, labels_predicted),\n",
    "                                     precision_score(labels_val,labels_predicted,average=\"macro\"),\n",
    "                                     recall_score(labels_val, labels_predicted, average=\"macro\"),\n",
    "                                     f1_score(labels_val, labels_predicted, average=\"macro\")\n",
    "                                    ]\n",
    "results.round(3)"
   ]
  },
  {
   "attachments": {},
   "cell_type": "markdown",
   "metadata": {},
   "source": [
    "# ここから下はゴミ"
   ]
  },
  {
   "attachments": {},
   "cell_type": "markdown",
   "metadata": {},
   "source": [
    "# Q6"
   ]
  },
  {
   "cell_type": "code",
   "execution_count": null,
   "metadata": {},
   "outputs": [],
   "source": []
  },
  {
   "cell_type": "code",
   "execution_count": 108,
   "metadata": {},
   "outputs": [
    {
     "name": "stdout",
     "output_type": "stream",
     "text": [
      "357\n"
     ]
    },
    {
     "data": {
      "text/plain": [
       "357"
      ]
     },
     "execution_count": 108,
     "metadata": {},
     "output_type": "execute_result"
    }
   ],
   "source": [
    "import pickle\n",
    "with open (\"test_resultsE.pickle\",\"rb\") as f:\n",
    "    t_labels_predicted = pickle.load(f)\n",
    "    t_label_ids = pickle.load(f)\n",
    "\n",
    "print(len(t_label_ids))\n",
    "len(t_labels_predicted)"
   ]
  },
  {
   "cell_type": "code",
   "execution_count": 109,
   "metadata": {},
   "outputs": [
    {
     "data": {
      "text/plain": [
       "array([0, 2, 0, 1, 2, 8, 5, 9, 5, 6])"
      ]
     },
     "execution_count": 109,
     "metadata": {},
     "output_type": "execute_result"
    }
   ],
   "source": [
    "t_labels_predicted[:10]\n",
    "t_label_ids[:10]"
   ]
  },
  {
   "cell_type": "code",
   "execution_count": 110,
   "metadata": {},
   "outputs": [],
   "source": [
    "\n",
    "def showPerformance(labels_true, labels_predicted):\n",
    "    print(f'accuracy ={accuracy_score(labels_true, labels_predicted):.3f}')\n",
    "    print(f'precision={precision_score(labels_true, labels_predicted, average=\"macro\"):.3f}')\n",
    "    print(f'recall   ={recall_score(labels_true, labels_predicted, average=\"macro\"):.3f}') \n",
    "    print(f'f1       ={f1_score(labels_true, labels_predicted, average=\"macro\"):.3f}')\n",
    "    return ;"
   ]
  },
  {
   "cell_type": "code",
   "execution_count": 111,
   "metadata": {},
   "outputs": [
    {
     "name": "stdout",
     "output_type": "stream",
     "text": [
      "accuracy =0.597\n",
      "precision=0.617\n",
      "recall   =0.592\n",
      "f1       =0.591\n"
     ]
    }
   ],
   "source": [
    "showPerformance(t_label_ids, t_labels_predicted)"
   ]
  },
  {
   "cell_type": "code",
   "execution_count": null,
   "metadata": {},
   "outputs": [],
   "source": [
    "# correspond labels(songer names) with integers\n",
    "label2id = {label: i for i, label in enumerate(set(labels_train))}\n",
    "id2label = {id:label for label,id in label2id.items()}\n",
    "labels_train_int = [label2id[l] for l in labels_train]\n",
    "labels_val_int = [label2id[l] for l in labels_val]"
   ]
  },
  {
   "cell_type": "code",
   "execution_count": null,
   "metadata": {},
   "outputs": [],
   "source": [
    "showPerformance(t_label_ids, t_labels_predicted)"
   ]
  },
  {
   "cell_type": "code",
   "execution_count": 113,
   "metadata": {},
   "outputs": [],
   "source": [
    "from sklearn.metrics import confusion_matrix\n",
    "# confusion_matrix(t_label_ids, t_labels_predicted)\n",
    "\n",
    "# show confusion matrix\n",
    "from sklearn.metrics import confusion_matrix\n",
    "from sklearn.metrics import ConfusionMatrixDisplay\n",
    "import seaborn as sn\n",
    "\n",
    "def plotConfusionMatrix(cm, labels_val, labels_predicted):\n",
    "  # cm = cm\n",
    "  colour_map = sn.color_palette(\"Reds\", as_cmap=True)\n",
    "  labels_x = labels_val\n",
    "  labels_y = labels_predicted #list(label2id.keys())#['Eminem', 'Beyonce Knowles', 'Dua Lipa', 'Selena Gomez', 'Michael Jackson', 'Ariana Grande', 'Taylor Swift', 'Lady Gaga', 'XXXTentacion', 'Jennifer Lopez']\n",
    "  plot = sn.heatmap(cm, \n",
    "                    annot=True, # Put the numbers in\n",
    "                    annot_kws={\"size\": 16}, # Make the numbers bigger\n",
    "                    fmt='g', # Stop scientific notation\n",
    "                    cmap = colour_map, # Choose the colour palette\n",
    "                    cbar = False, # Don't include the colour bar\n",
    "                    xticklabels=labels_x,#labels_x, # Put in the X and Y labels\n",
    "                    yticklabels=labels_y)\n",
    "  plot.set(xlabel='Predicted labels', ylabel='Target labels')\n",
    "  return plot\n"
   ]
  },
  {
   "cell_type": "code",
   "execution_count": 114,
   "metadata": {},
   "outputs": [
    {
     "data": {
      "text/plain": [
       "<AxesSubplot:xlabel='Predicted labels', ylabel='Target labels'>"
      ]
     },
     "execution_count": 114,
     "metadata": {},
     "output_type": "execute_result"
    },
    {
     "data": {
      "image/png": "[encoded data removed]",
      "text/plain": [
       "<Figure size 432x288 with 1 Axes>"
      ]
     },
     "metadata": {
      "needs_background": "light"
     },
     "output_type": "display_data"
    }
   ],
   "source": [
    "cm = confusion_matrix(t_label_ids, t_labels_predicted)\n",
    "plotConfusionMatrix(cm, list(label2id.keys()) ,list(label2id.keys()))"
   ]
  },
  {
   "cell_type": "code",
   "execution_count": 116,
   "metadata": {},
   "outputs": [
    {
     "data": {
      "text/plain": [
       "[34, 36, 77, 154, 209, 227, 300]"
      ]
     },
     "execution_count": 116,
     "metadata": {},
     "output_type": "execute_result"
    }
   ],
   "source": [
    "def checkMissClassification(true_id, false_id, labels_test, labels_predicted):\n",
    "    mistaken_docID = []\n",
    "    for i in range(len(labels_test)):\n",
    "        # check false negative for true_id class, i.e. case where mistake true_id for false_id\n",
    "        # # # if type == \"FN\":\n",
    "        if(labels_test[i] == true_id and labels_predicted[i] == false_id):\n",
    "            mistaken_docID.append(i)\n",
    "        \n",
    "        # # if type == \"FP\":\n",
    "        #     if(labels_test[i] == )\n",
    "    return mistaken_docID\n",
    "\n",
    "        \n",
    "            \n",
    "checkMissClassification(label2id[\"Beyonce Knowles\"],\n",
    "                        label2id[\"Selena Gomez\"],\n",
    "                        t_label_ids, t_labels_predicted)\n",
    "\n"
   ]
  },
  {
   "cell_type": "code",
   "execution_count": 115,
   "metadata": {},
   "outputs": [
    {
     "name": "stdout",
     "output_type": "stream",
     "text": [
      "Smash Into You\n",
      "Smash Into You Lyrics\n",
      "\n",
      "Head down\n",
      "As\n",
      "Beyonce Knowles\n"
     ]
    }
   ],
   "source": [
    "print(texts_test[34][:50])\n",
    "print(labels_test[34])"
   ]
  },
  {
   "cell_type": "code",
   "execution_count": 117,
   "metadata": {},
   "outputs": [
    {
     "data": {
      "text/plain": [
       "'Beyonce Knowles'"
      ]
     },
     "execution_count": 117,
     "metadata": {},
     "output_type": "execute_result"
    }
   ],
   "source": [
    "id2label[t_label_ids[34]]"
   ]
  },
  {
   "cell_type": "code",
   "execution_count": 119,
   "metadata": {},
   "outputs": [
    {
     "data": {
      "text/plain": [
       "'Selena Gomez'"
      ]
     },
     "execution_count": 119,
     "metadata": {},
     "output_type": "execute_result"
    }
   ],
   "source": [
    "id2label[t_labels_predicted[34]]"
   ]
  },
  {
   "cell_type": "code",
   "execution_count": null,
   "metadata": {},
   "outputs": [],
   "source": [
    "id2label.values()"
   ]
  },
  {
   "cell_type": "code",
   "execution_count": null,
   "metadata": {},
   "outputs": [],
   "source": [
    "label2id.keys()"
   ]
  },
  {
   "cell_type": "code",
   "execution_count": null,
   "metadata": {},
   "outputs": [],
   "source": []
  },
  {
   "cell_type": "code",
   "execution_count": 112,
   "metadata": {},
   "outputs": [],
   "source": [
    "# enumerate が環境依存だった\n",
    "label2id = {\"Beyonce Knowles\":0,\n",
    "            \"Michael Jackson\":1,\n",
    "            \"Lady Gaga\":2,\n",
    "            \"Taylor Swift\":3,\n",
    "            \"Ariana Grande\":4,\n",
    "            \"Selena Gomez\":5,\n",
    "            \"Eminem\":6,\n",
    "            \"Jennifer Lopez\":7,\n",
    "            \"Dua Lipa\":8,\n",
    "            \"XXXTentacion\":9}\n",
    "id2label = {id:label for label,id in label2id.items()}"
   ]
  },
  {
   "cell_type": "code",
   "execution_count": null,
   "metadata": {},
   "outputs": [],
   "source": [
    "set(labels_train)\n",
    "# label2id = {label: i for i, label in enumerate(set(labels_train))}"
   ]
  },
  {
   "cell_type": "code",
   "execution_count": null,
   "metadata": {},
   "outputs": [],
   "source": [
    "for i,l in enumerate(set(labels_train)):\n",
    "    print(i,l)"
   ]
  },
  {
   "cell_type": "code",
   "execution_count": null,
   "metadata": {},
   "outputs": [],
   "source": [
    "print(id2label[t_label_ids[0]])\n",
    "labels_test[0]"
   ]
  },
  {
   "cell_type": "code",
   "execution_count": null,
   "metadata": {},
   "outputs": [],
   "source": [
    "print(id2label[t_label_ids[54]])\n",
    "id2label[t_labels_predicted[54]]\n",
    "print(t_label_ids[:10])\n",
    "print(labels_test[:10])\n",
    "print(t_labels_predicted[:10])\n"
   ]
  },
  {
   "cell_type": "code",
   "execution_count": null,
   "metadata": {},
   "outputs": [],
   "source": [
    "labels_test_int = [label2id[l] for l in labels_test]\n"
   ]
  },
  {
   "cell_type": "code",
   "execution_count": null,
   "metadata": {},
   "outputs": [],
   "source": [
    "print([id2label[l] for l in labels_test_int[:10]])"
   ]
  },
  {
   "cell_type": "code",
   "execution_count": null,
   "metadata": {},
   "outputs": [],
   "source": [
    "from transformers import AutoTokenizer\n",
    "from datasets import Dataset\n",
    "\n",
    "tokenizer = AutoTokenizer.from_pretrained(\"roberta-base\")\n",
    "\n",
    "def createDataset(texts, labels_int):\n",
    "    encoded_texts = []\n",
    "    for t in texts:\n",
    "        encoded_texts.append(tokenizer.encode(t,truncation=True))#,max_length=128))### max_length need to be changed\n",
    "    \n",
    "    dataset = Dataset.from_dict({\n",
    "        \"input_ids\":encoded_texts,\n",
    "        \"labels\": labels_int\n",
    "    })\n",
    "    return dataset"
   ]
  },
  {
   "cell_type": "code",
   "execution_count": null,
   "metadata": {},
   "outputs": [],
   "source": []
  }
 ],
 "metadata": {
  "kernelspec": {
   "display_name": "Python 3",
   "language": "python",
   "name": "python3"
  },
  "language_info": {
   "codemirror_mode": {
    "name": "ipython",
    "version": 3
   },
   "file_extension": ".py",
   "mimetype": "text/x-python",
   "name": "python",
   "nbconvert_exporter": "python",
   "pygments_lexer": "ipython3",
   "version": "3.8.10"
  },
  "orig_nbformat": 4,
  "vscode": {
   "interpreter": {
    "hash": "31f2aee4e71d21fbe5cf8b01ff0e069b9275f58929596ceb00d14d90e3e16cd6"
   }
  }
 },
 "nbformat": 4,
 "nbformat_minor": 2
}
