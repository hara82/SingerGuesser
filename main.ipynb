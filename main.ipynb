{
 "cells": [
  {
   "attachments": {},
   "cell_type": "markdown",
   "metadata": {},
   "source": [
    "### Load data"
   ]
  },
  {
   "cell_type": "code",
   "execution_count": 1,
   "metadata": {},
   "outputs": [
    {
     "data": {
      "text/plain": [
       "(0.5997757847533632, 0.20011210762331838, 0.20011210762331838)"
      ]
     },
     "execution_count": 1,
     "metadata": {},
     "output_type": "execute_result"
    }
   ],
   "source": [
    "import pickle\n",
    "with open('splitData.pickle', 'rb') as f:\n",
    "    texts_train = pickle.load(f)\n",
    "    texts_val = pickle.load(f)\n",
    "    texts_test = pickle.load(f)\n",
    "    labels_train = pickle.load(f)\n",
    "    labels_val = pickle.load(f)\n",
    "    labels_test = pickle.load(f)\n",
    "\n",
    "texts  = texts_train  + texts_val  + texts_test\n",
    "labels = labels_train + labels_val + labels_test\n",
    "# check the ratio of each dataset\n",
    "total = len(texts_train) + len(texts_val) + len(texts_test)\n",
    "len(texts_train)/total, len(texts_val)/total, len(texts_test)/total"
   ]
  },
  {
   "attachments": {},
   "cell_type": "markdown",
   "metadata": {},
   "source": [
    "# Q2-Clustering"
   ]
  },
  {
   "attachments": {},
   "cell_type": "markdown",
   "metadata": {},
   "source": [
    "### Step 0: Vectorise text"
   ]
  },
  {
   "cell_type": "code",
   "execution_count": 2,
   "metadata": {},
   "outputs": [
    {
     "data": {
      "text/plain": [
       "(1784, 22406)"
      ]
     },
     "execution_count": 2,
     "metadata": {},
     "output_type": "execute_result"
    }
   ],
   "source": [
    "from sklearn.feature_extraction.text import TfidfVectorizer\n",
    "vectorizer = TfidfVectorizer()\n",
    "\n",
    "texts_vector = vectorizer.fit_transform(texts)\n",
    "texts_vector.shape"
   ]
  },
  {
   "attachments": {},
   "cell_type": "markdown",
   "metadata": {},
   "source": [
    "## Conducting Kmeans"
   ]
  },
  {
   "cell_type": "code",
   "execution_count": 277,
   "metadata": {},
   "outputs": [
    {
     "name": "stdout",
     "output_type": "stream",
     "text": [
      "converged\n"
     ]
    },
    {
     "data": {
      "text/plain": [
       "(array([4., 3., 0., ..., 0., 0., 0.]),\n",
       " array([[8.95291492e-05, 0.00000000e+00, 0.00000000e+00, ...,\n",
       "         0.00000000e+00, 8.33883006e-05, 0.00000000e+00],\n",
       "        [0.00000000e+00, 0.00000000e+00, 0.00000000e+00, ...,\n",
       "         0.00000000e+00, 0.00000000e+00, 0.00000000e+00],\n",
       "        [0.00000000e+00, 0.00000000e+00, 0.00000000e+00, ...,\n",
       "         4.80700128e-04, 0.00000000e+00, 0.00000000e+00],\n",
       "        [0.00000000e+00, 0.00000000e+00, 2.75341432e-04, ...,\n",
       "         0.00000000e+00, 0.00000000e+00, 0.00000000e+00],\n",
       "        [0.00000000e+00, 4.51193508e-05, 0.00000000e+00, ...,\n",
       "         0.00000000e+00, 0.00000000e+00, 7.37179081e-05]]))"
      ]
     },
     "execution_count": 277,
     "metadata": {},
     "output_type": "execute_result"
    }
   ],
   "source": [
    "import numpy as np\n",
    "def kmeans(k, matrix, max_iter=300):\n",
    "    num_data, dim_feature = matrix.shape\n",
    "\n",
    "    # Step1: pick k random centroids\n",
    "    #### centroids = np.random.random([k,22406]) -- to be deleted\n",
    "    # pick centroids from data randomly to make sure at least one point is allocated to one point\n",
    "    centroids = matrix[np.random.randint(0,num_data,k)]\n",
    "\n",
    "\n",
    "    # new centroids to be calculated\n",
    "    new_centroids = np.zeros((k,dim_feature))\n",
    "\n",
    "    # labels(=index of centroids) assigned to data\n",
    "    labels = np.zeros(num_data)\n",
    "\n",
    "    # iterate until convergence or max_iteration\n",
    "    for itr in range(max_iter):\n",
    "        \n",
    "        # iterate through all data\n",
    "        for i in range(num_data):\n",
    "            # matrix is a sparse vector, so make it dense array\n",
    "            ith_vec = np.squeeze(np.asarray(matrix[i].todense()))\n",
    "\n",
    "            #Step2: Assign each vector to its closest centroid\n",
    "            dists = np.sum(np.square(centroids - ith_vec), axis=1)\n",
    "            labels[i] = np.argmin(dists)\n",
    "\n",
    "        #Step3:Recalculate the centroids\n",
    "        for j in range(k):\n",
    "            new_centroids[j] = matrix[labels==j].mean(axis=0)\n",
    "\n",
    "        # If step 2 and 3 converges, exit for-loop         \n",
    "        if np.all(new_centroids == centroids):\n",
    "            print(\"converged\")\n",
    "            break;\n",
    "        centroids = new_centroids\n",
    "\n",
    "    return labels, new_centroids\n",
    "\n",
    "\n",
    "kmeans(5,texts_vector)\n"
   ]
  },
  {
   "attachments": {},
   "cell_type": "markdown",
   "metadata": {},
   "source": [
    "### Step 1: pick k random centroids"
   ]
  },
  {
   "cell_type": "code",
   "execution_count": 187,
   "metadata": {},
   "outputs": [
    {
     "ename": "TypeError",
     "evalue": "'list' object cannot be interpreted as an integer",
     "output_type": "error",
     "traceback": [
      "\u001b[0;31m---------------------------------------------------------------------------\u001b[0m",
      "\u001b[0;31mTypeError\u001b[0m                                 Traceback (most recent call last)",
      "\u001b[1;32m/home/denjo/Glasgow2/textAsData/main.ipynb Cell 7\u001b[0m in \u001b[0;36m<cell line: 3>\u001b[0;34m()\u001b[0m\n\u001b[1;32m      <a href='vscode-notebook-cell:/home/denjo/Glasgow2/textAsData/main.ipynb#X10sZmlsZQ%3D%3D?line=0'>1</a>\u001b[0m k \u001b[39m=\u001b[39m \u001b[39m5\u001b[39m\n\u001b[1;32m      <a href='vscode-notebook-cell:/home/denjo/Glasgow2/textAsData/main.ipynb#X10sZmlsZQ%3D%3D?line=1'>2</a>\u001b[0m \u001b[39mimport\u001b[39;00m \u001b[39mnumpy\u001b[39;00m \u001b[39mas\u001b[39;00m \u001b[39mnp\u001b[39;00m\n\u001b[0;32m----> <a href='vscode-notebook-cell:/home/denjo/Glasgow2/textAsData/main.ipynb#X10sZmlsZQ%3D%3D?line=2'>3</a>\u001b[0m centroids \u001b[39m=\u001b[39m np\u001b[39m.\u001b[39;49mrandom\u001b[39m.\u001b[39;49mrand([k,\u001b[39m22406\u001b[39;49m])\n",
      "File \u001b[0;32mmtrand.pyx:1182\u001b[0m, in \u001b[0;36mnumpy.random.mtrand.RandomState.rand\u001b[0;34m()\u001b[0m\n",
      "File \u001b[0;32mmtrand.pyx:425\u001b[0m, in \u001b[0;36mnumpy.random.mtrand.RandomState.random_sample\u001b[0;34m()\u001b[0m\n",
      "File \u001b[0;32m_common.pyx:292\u001b[0m, in \u001b[0;36mnumpy.random._common.double_fill\u001b[0;34m()\u001b[0m\n",
      "\u001b[0;31mTypeError\u001b[0m: 'list' object cannot be interpreted as an integer"
     ]
    }
   ],
   "source": [
    "k = 5\n",
    "import numpy as np\n",
    "centroids = np.random.rand([k,22406])"
   ]
  },
  {
   "attachments": {},
   "cell_type": "markdown",
   "metadata": {},
   "source": [
    "### Step 2: Assign each vector to its closest centroid"
   ]
  },
  {
   "cell_type": "code",
   "execution_count": 81,
   "metadata": {},
   "outputs": [
    {
     "name": "stdout",
     "output_type": "stream",
     "text": [
      "[74 14 77]\n"
     ]
    },
    {
     "ename": "AttributeError",
     "evalue": "'numpy.ndarray' object has no attribute 'todense'",
     "output_type": "error",
     "traceback": [
      "\u001b[0;31m---------------------------------------------------------------------------\u001b[0m",
      "\u001b[0;31mAttributeError\u001b[0m                            Traceback (most recent call last)",
      "\u001b[1;32m/home/denjo/Glasgow2/textAsData/main.ipynb Cell 9\u001b[0m in \u001b[0;36m<cell line: 10>\u001b[0;34m()\u001b[0m\n\u001b[1;32m      <a href='vscode-notebook-cell:/home/denjo/Glasgow2/textAsData/main.ipynb#X15sZmlsZQ%3D%3D?line=7'>8</a>\u001b[0m np\u001b[39m.\u001b[39msqueeze(np\u001b[39m.\u001b[39masarray(a[\u001b[39m0\u001b[39m]))\n\u001b[1;32m      <a href='vscode-notebook-cell:/home/denjo/Glasgow2/textAsData/main.ipynb#X15sZmlsZQ%3D%3D?line=8'>9</a>\u001b[0m a[\u001b[39m0\u001b[39m]\n\u001b[0;32m---> <a href='vscode-notebook-cell:/home/denjo/Glasgow2/textAsData/main.ipynb#X15sZmlsZQ%3D%3D?line=9'>10</a>\u001b[0m chooseClosest(np\u001b[39m.\u001b[39;49mrandom\u001b[39m.\u001b[39;49mrandom(\u001b[39m100\u001b[39;49m), np\u001b[39m.\u001b[39;49mrandom\u001b[39m.\u001b[39;49mrandom([\u001b[39m2\u001b[39;49m,\u001b[39m100\u001b[39;49m]))\n",
      "\u001b[1;32m/home/denjo/Glasgow2/textAsData/main.ipynb Cell 9\u001b[0m in \u001b[0;36mchooseClosest\u001b[0;34m(p1, centroids)\u001b[0m\n\u001b[1;32m      <a href='vscode-notebook-cell:/home/denjo/Glasgow2/textAsData/main.ipynb#X15sZmlsZQ%3D%3D?line=1'>2</a>\u001b[0m \u001b[39mdef\u001b[39;00m \u001b[39mchooseClosest\u001b[39m(p1, centroids):\n\u001b[0;32m----> <a href='vscode-notebook-cell:/home/denjo/Glasgow2/textAsData/main.ipynb#X15sZmlsZQ%3D%3D?line=2'>3</a>\u001b[0m     p1_array \u001b[39m=\u001b[39m np\u001b[39m.\u001b[39msqueeze(np\u001b[39m.\u001b[39masarray(p1\u001b[39m.\u001b[39;49mtodense()))\n\u001b[1;32m      <a href='vscode-notebook-cell:/home/denjo/Glasgow2/textAsData/main.ipynb#X15sZmlsZQ%3D%3D?line=3'>4</a>\u001b[0m     diff_mat \u001b[39m=\u001b[39m  centroids \u001b[39m-\u001b[39m p1_array\n\u001b[1;32m      <a href='vscode-notebook-cell:/home/denjo/Glasgow2/textAsData/main.ipynb#X15sZmlsZQ%3D%3D?line=4'>5</a>\u001b[0m     dist2 \u001b[39m=\u001b[39m np\u001b[39m.\u001b[39mdiag(diff_mat \u001b[39m@\u001b[39m diff_mat\u001b[39m.\u001b[39mT)\n",
      "\u001b[0;31mAttributeError\u001b[0m: 'numpy.ndarray' object has no attribute 'todense'"
     ]
    }
   ],
   "source": [
    "a = np.matrix([[1,8,3],[1,2,3],[4,5,6]])\n",
    "print(np.diag(a@a.T))\n",
    "np.argmin(np.diag(a@a.T))\n",
    "type(texts_vector[0]- centroids[0])\n",
    "a = np.squeeze(texts_vector.todense())[0]\n",
    "a.flatten(order='C')\n",
    "a = np.matrix([[1,2,3],[2,3,4]])\n",
    "np.squeeze(np.asarray(a[0]))\n",
    "a[0]\n",
    "chooseClosest(np.random.random(100), n]))"
   ]
  },
  {
   "cell_type": "code",
   "execution_count": 218,
   "metadata": {},
   "outputs": [
    {
     "data": {
      "text/plain": [
       "<1x22406 sparse matrix of type '<class 'numpy.float64'>'\n",
       "\twith 89 stored elements in Compressed Sparse Row format>"
      ]
     },
     "execution_count": 218,
     "metadata": {},
     "output_type": "execute_result"
    }
   ],
   "source": [
    "texts_vector[0]"
   ]
  },
  {
   "cell_type": "code",
   "execution_count": 205,
   "metadata": {},
   "outputs": [],
   "source": [
    "def kmeans(k, X, max_iter=300):\n",
    "    X_size,n_features = X.shape\n",
    "    \n",
    "    # ランダムに重心の初期値を初期化\n",
    "    centroids  = X[np.random.choice(X_size,k)]\n",
    "    print(centroids.shape)\n",
    "    print(X[0])\n",
    "    \n",
    "    # 前の重心と比較するために、仮に新しい重心を入れておく配列を用意\n",
    "    new_centroids = np.zeros((k, n_features))\n",
    "    \n",
    "    # 各データ所属クラスタ情報を保存する配列を用意\n",
    "    cluster = np.zeros(X_size)\n",
    "    \n",
    "    # ループ上限回数まで繰り返し\n",
    "    for epoch in range(max_iter):\n",
    "        \n",
    "        # 入力データ全てに対して繰り返し\n",
    "        for i in range(X_size):\n",
    "            \n",
    "            # データから各重心までの距離を計算（ルートを取らなくても大小関係は変わらないので省略）\n",
    "            distances = np.sum((centroids - X[i]) ** 2, axis=1)\n",
    "            \n",
    "            # データの所属クラスタを距離の一番近い重心を持つものに更新\n",
    "            cluster[i] = np.argsort(distances)[0]\n",
    "            \n",
    "        # すべてのクラスタに対して重心を再計算\n",
    "        for j in range(k):\n",
    "            new_centroids[j] = X[cluster==j].mean(axis=0)\n",
    "            \n",
    "        # もしも重心が変わっていなかったら終了\n",
    "        if np.sum(new_centroids == centroids) == k:\n",
    "            print(\"break\")\n",
    "            break\n",
    "        centroids =  new_centroids\n",
    "    return cluster"
   ]
  },
  {
   "cell_type": "code",
   "execution_count": 206,
   "metadata": {},
   "outputs": [
    {
     "name": "stdout",
     "output_type": "stream",
     "text": [
      "(5, 22406)\n",
      "  (0, 9731)\t0.03630563141937073\n",
      "  (0, 18077)\t0.006669801828950603\n",
      "  (0, 7039)\t0.02297311195087983\n",
      "  (0, 1525)\t0.008617157780715076\n",
      "  (0, 4251)\t0.056729367699878484\n",
      "  (0, 745)\t0.013062431082661039\n",
      "  (0, 18176)\t0.042811557376255534\n",
      "  (0, 13646)\t0.0459019624129647\n",
      "  (0, 799)\t0.004739743781593408\n",
      "  (0, 12444)\t0.004745058255048318\n",
      "  (0, 13980)\t0.012314383326603123\n",
      "  (0, 6224)\t0.12567955188364327\n",
      "  (0, 12681)\t0.14649717567928672\n",
      "  (0, 7782)\t0.04925040674637123\n",
      "  (0, 7040)\t0.04173540802092905\n",
      "  (0, 5524)\t0.103250760042658\n",
      "  (0, 21418)\t0.13554021448705597\n",
      "  (0, 3129)\t0.02653507864079888\n",
      "  (0, 3344)\t0.031247354943097196\n",
      "  (0, 1156)\t0.018945090647647145\n",
      "  (0, 21559)\t0.04631600532649999\n",
      "  (0, 2979)\t0.04629710100060329\n",
      "  (0, 2357)\t0.01822478138222561\n",
      "  (0, 7171)\t0.06898201586663655\n",
      "  (0, 18683)\t0.0118155057017452\n",
      "  :\t:\n",
      "  (0, 18840)\t0.01883993345854352\n",
      "  (0, 10185)\t0.0068167841169117895\n",
      "  (0, 7989)\t0.01625671310928976\n",
      "  (0, 8618)\t0.029848084472949555\n",
      "  (0, 13008)\t0.005556207205176289\n",
      "  (0, 779)\t0.014284818502975647\n",
      "  (0, 22113)\t0.10003784293269373\n",
      "  (0, 21362)\t0.00942147676479178\n",
      "  (0, 10535)\t0.013307506224063572\n",
      "  (0, 22227)\t0.026070661662646752\n",
      "  (0, 12429)\t0.020462393228323435\n",
      "  (0, 19663)\t0.024730409412545045\n",
      "  (0, 9822)\t0.05075297420164639\n",
      "  (0, 18857)\t0.018950846685976845\n",
      "  (0, 20008)\t0.032037425053106604\n",
      "  (0, 10238)\t0.021501826121376973\n",
      "  (0, 19361)\t0.020462393228323435\n",
      "  (0, 15196)\t0.0243577498182219\n",
      "  (0, 4353)\t0.017638930537253933\n",
      "  (0, 8123)\t0.00815822903654057\n",
      "  (0, 19956)\t0.02077632142844494\n",
      "  (0, 20372)\t0.01924026493985991\n",
      "  (0, 11756)\t0.004907379050548133\n",
      "  (0, 9730)\t0.7617522947588636\n",
      "  (0, 14484)\t0.4306850246832845\n"
     ]
    },
    {
     "ename": "ValueError",
     "evalue": "inconsistent shapes",
     "output_type": "error",
     "traceback": [
      "\u001b[0;31m---------------------------------------------------------------------------\u001b[0m",
      "\u001b[0;31mValueError\u001b[0m                                Traceback (most recent call last)",
      "\u001b[1;32m/home/denjo/Glasgow2/textAsData/main.ipynb Cell 13\u001b[0m in \u001b[0;36m<cell line: 1>\u001b[0;34m()\u001b[0m\n\u001b[0;32m----> <a href='vscode-notebook-cell:/home/denjo/Glasgow2/textAsData/main.ipynb#X32sZmlsZQ%3D%3D?line=0'>1</a>\u001b[0m kmeans(\u001b[39m5\u001b[39;49m,texts_vector)\n",
      "\u001b[1;32m/home/denjo/Glasgow2/textAsData/main.ipynb Cell 13\u001b[0m in \u001b[0;36mkmeans\u001b[0;34m(k, X, max_iter)\u001b[0m\n\u001b[1;32m     <a href='vscode-notebook-cell:/home/denjo/Glasgow2/textAsData/main.ipynb#X32sZmlsZQ%3D%3D?line=15'>16</a>\u001b[0m \u001b[39mfor\u001b[39;00m epoch \u001b[39min\u001b[39;00m \u001b[39mrange\u001b[39m(max_iter):\n\u001b[1;32m     <a href='vscode-notebook-cell:/home/denjo/Glasgow2/textAsData/main.ipynb#X32sZmlsZQ%3D%3D?line=16'>17</a>\u001b[0m     \n\u001b[1;32m     <a href='vscode-notebook-cell:/home/denjo/Glasgow2/textAsData/main.ipynb#X32sZmlsZQ%3D%3D?line=17'>18</a>\u001b[0m     \u001b[39m# 入力データ全てに対して繰り返し\u001b[39;00m\n\u001b[1;32m     <a href='vscode-notebook-cell:/home/denjo/Glasgow2/textAsData/main.ipynb#X32sZmlsZQ%3D%3D?line=18'>19</a>\u001b[0m     \u001b[39mfor\u001b[39;00m i \u001b[39min\u001b[39;00m \u001b[39mrange\u001b[39m(X_size):\n\u001b[1;32m     <a href='vscode-notebook-cell:/home/denjo/Glasgow2/textAsData/main.ipynb#X32sZmlsZQ%3D%3D?line=19'>20</a>\u001b[0m         \n\u001b[1;32m     <a href='vscode-notebook-cell:/home/denjo/Glasgow2/textAsData/main.ipynb#X32sZmlsZQ%3D%3D?line=20'>21</a>\u001b[0m         \u001b[39m# データから各重心までの距離を計算（ルートを取らなくても大小関係は変わらないので省略）\u001b[39;00m\n\u001b[0;32m---> <a href='vscode-notebook-cell:/home/denjo/Glasgow2/textAsData/main.ipynb#X32sZmlsZQ%3D%3D?line=21'>22</a>\u001b[0m         distances \u001b[39m=\u001b[39m np\u001b[39m.\u001b[39msum((centroids \u001b[39m-\u001b[39;49m X[i]) \u001b[39m*\u001b[39m\u001b[39m*\u001b[39m \u001b[39m2\u001b[39m, axis\u001b[39m=\u001b[39m\u001b[39m1\u001b[39m)\n\u001b[1;32m     <a href='vscode-notebook-cell:/home/denjo/Glasgow2/textAsData/main.ipynb#X32sZmlsZQ%3D%3D?line=23'>24</a>\u001b[0m         \u001b[39m# データの所属クラスタを距離の一番近い重心を持つものに更新\u001b[39;00m\n\u001b[1;32m     <a href='vscode-notebook-cell:/home/denjo/Glasgow2/textAsData/main.ipynb#X32sZmlsZQ%3D%3D?line=24'>25</a>\u001b[0m         cluster[i] \u001b[39m=\u001b[39m np\u001b[39m.\u001b[39margsort(distances)[\u001b[39m0\u001b[39m]\n",
      "File \u001b[0;32m~/.local/lib/python3.8/site-packages/scipy/sparse/_base.py:490\u001b[0m, in \u001b[0;36mspmatrix.__sub__\u001b[0;34m(self, other)\u001b[0m\n\u001b[1;32m    488\u001b[0m \u001b[39melif\u001b[39;00m isspmatrix(other):\n\u001b[1;32m    489\u001b[0m     \u001b[39mif\u001b[39;00m other\u001b[39m.\u001b[39mshape \u001b[39m!=\u001b[39m \u001b[39mself\u001b[39m\u001b[39m.\u001b[39mshape:\n\u001b[0;32m--> 490\u001b[0m         \u001b[39mraise\u001b[39;00m \u001b[39mValueError\u001b[39;00m(\u001b[39m\"\u001b[39m\u001b[39minconsistent shapes\u001b[39m\u001b[39m\"\u001b[39m)\n\u001b[1;32m    491\u001b[0m     \u001b[39mreturn\u001b[39;00m \u001b[39mself\u001b[39m\u001b[39m.\u001b[39m_sub_sparse(other)\n\u001b[1;32m    492\u001b[0m \u001b[39melif\u001b[39;00m isdense(other):\n",
      "\u001b[0;31mValueError\u001b[0m: inconsistent shapes"
     ]
    }
   ],
   "source": [
    "kmeans(5,texts_vector)"
   ]
  },
  {
   "cell_type": "code",
   "execution_count": 95,
   "metadata": {},
   "outputs": [
    {
     "data": {
      "text/plain": [
       "2"
      ]
     },
     "execution_count": 95,
     "metadata": {},
     "output_type": "execute_result"
    }
   ],
   "source": [
    "# choose the closest point\n",
    "def chooseClosest(p1, centroids):\n",
    "    #\n",
    "    p1_array = np.squeeze(np.asarray(p1.todense()))\n",
    "    diff_mat =  centroids - p1_array\n",
    "    dist2 = np.diag(diff_mat @ diff_mat.T)\n",
    "    assigned = np.argmin(dist2)\n",
    "    # print(dist2)\n",
    "    return assigned\n",
    "chooseClosest(texts_vector[0],centroids)"
   ]
  },
  {
   "cell_type": "code",
   "execution_count": 67,
   "metadata": {},
   "outputs": [
    {
     "ename": "TypeError",
     "evalue": "chooseClosest() missing 2 required positional arguments: 'p1' and 'centroids'",
     "output_type": "error",
     "traceback": [
      "\u001b[0;31m---------------------------------------------------------------------------\u001b[0m",
      "\u001b[0;31mTypeError\u001b[0m                                 Traceback (most recent call last)",
      "\u001b[1;32m/home/denjo/Glasgow2/textAsData/main.ipynb Cell 11\u001b[0m in \u001b[0;36m<cell line: 2>\u001b[0;34m()\u001b[0m\n\u001b[1;32m      <a href='vscode-notebook-cell:/home/denjo/Glasgow2/textAsData/main.ipynb#X22sZmlsZQ%3D%3D?line=0'>1</a>\u001b[0m a \u001b[39m=\u001b[39m np\u001b[39m.\u001b[39mrandom\u001b[39m.\u001b[39mrandom((\u001b[39m2\u001b[39m,\u001b[39m22406\u001b[39m))\n\u001b[0;32m----> <a href='vscode-notebook-cell:/home/denjo/Glasgow2/textAsData/main.ipynb#X22sZmlsZQ%3D%3D?line=1'>2</a>\u001b[0m np\u001b[39m.\u001b[39mapply_along_axis(chooseClosest(),axis\u001b[39m=\u001b[39m\u001b[39m0\u001b[39m,arr\u001b[39m=\u001b[39ma,args\u001b[39m=\u001b[39mcentroids)\n",
      "\u001b[0;31mTypeError\u001b[0m: chooseClosest() missing 2 required positional arguments: 'p1' and 'centroids'"
     ]
    }
   ],
   "source": [
    "# a = np.random.random((2,22406))\n",
    "# np.apply_along_axis(chooseClosest(),axis=0,arr=a,args=centroids)"
   ]
  },
  {
   "cell_type": "code",
   "execution_count": 135,
   "metadata": {},
   "outputs": [
    {
     "data": {
      "text/plain": [
       "Counter({4: 1784})"
      ]
     },
     "execution_count": 135,
     "metadata": {},
     "output_type": "execute_result"
    }
   ],
   "source": [
    "centroids = np.random.random([k,22406])\n",
    "def assignToCentroid(matrix, centroids):\n",
    "    new_labels = []\n",
    "    for i in range(matrix.shape[0]):\n",
    "        new_labels.append(chooseClosest(matrix[i],centroids))\n",
    "    return new_labels\n",
    "new_labels = assignToCentroid(texts_vector, centroids)\n",
    "Counter(new_labels)"
   ]
  },
  {
   "attachments": {},
   "cell_type": "markdown",
   "metadata": {},
   "source": [
    "### recalculate the centroids based on the closest vectors"
   ]
  },
  {
   "cell_type": "code",
   "execution_count": 182,
   "metadata": {},
   "outputs": [
    {
     "data": {
      "text/plain": [
       "0.13432953110365448"
      ]
     },
     "execution_count": 182,
     "metadata": {},
     "output_type": "execute_result"
    }
   ],
   "source": [
    "def recalcCentroids(matrix, new_labels):\n",
    "    new_centroids = []\n",
    "    dim = len(new_labels)\n",
    "    for i in range(k):\n",
    "        ith = np.vstack([matrix[j] for j in range(dim) if new_labels[j] == i])\n",
    "        # print(ith)\n",
    "        new_centroids.append(np.mean(ith,axis=0))\n",
    "    return (np.vstack(new_centroids))\n",
    "a = recalcCentroids(texts_vector.todense(), new_labels)\n",
    "# # texts_vector.todense()\n",
    "# new_labels[0] = 0\n",
    "# new_labels[1] = 1\n",
    "# new_labels[2] = 2\n",
    "# new_labels[3] = 3\n",
    "# Counter(new_labels)\n",
    "np.max(a[4])"
   ]
  },
  {
   "cell_type": "code",
   "execution_count": 173,
   "metadata": {},
   "outputs": [
    {
     "name": "stdout",
     "output_type": "stream",
     "text": [
      "<class 'numpy.matrix'>\n"
     ]
    }
   ],
   "source": [
    "# def recalcCentroids(matrix, new_labels):\n",
    "a = np.matrix(np.random.random([5,10]))\n",
    "print(type(a))\n",
    "la = [0,1,0,1,1]\n",
    "# b = np.matrix([a[i] for i in range(len(la)) if la[i]==1])\n",
    "# np.mean(b,axis=0)\n",
    "tet=np.vstack(([a[i] for i in range(5) if la[i] == 1]))"
   ]
  },
  {
   "cell_type": "code",
   "execution_count": 214,
   "metadata": {},
   "outputs": [
    {
     "data": {
      "text/plain": [
       "Counter({6: 689,\n",
       "         1: 303,\n",
       "         3: 30,\n",
       "         8: 364,\n",
       "         4: 77,\n",
       "         9: 160,\n",
       "         7: 19,\n",
       "         2: 64,\n",
       "         0: 17,\n",
       "         5: 61})"
      ]
     },
     "execution_count": 214,
     "metadata": {},
     "output_type": "execute_result"
    }
   ],
   "source": [
    "from sklearn.cluster import KMeans\n",
    "from collections import Counter\n",
    "kmeans = KMeans(n_clusters=10, random_state=10).fit_predict(texts_vector)\n",
    "Counter(kmeans)"
   ]
  },
  {
   "cell_type": "code",
   "execution_count": null,
   "metadata": {},
   "outputs": [],
   "source": []
  }
 ],
 "metadata": {
  "kernelspec": {
   "display_name": "Python 3",
   "language": "python",
   "name": "python3"
  },
  "language_info": {
   "codemirror_mode": {
    "name": "ipython",
    "version": 3
   },
   "file_extension": ".py",
   "mimetype": "text/x-python",
   "name": "python",
   "nbconvert_exporter": "python",
   "pygments_lexer": "ipython3",
   "version": "3.8.10"
  },
  "orig_nbformat": 4,
  "vscode": {
   "interpreter": {
    "hash": "31f2aee4e71d21fbe5cf8b01ff0e069b9275f58929596ceb00d14d90e3e16cd6"
   }
  }
 },
 "nbformat": 4,
 "nbformat_minor": 2
}
