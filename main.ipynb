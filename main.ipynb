{
 "cells": [
  {
   "attachments": {},
   "cell_type": "markdown",
   "metadata": {},
   "source": [
    "### Load data"
   ]
  },
  {
   "cell_type": "code",
   "execution_count": 3,
   "metadata": {},
   "outputs": [
    {
     "data": {
      "text/plain": [
       "(0.5997757847533632, 0.20011210762331838, 0.20011210762331838)"
      ]
     },
     "execution_count": 3,
     "metadata": {},
     "output_type": "execute_result"
    }
   ],
   "source": [
    "import pickle\n",
    "with open('splitData.pickle', 'rb') as f:\n",
    "    texts_train = pickle.load(f)\n",
    "    texts_val = pickle.load(f)\n",
    "    texts_test = pickle.load(f)\n",
    "    labels_train = pickle.load(f)\n",
    "    labels_val = pickle.load(f)\n",
    "    labels_test = pickle.load(f)\n",
    "\n",
    "all_texts  = texts_train  + texts_val  + texts_test\n",
    "all_labels = labels_train + labels_val + labels_test\n",
    "# check the ratio of each dataset\n",
    "total = len(texts_train) + len(texts_val) + len(texts_test)\n",
    "len(texts_train)/total, len(texts_val)/total, len(texts_test)/total"
   ]
  },
  {
   "attachments": {},
   "cell_type": "markdown",
   "metadata": {},
   "source": [
    "# Q2-Clustering"
   ]
  },
  {
   "attachments": {},
   "cell_type": "markdown",
   "metadata": {},
   "source": [
    "### Step 0: Vectorise text"
   ]
  },
  {
   "attachments": {},
   "cell_type": "markdown",
   "metadata": {},
   "source": [
    "## NOTE: lyrics are not necessarily limited to English"
   ]
  },
  {
   "cell_type": "code",
   "execution_count": 4,
   "metadata": {},
   "outputs": [
    {
     "data": {
      "text/plain": [
       "['thing', 'miss', 'miss', 'mind']"
      ]
     },
     "execution_count": 4,
     "metadata": {},
     "output_type": "execute_result"
    }
   ],
   "source": [
    "import spacy\n",
    "\n",
    "nlp = spacy.load('en_core_web_sm') # can tokenize Spanish at least\n",
    "\n",
    "added_stop_words = set([\"ayy\",\"ay\",\"ah\",\"oh\",\"ohh\",\"ooh\",\"la\",\"da\",\"dum\",\"ll\",\"d\",\"m\",\"ve\",\"yah\",\"yeah\"])\n",
    "my_stop_words = nlp.Defaults.stop_words.union(added_stop_words)\n",
    "\n",
    "# nlp = spacy.load(\"xx_ent_wiki_sm\") <-not work well for lemmanize\n",
    "\n",
    "def text_pipeline_spacy(text):\n",
    "    tokens = []\n",
    "    doc = nlp(text)\n",
    "    for t in doc:\n",
    "        if not t.is_stop and not t.is_punct and not t.is_space and not t in my_stop_words:\n",
    "            tokens.append(t.lemma_.lower())\n",
    "    return tokens\n",
    "\n",
    "# Check pipiline:\n",
    "text_pipeline_spacy(\"Of all the things I miss, I miss my mind the most.\")"
   ]
  },
  {
   "cell_type": "code",
   "execution_count": 5,
   "metadata": {},
   "outputs": [
    {
     "data": {
      "text/plain": [
       "(1784, 19605)"
      ]
     },
     "execution_count": 5,
     "metadata": {},
     "output_type": "execute_result"
    }
   ],
   "source": [
    "from sklearn.feature_extraction.text import TfidfVectorizer\n",
    "vectorizer = TfidfVectorizer(tokenizer=text_pipeline_spacy, stop_words=my_stop_words)\n",
    "\n",
    "texts_vector = vectorizer.fit_transform(all_texts)\n",
    "texts_vector.shape"
   ]
  },
  {
   "attachments": {},
   "cell_type": "markdown",
   "metadata": {},
   "source": [
    "## Conducting Kmeans"
   ]
  },
  {
   "cell_type": "code",
   "execution_count": 11,
   "metadata": {},
   "outputs": [
    {
     "name": "stdout",
     "output_type": "stream",
     "text": [
      "converged\n"
     ]
    },
    {
     "data": {
      "text/plain": [
       "Counter({3: 689, 0: 885, 1: 130, 2: 20, 4: 60})"
      ]
     },
     "execution_count": 11,
     "metadata": {},
     "output_type": "execute_result"
    }
   ],
   "source": [
    "import numpy as np\n",
    "np.random.seed(42)\n",
    "def kmeans(k, matrix, max_iter=300):\n",
    "    num_data, dim_feature = matrix.shape\n",
    "\n",
    "    # Step1: pick k random centroids\n",
    "    #### centroids = np.random.random([k,22406])  # Random Partition --- does not work well\n",
    "    #Use Forgy partition to make sure at least one point is allocated to one point\n",
    "    centroids = matrix[np.random.randint(0,num_data,k)]\n",
    "\n",
    "\n",
    "    # new centroids to be calculated\n",
    "    new_centroids = np.zeros((k,dim_feature))\n",
    "\n",
    "    # labels(=index of centroids) assigned to data\n",
    "    labels = np.zeros(num_data)\n",
    "\n",
    "    # iterate until convergence or max_iteration\n",
    "    for itr in range(max_iter):\n",
    "        \n",
    "        # iterate through all data\n",
    "        for i in range(num_data):\n",
    "            # matrix is a sparse vector, so make it dense array\n",
    "            ith_vec = np.squeeze(np.asarray(matrix[i].todense()))\n",
    "\n",
    "            #Step2: Assign each vector to its closest centroid\n",
    "            dists = np.sum(np.square(centroids - ith_vec), axis=1)\n",
    "            labels[i] = np.argmin(dists)\n",
    "\n",
    "        #Step3:Recalculate the centroids\n",
    "        for j in range(k):\n",
    "            new_centroids[j] = matrix[labels==j].mean(axis=0)\n",
    "\n",
    "        # If step 2 and 3 converges, exit for-loop         \n",
    "        if np.all(new_centroids == centroids):\n",
    "            print(\"converged\")\n",
    "            break;\n",
    "        centroids = new_centroids\n",
    "\n",
    "    return labels, new_centroids\n",
    "\n",
    "\n",
    "clustered_labels, centroids = kmeans(5,texts_vector)\n",
    "from collections import Counter\n",
    "clustered_labels = [int(l) for l in clustered_labels]\n",
    "Counter(clustered_labels)"
   ]
  },
  {
   "attachments": {},
   "cell_type": "markdown",
   "metadata": {},
   "source": [
    "### For answering questions"
   ]
  },
  {
   "cell_type": "code",
   "execution_count": 12,
   "metadata": {},
   "outputs": [
    {
     "name": "stdout",
     "output_type": "stream",
     "text": [
      "\n",
      "=======label0=======\n",
      "0th docs\n",
      "Moonlight\n",
      "Lyrics\n",
      "The sun is setting and you're right here by my side\n",
      "And the movie is playing, but we won't be watching \n",
      "------------------\n",
      "1th docs\n",
      "Shady XV\n",
      "Shady XV Lyrics\n",
      "I'm liable to start a violent spark with a silent thought\n",
      "I disgust you like dialogue from The \n",
      "------------------\n",
      "2th docs\n",
      "Write Your Name\n",
      "Write Your Name Lyrics\n",
      "Take my arm, take my head\n",
      "Make your mark like a man\n",
      "Write your name\n",
      "Gonna write y\n",
      "------------------\n",
      "\n",
      "=======label1=======\n",
      "0th docs\n",
      "On the Floor (Mixin Marc & Tony Svejda L.A. to Ibiza Mix)\n",
      "On the Floor (Mixin Marc & Tony Svejda L.A. to Ibiza Mix) Lyri\n",
      "------------------\n",
      "1th docs\n",
      "​in my head\n",
      "Grande - in my head (Srpski Prevod)PortuguêsAriana Grande - in my head (polskie tłumaczenie)ItalianoDeutschف\n",
      "------------------\n",
      "2th docs\n",
      "Don’t Walk Away\n",
      "Don’t Walk Away Lyrics\n",
      "Ooh, don't walk away\n",
      "Walk away\n",
      "\n",
      "Don't walk away\n",
      "See, I just can't find the right \n",
      "------------------\n",
      "\n",
      "=======label2=======\n",
      "0th docs\n",
      "INUYASHA\n",
      "Lyrics\n",
      "Damn, baby, what's your fucking name? god damn (Murder)\n",
      "Goddamn, goddamn\n",
      "100 hoes\n",
      "BitBoy Beats\n",
      "Acid, aci\n",
      "------------------\n",
      "1th docs\n",
      "​rare\n",
      "Lyrics\n",
      "Very fucking holy, very fucking rare\n",
      "Even in broad daylight, I have this dream, I have this fantasy\n",
      "Marvelo\n",
      "------------------\n",
      "2th docs\n",
      "Yah Yah\n",
      "- Yah Yah ft. Royce da 5'9'’ & Black Thought & Q-Tip & dEnAun (Türkçe Çeviri)Bahasa IndonesiaYah Yah Lyrics\n",
      "Yah,\n",
      "------------------\n",
      "\n",
      "=======label3=======\n",
      "0th docs\n",
      "Perfect Illusion\n",
      "Perfect Illusion Lyrics\n",
      "Tryin' to get control\n",
      "Pressure's takin' its toll\n",
      "Stuck in the middle zone\n",
      "I jus\n",
      "------------------\n",
      "1th docs\n",
      "Freakshow\n",
      "Freakshow Lyrics\n",
      "'Cause I guarantee you've never seen a show like this before\n",
      "Gonna show you something that yo\n",
      "------------------\n",
      "2th docs\n",
      "Again\n",
      "Again Lyrics\n",
      "Like an angel, out the sky you came\n",
      "Clearing up all the clouds, the sadness and the rain\n",
      "So pure and \n",
      "------------------\n",
      "\n",
      "=======label4=======\n",
      "0th docs\n",
      "Scheiße (DJ White Shadow Mugler)\n",
      "Scheiße (DJ White Shadow Mugler) Lyrics\n",
      "I don’t speak German, but I can if you like, ow\n",
      "------------------\n",
      "1th docs\n",
      "The Manifesto of Chromatica\n",
      "The Manifesto of Chromatica Lyrics\n",
      "When I was younger, I was at some point, born.\n",
      "I grew in \n",
      "------------------\n",
      "2th docs\n",
      "Yours And Mine\n",
      "Yours And Mine Lyrics\n",
      "I sometimes wish I could just be anonymous and walk down the street just like every\n",
      "------------------\n"
     ]
    }
   ],
   "source": [
    "# question a) show documents assigned to eatch cluster\n",
    "shown = {} # labels checked\n",
    "doc_samples = [[] for _ in range(5)]# documents sampled\n",
    "for idx,l in enumerate(clustered_labels):\n",
    "    if(shown.get(l,0) < 3):\n",
    "        shown[l] = shown.get(l,0)+1\n",
    "        doc_samples[l].append(all_texts[idx])\n",
    "    \n",
    "for label,docs in enumerate(doc_samples):\n",
    "    print(f'\\n=======label{label}=======')\n",
    "    for i in range(3):\n",
    "        print(f'{i}th docs')\n",
    "        print(docs[i][:120])\n",
    "        print('------------------')\n",
    "\n",
    "\n"
   ]
  },
  {
   "cell_type": "code",
   "execution_count": 14,
   "metadata": {},
   "outputs": [
    {
     "name": "stdout",
     "output_type": "stream",
     "text": [
      "------top 5 tokens in centroid 0-----\n",
      "know,feel,like,fuck,let,\n",
      "\n",
      "------top 5 tokens in centroid 1-----\n",
      "stay,bitch,away,work,walk,\n",
      "\n",
      "------top 5 tokens in centroid 2-----\n",
      "animal,jump,damn,glad,effect,\n",
      "\n",
      "------top 5 tokens in centroid 3-----\n",
      "want,know,love,like,baby,\n",
      "\n",
      "------top 5 tokens in centroid 4-----\n",
      "like,people,world,woman,million,\n",
      "\n"
     ]
    }
   ],
   "source": [
    "# question a)\n",
    "for i in range(5):\n",
    "    print(f\"------top 5 tokens in centroid {i}-----\")\n",
    "    indices = np.argsort(centroids[i])[-5:] # indices of most prominent tokens\n",
    "    for key,val in vectorizer.vocabulary_.items():\n",
    "        if val in indices:\n",
    "            print(f'{key}',end=\",\")\n",
    "    print(\"\\n\")\n",
    "\n",
    "# tokenizerを工夫したほうがよいかも"
   ]
  },
  {
   "cell_type": "code",
   "execution_count": 15,
   "metadata": {},
   "outputs": [
    {
     "name": "stdout",
     "output_type": "stream",
     "text": [
      "Counter({0: 885, 3: 689, 1: 130, 4: 60, 2: 20})\n"
     ]
    },
    {
     "data": {
      "text/plain": [
       "array([885, 130,  20, 689,  60])"
      ]
     },
     "execution_count": 15,
     "metadata": {},
     "output_type": "execute_result"
    }
   ],
   "source": [
    "# question c) construct a confusion matrix\n",
    "# correspond labels(songer names) with integers\n",
    "label2id = {label: i for i, label in enumerate(set(labels_train))}\n",
    "id2label = {id:label for label,id in label2id.items()}\n",
    "\n",
    "print(Counter(clustered_labels))\n",
    "\n",
    "cm = [[0 for _ in range(5)] for _ in range(10)]\n",
    "for idx, label in enumerate(all_labels):\n",
    "    true_id = label2id[label] \n",
    "    pred_id = clustered_labels[idx]\n",
    "    cm[true_id][pred_id] += 1\n",
    "cm = np.array(cm)\n",
    "np.sum(cm,axis=0)"
   ]
  },
  {
   "cell_type": "code",
   "execution_count": 16,
   "metadata": {},
   "outputs": [
    {
     "data": {
      "text/plain": [
       "False"
      ]
     },
     "execution_count": 16,
     "metadata": {},
     "output_type": "execute_result"
    }
   ],
   "source": [
    "a = list(label2id.keys())\n",
    "labels_y = ['Eminem', 'Beyonce Knowles', 'Dua Lipa', 'Selena Gomez', 'Michael Jackson', 'Ariana Grande', 'Taylor Swift', 'Lady Gaga', 'XXXTentacion', 'Jennifer Lopez']\n",
    "a == labels_y"
   ]
  },
  {
   "cell_type": "code",
   "execution_count": 18,
   "metadata": {},
   "outputs": [
    {
     "data": {
      "text/plain": [
       "<AxesSubplot:xlabel='k-means labels', ylabel='Target labels'>"
      ]
     },
     "execution_count": 18,
     "metadata": {},
     "output_type": "execute_result"
    },
    {
     "data": {
      "image/png": "[encoded data removed]",
      "text/plain": [
       "<Figure size 432x288 with 1 Axes>"
      ]
     },
     "metadata": {
      "needs_background": "light"
     },
     "output_type": "display_data"
    }
   ],
   "source": [
    "# show confusion matrix\n",
    "from sklearn.metrics import confusion_matrix\n",
    "from sklearn.metrics import ConfusionMatrixDisplay\n",
    "import seaborn as sn\n",
    "\n",
    "def plotConfusionMatrix(cm, labels_val, labels_predicted):\n",
    "  cm = cm\n",
    "  colour_map = sn.color_palette(\"Reds\", as_cmap=True)\n",
    "  labels_x = labels_val\n",
    "  labels_y = labels_predicted #list(label2id.keys())#['Eminem', 'Beyonce Knowles', 'Dua Lipa', 'Selena Gomez', 'Michael Jackson', 'Ariana Grande', 'Taylor Swift', 'Lady Gaga', 'XXXTentacion', 'Jennifer Lopez']\n",
    "  plot = sn.heatmap(cm, \n",
    "                    annot=True, # Put the numbers in\n",
    "                    annot_kws={\"size\": 16}, # Make the numbers bigger\n",
    "                    fmt='g', # Stop scientific notation\n",
    "                    cmap = colour_map, # Choose the colour palette\n",
    "                    cbar = False, # Don't include the colour bar\n",
    "                    xticklabels=labels_x,#labels_x, # Put in the X and Y labels\n",
    "                    yticklabels=labels_y)\n",
    "  plot.set(xlabel='k-means labels', ylabel='Target labels')\n",
    "  return plot\n",
    "\n",
    "plotConfusionMatrix(cm, [str(i) for i in range(5)] ,list(label2id.keys()))"
   ]
  },
  {
   "cell_type": "code",
   "execution_count": 45,
   "metadata": {},
   "outputs": [
    {
     "name": "stderr",
     "output_type": "stream",
     "text": [
      "/home/ryosuke/.local/lib/python3.10/site-packages/sklearn/cluster/_kmeans.py:870: FutureWarning: The default value of `n_init` will change from 10 to 'auto' in 1.4. Set the value of `n_init` explicitly to suppress the warning\n",
      "  warnings.warn(\n"
     ]
    },
    {
     "data": {
      "text/plain": [
       "Counter({4: 1092, 2: 199, 1: 86, 0: 308, 3: 99})"
      ]
     },
     "execution_count": 45,
     "metadata": {},
     "output_type": "execute_result"
    }
   ],
   "source": [
    "# unnecessary\n",
    "from sklearn.cluster import KMeans\n",
    "from collections import Counter\n",
    "kmeans = KMeans(n_clusters=5, random_state=10).fit_predict(texts_vector)\n",
    "Counter(kmeans)"
   ]
  },
  {
   "cell_type": "code",
   "execution_count": null,
   "metadata": {},
   "outputs": [],
   "source": []
  },
  {
   "attachments": {},
   "cell_type": "markdown",
   "metadata": {},
   "source": [
    "# Q3-Comparing Classifiers"
   ]
  },
  {
   "cell_type": "code",
   "execution_count": 14,
   "metadata": {},
   "outputs": [],
   "source": [
    "\n",
    "# Show classifier performance\n",
    "from sklearn.metrics import accuracy_score, precision_score, recall_score, f1_score\n",
    "def showPerformance(labels_true, labels_predicted):\n",
    "    print(f'accuracy ={accuracy_score(labels_true, labels_predicted):.3f}')\n",
    "    print(f'precision={precision_score(labels_true, labels_predicted, average=\"macro\"):.3f}')\n",
    "    print(f'recall   ={recall_score(labels_true, labels_predicted, average=\"macro\"):.3f}') \n",
    "    print(f'f1       ={f1_score(labels_true, labels_predicted, average=\"macro\"):.3f}')\n",
    "    return ;\n"
   ]
  },
  {
   "attachments": {},
   "cell_type": "markdown",
   "metadata": {},
   "source": [
    "### Dummy Classifier with strategy=\"most_frequent\""
   ]
  },
  {
   "cell_type": "code",
   "execution_count": 15,
   "metadata": {},
   "outputs": [
    {
     "name": "stdout",
     "output_type": "stream",
     "text": [
      "0.08403361344537816\n",
      "accuracy =0.084\n",
      "precision=0.008\n",
      "recall   =0.100\n",
      "f1       =0.016\n"
     ]
    },
    {
     "name": "stderr",
     "output_type": "stream",
     "text": [
      "/home/ryosuke/.local/lib/python3.10/site-packages/sklearn/metrics/_classification.py:1344: UndefinedMetricWarning: Precision is ill-defined and being set to 0.0 in labels with no predicted samples. Use `zero_division` parameter to control this behavior.\n",
      "  _warn_prf(average, modifier, msg_start, len(result))\n"
     ]
    }
   ],
   "source": [
    "from sklearn.dummy import DummyClassifier\n",
    "dummy_clf = DummyClassifier(strategy=\"most_frequent\")\n",
    "dummy_clf.fit(texts_train,labels_train)\n",
    "labels_predicted = dummy_clf.predict(texts_val)\n",
    "\n",
    "print(dummy_clf.score(texts_val, labels_val))\n",
    "showPerformance(labels_val, labels_predicted)"
   ]
  },
  {
   "attachments": {},
   "cell_type": "markdown",
   "metadata": {},
   "source": [
    "### Dummy Classifier with strategy=\"most_frequent\""
   ]
  },
  {
   "cell_type": "code",
   "execution_count": 16,
   "metadata": {},
   "outputs": [
    {
     "name": "stdout",
     "output_type": "stream",
     "text": [
      "accuracy =0.095\n",
      "precision=0.098\n",
      "recall   =0.092\n",
      "f1       =0.094\n"
     ]
    }
   ],
   "source": [
    "from sklearn.dummy import DummyClassifier\n",
    "dummy_clf = DummyClassifier(strategy=\"stratified\")\n",
    "dummy_clf.fit(texts_train,labels_train)\n",
    "labels_predicted = dummy_clf.predict(texts_val)\n",
    "\n",
    "# print(dummy_clf.score(texts_val, labels_val))\n",
    "showPerformance(labels_val, labels_predicted)"
   ]
  },
  {
   "attachments": {},
   "cell_type": "markdown",
   "metadata": {},
   "source": [
    "### LogisticRegression with one-hot vectorization"
   ]
  },
  {
   "cell_type": "code",
   "execution_count": 17,
   "metadata": {},
   "outputs": [
    {
     "name": "stderr",
     "output_type": "stream",
     "text": [
      "/home/ryosuke/.local/lib/python3.10/site-packages/sklearn/feature_extraction/text.py:528: UserWarning: The parameter 'token_pattern' will not be used since 'tokenizer' is not None'\n",
      "  warnings.warn(\n"
     ]
    },
    {
     "name": "stdout",
     "output_type": "stream",
     "text": [
      "accuracy =0.563\n",
      "precision=0.565\n",
      "recall   =0.567\n",
      "f1       =0.556\n"
     ]
    }
   ],
   "source": [
    "from sklearn.feature_extraction.text import CountVectorizer\n",
    "from sklearn.linear_model import LogisticRegression\n",
    "vectorizer = CountVectorizer(tokenizer=text_pipeline_spacy)\n",
    "\n",
    "vect_texts_train = vectorizer.fit_transform(texts_train)\n",
    "vect_texts_train[vect_texts_train != 0] = 1 # convert non-zero counting into 1\n",
    "\n",
    "vect_texts_val = vectorizer.transform(texts_val)\n",
    "vect_texts_val[vect_texts_val != 0] = 1\n",
    "\n",
    "# Logistic Regression\n",
    "clf = LogisticRegression(random_state=42,max_iter=1000).fit(vect_texts_train, labels_train)\n",
    "labels_predicted = clf.predict(vect_texts_val)\n",
    "\n",
    "\n",
    "showPerformance(labels_val, labels_predicted)"
   ]
  },
  {
   "attachments": {},
   "cell_type": "markdown",
   "metadata": {},
   "source": [
    "### LogisticRegression with TF-IDF vectorization"
   ]
  },
  {
   "cell_type": "code",
   "execution_count": 18,
   "metadata": {},
   "outputs": [
    {
     "name": "stderr",
     "output_type": "stream",
     "text": [
      "/home/ryosuke/.local/lib/python3.10/site-packages/sklearn/feature_extraction/text.py:528: UserWarning: The parameter 'token_pattern' will not be used since 'tokenizer' is not None'\n",
      "  warnings.warn(\n"
     ]
    },
    {
     "name": "stdout",
     "output_type": "stream",
     "text": [
      "accuracy =0.451\n",
      "precision=0.424\n",
      "recall   =0.444\n",
      "f1       =0.413\n"
     ]
    },
    {
     "name": "stderr",
     "output_type": "stream",
     "text": [
      "/home/ryosuke/.local/lib/python3.10/site-packages/sklearn/metrics/_classification.py:1344: UndefinedMetricWarning: Precision is ill-defined and being set to 0.0 in labels with no predicted samples. Use `zero_division` parameter to control this behavior.\n",
      "  _warn_prf(average, modifier, msg_start, len(result))\n"
     ]
    }
   ],
   "source": [
    "vectorizer = TfidfVectorizer(tokenizer=text_pipeline_spacy)\n",
    "vect_texts_train = vectorizer.fit_transform(texts_train)\n",
    "vect_texts_val = vectorizer.transform(texts_val)\n",
    "\n",
    "# Logistic Regression\n",
    "clf = LogisticRegression(random_state=42).fit(vect_texts_train, labels_train)\n",
    "labels_predicted = clf.predict(vect_texts_val)\n",
    "\n",
    "\n",
    "showPerformance(labels_val, labels_predicted)\n"
   ]
  },
  {
   "attachments": {},
   "cell_type": "markdown",
   "metadata": {},
   "source": [
    "### SVC Classifier with One-hot vectorization"
   ]
  },
  {
   "cell_type": "code",
   "execution_count": 19,
   "metadata": {},
   "outputs": [
    {
     "name": "stderr",
     "output_type": "stream",
     "text": [
      "/home/ryosuke/.local/lib/python3.10/site-packages/sklearn/feature_extraction/text.py:528: UserWarning: The parameter 'token_pattern' will not be used since 'tokenizer' is not None'\n",
      "  warnings.warn(\n"
     ]
    },
    {
     "name": "stdout",
     "output_type": "stream",
     "text": [
      "accuracy =0.518\n",
      "precision=0.498\n",
      "recall   =0.514\n",
      "f1       =0.481\n"
     ]
    },
    {
     "name": "stderr",
     "output_type": "stream",
     "text": [
      "/home/ryosuke/.local/lib/python3.10/site-packages/sklearn/metrics/_classification.py:1344: UndefinedMetricWarning: Precision is ill-defined and being set to 0.0 in labels with no predicted samples. Use `zero_division` parameter to control this behavior.\n",
      "  _warn_prf(average, modifier, msg_start, len(result))\n"
     ]
    }
   ],
   "source": [
    "# making one-hot vectors\n",
    "from sklearn.feature_extraction.text import CountVectorizer\n",
    "vectorizer = CountVectorizer(tokenizer=text_pipeline_spacy)\n",
    "vect_texts_train = vectorizer.fit_transform(texts_train)\n",
    "vect_texts_train[vect_texts_train != 0] = 1 # convert non-zero counting into 1\n",
    "\n",
    "vect_texts_val = vectorizer.transform(texts_val)\n",
    "vect_texts_val[vect_texts_val != 0] = 1\n",
    "\n",
    "from sklearn.svm import SVC\n",
    "clf = SVC(random_state=42).fit(vect_texts_train, labels_train)\n",
    "labels_predicted = clf.predict(vect_texts_val)\n",
    "\n",
    "\n",
    "showPerformance(labels_val, labels_predicted)"
   ]
  },
  {
   "attachments": {},
   "cell_type": "markdown",
   "metadata": {},
   "source": [
    "# Q4-Parameter Tuning"
   ]
  },
  {
   "attachments": {},
   "cell_type": "markdown",
   "metadata": {},
   "source": [
    "#### choose C value"
   ]
  },
  {
   "cell_type": "code",
   "execution_count": 20,
   "metadata": {},
   "outputs": [
    {
     "name": "stderr",
     "output_type": "stream",
     "text": [
      "100%|██████████| 9/9 [01:42<00:00, 11.40s/it]"
     ]
    },
    {
     "name": "stdout",
     "output_type": "stream",
     "text": [
      "best_param={'C': 100.0}\n",
      "0.504\n"
     ]
    },
    {
     "name": "stderr",
     "output_type": "stream",
     "text": [
      "\n"
     ]
    }
   ],
   "source": [
    "from tqdm import tqdm\n",
    "from sklearn.model_selection import ParameterGrid\n",
    "param_C = {'C':np.logspace(-3,5,9,base=10.0)}\n",
    "\n",
    "max_f1 = 0\n",
    "best_param = {}\n",
    "for params in tqdm(ParameterGrid(param_C)):\n",
    "  # vectorize training set and validation set\n",
    "  vectorizer = TfidfVectorizer()\n",
    "  vect_texts_train = vectorizer.fit_transform(texts_train)\n",
    "  vect_texts_val = vectorizer.transform(texts_val)\n",
    "\n",
    "  # logistic regression\n",
    "  clf = LogisticRegression(random_state=42,C=params['C'],max_iter=1000).fit(vect_texts_train, labels_train)\n",
    "  labels_predicted = clf.predict(vect_texts_val)\n",
    "\n",
    "  cur_f1 = f1_score(labels_val, labels_predicted,average=\"macro\")\n",
    "  if(cur_f1 > max_f1):\n",
    "    max_f1 = cur_f1\n",
    "    best_param = params\n",
    "\n",
    "print(f'{best_param=}')\n",
    "print(f'{max_f1:.3f}')\n",
    "\n"
   ]
  },
  {
   "attachments": {},
   "cell_type": "markdown",
   "metadata": {},
   "source": [
    "#### choose vectorizer"
   ]
  },
  {
   "cell_type": "code",
   "execution_count": 21,
   "metadata": {},
   "outputs": [
    {
     "name": "stderr",
     "output_type": "stream",
     "text": [
      "  0%|          | 0/12 [00:00<?, ?it/s]/home/ryosuke/.local/lib/python3.10/site-packages/sklearn/feature_extraction/text.py:528: UserWarning: The parameter 'token_pattern' will not be used since 'tokenizer' is not None'\n",
      "  warnings.warn(\n",
      "  8%|▊         | 1/12 [02:01<22:16, 121.46s/it]/home/ryosuke/.local/lib/python3.10/site-packages/sklearn/feature_extraction/text.py:528: UserWarning: The parameter 'token_pattern' will not be used since 'tokenizer' is not None'\n",
      "  warnings.warn(\n",
      " 17%|█▋        | 2/12 [04:06<20:36, 123.62s/it]/home/ryosuke/.local/lib/python3.10/site-packages/sklearn/feature_extraction/text.py:528: UserWarning: The parameter 'token_pattern' will not be used since 'tokenizer' is not None'\n",
      "  warnings.warn(\n",
      " 25%|██▌       | 3/12 [05:58<17:44, 118.31s/it]/home/ryosuke/.local/lib/python3.10/site-packages/sklearn/feature_extraction/text.py:528: UserWarning: The parameter 'token_pattern' will not be used since 'tokenizer' is not None'\n",
      "  warnings.warn(\n",
      " 33%|███▎      | 4/12 [07:49<15:24, 115.51s/it]/home/ryosuke/.local/lib/python3.10/site-packages/sklearn/feature_extraction/text.py:528: UserWarning: The parameter 'token_pattern' will not be used since 'tokenizer' is not None'\n",
      "  warnings.warn(\n",
      " 42%|████▏     | 5/12 [09:40<13:17, 113.93s/it]/home/ryosuke/.local/lib/python3.10/site-packages/sklearn/feature_extraction/text.py:528: UserWarning: The parameter 'token_pattern' will not be used since 'tokenizer' is not None'\n",
      "  warnings.warn(\n",
      " 50%|█████     | 6/12 [11:30<11:15, 112.56s/it]/home/ryosuke/.local/lib/python3.10/site-packages/sklearn/feature_extraction/text.py:528: UserWarning: The parameter 'token_pattern' will not be used since 'tokenizer' is not None'\n",
      "  warnings.warn(\n",
      " 58%|█████▊    | 7/12 [13:11<09:02, 108.59s/it]/home/ryosuke/.local/lib/python3.10/site-packages/sklearn/feature_extraction/text.py:528: UserWarning: The parameter 'token_pattern' will not be used since 'tokenizer' is not None'\n",
      "  warnings.warn(\n",
      " 67%|██████▋   | 8/12 [14:52<07:04, 106.21s/it]/home/ryosuke/.local/lib/python3.10/site-packages/sklearn/feature_extraction/text.py:528: UserWarning: The parameter 'token_pattern' will not be used since 'tokenizer' is not None'\n",
      "  warnings.warn(\n",
      " 75%|███████▌  | 9/12 [16:36<05:16, 105.58s/it]/home/ryosuke/.local/lib/python3.10/site-packages/sklearn/feature_extraction/text.py:528: UserWarning: The parameter 'token_pattern' will not be used since 'tokenizer' is not None'\n",
      "  warnings.warn(\n",
      " 83%|████████▎ | 10/12 [18:21<03:30, 105.27s/it]/home/ryosuke/.local/lib/python3.10/site-packages/sklearn/feature_extraction/text.py:528: UserWarning: The parameter 'token_pattern' will not be used since 'tokenizer' is not None'\n",
      "  warnings.warn(\n",
      " 92%|█████████▏| 11/12 [20:11<01:46, 106.74s/it]/home/ryosuke/.local/lib/python3.10/site-packages/sklearn/feature_extraction/text.py:528: UserWarning: The parameter 'token_pattern' will not be used since 'tokenizer' is not None'\n",
      "  warnings.warn(\n",
      "100%|██████████| 12/12 [1:49:42<00:00, 548.54s/it] "
     ]
    },
    {
     "name": "stdout",
     "output_type": "stream",
     "text": [
      "best_param={'max_features': 5000, 'sublinear_tf': True}\n",
      "0.562\n"
     ]
    },
    {
     "name": "stderr",
     "output_type": "stream",
     "text": [
      "\n"
     ]
    }
   ],
   "source": [
    "param_vec = {'max_features':[None, 5, 50, 500, 5000, 50000], 'sublinear_tf':[True,False]}\n",
    "\n",
    "max_f1 = 0\n",
    "best_param = {}\n",
    "for params in tqdm(ParameterGrid(param_vec)):\n",
    "  # vectorize training set and validation set\n",
    "  vectorizer = TfidfVectorizer(tokenizer=text_pipeline_spacy, max_features=params[\"max_features\"], sublinear_tf=params[\"sublinear_tf\"])\n",
    "  vect_texts_train = vectorizer.fit_transform(texts_train)\n",
    "  vect_texts_val = vectorizer.transform(texts_val)\n",
    "\n",
    "  # logistic regression\n",
    "  clf = LogisticRegression(random_state=42,C=100,max_iter=1000).fit(vect_texts_train, labels_train)\n",
    "  labels_predicted = clf.predict(vect_texts_val)\n",
    "\n",
    "  cur_f1 = f1_score(labels_val, labels_predicted,average=\"macro\")\n",
    "  if(cur_f1 > max_f1):\n",
    "    max_f1 = cur_f1\n",
    "    best_param = params\n",
    "\n",
    "print(f'{best_param=}')\n",
    "print(f'{max_f1:.3f}')\n"
   ]
  },
  {
   "cell_type": "code",
   "execution_count": 22,
   "metadata": {},
   "outputs": [
    {
     "name": "stderr",
     "output_type": "stream",
     "text": [
      "  0%|          | 0/12 [00:09<?, ?it/s]\n"
     ]
    },
    {
     "ename": "KeyboardInterrupt",
     "evalue": "",
     "output_type": "error",
     "traceback": [
      "\u001b[0;31m---------------------------------------------------------------------------\u001b[0m",
      "\u001b[0;31mKeyboardInterrupt\u001b[0m                         Traceback (most recent call last)",
      "Cell \u001b[0;32mIn[22], line 12\u001b[0m\n\u001b[1;32m      9\u001b[0m vect_texts_val \u001b[39m=\u001b[39m vectorizer\u001b[39m.\u001b[39mtransform(texts_val)\n\u001b[1;32m     11\u001b[0m \u001b[39m# logistic regression\u001b[39;00m\n\u001b[0;32m---> 12\u001b[0m clf \u001b[39m=\u001b[39m LogisticRegression(random_state\u001b[39m=\u001b[39;49m\u001b[39m42\u001b[39;49m,C\u001b[39m=\u001b[39;49m\u001b[39m100\u001b[39;49m,max_iter\u001b[39m=\u001b[39;49m\u001b[39m1000\u001b[39;49m)\u001b[39m.\u001b[39;49mfit(vect_texts_train, labels_train)\n\u001b[1;32m     13\u001b[0m labels_predicted \u001b[39m=\u001b[39m clf\u001b[39m.\u001b[39mpredict(vect_texts_val)\n\u001b[1;32m     15\u001b[0m cur_f1 \u001b[39m=\u001b[39m f1_score(labels_val, labels_predicted,average\u001b[39m=\u001b[39m\u001b[39m\"\u001b[39m\u001b[39mmacro\u001b[39m\u001b[39m\"\u001b[39m)\n",
      "File \u001b[0;32m~/.local/lib/python3.10/site-packages/sklearn/linear_model/_logistic.py:1291\u001b[0m, in \u001b[0;36mLogisticRegression.fit\u001b[0;34m(self, X, y, sample_weight)\u001b[0m\n\u001b[1;32m   1288\u001b[0m \u001b[39melse\u001b[39;00m:\n\u001b[1;32m   1289\u001b[0m     n_threads \u001b[39m=\u001b[39m \u001b[39m1\u001b[39m\n\u001b[0;32m-> 1291\u001b[0m fold_coefs_ \u001b[39m=\u001b[39m Parallel(n_jobs\u001b[39m=\u001b[39;49m\u001b[39mself\u001b[39;49m\u001b[39m.\u001b[39;49mn_jobs, verbose\u001b[39m=\u001b[39;49m\u001b[39mself\u001b[39;49m\u001b[39m.\u001b[39;49mverbose, prefer\u001b[39m=\u001b[39;49mprefer)(\n\u001b[1;32m   1292\u001b[0m     path_func(\n\u001b[1;32m   1293\u001b[0m         X,\n\u001b[1;32m   1294\u001b[0m         y,\n\u001b[1;32m   1295\u001b[0m         pos_class\u001b[39m=\u001b[39;49mclass_,\n\u001b[1;32m   1296\u001b[0m         Cs\u001b[39m=\u001b[39;49m[C_],\n\u001b[1;32m   1297\u001b[0m         l1_ratio\u001b[39m=\u001b[39;49m\u001b[39mself\u001b[39;49m\u001b[39m.\u001b[39;49ml1_ratio,\n\u001b[1;32m   1298\u001b[0m         fit_intercept\u001b[39m=\u001b[39;49m\u001b[39mself\u001b[39;49m\u001b[39m.\u001b[39;49mfit_intercept,\n\u001b[1;32m   1299\u001b[0m         tol\u001b[39m=\u001b[39;49m\u001b[39mself\u001b[39;49m\u001b[39m.\u001b[39;49mtol,\n\u001b[1;32m   1300\u001b[0m         verbose\u001b[39m=\u001b[39;49m\u001b[39mself\u001b[39;49m\u001b[39m.\u001b[39;49mverbose,\n\u001b[1;32m   1301\u001b[0m         solver\u001b[39m=\u001b[39;49msolver,\n\u001b[1;32m   1302\u001b[0m         multi_class\u001b[39m=\u001b[39;49mmulti_class,\n\u001b[1;32m   1303\u001b[0m         max_iter\u001b[39m=\u001b[39;49m\u001b[39mself\u001b[39;49m\u001b[39m.\u001b[39;49mmax_iter,\n\u001b[1;32m   1304\u001b[0m         class_weight\u001b[39m=\u001b[39;49m\u001b[39mself\u001b[39;49m\u001b[39m.\u001b[39;49mclass_weight,\n\u001b[1;32m   1305\u001b[0m         check_input\u001b[39m=\u001b[39;49m\u001b[39mFalse\u001b[39;49;00m,\n\u001b[1;32m   1306\u001b[0m         random_state\u001b[39m=\u001b[39;49m\u001b[39mself\u001b[39;49m\u001b[39m.\u001b[39;49mrandom_state,\n\u001b[1;32m   1307\u001b[0m         coef\u001b[39m=\u001b[39;49mwarm_start_coef_,\n\u001b[1;32m   1308\u001b[0m         penalty\u001b[39m=\u001b[39;49mpenalty,\n\u001b[1;32m   1309\u001b[0m         max_squared_sum\u001b[39m=\u001b[39;49mmax_squared_sum,\n\u001b[1;32m   1310\u001b[0m         sample_weight\u001b[39m=\u001b[39;49msample_weight,\n\u001b[1;32m   1311\u001b[0m         n_threads\u001b[39m=\u001b[39;49mn_threads,\n\u001b[1;32m   1312\u001b[0m     )\n\u001b[1;32m   1313\u001b[0m     \u001b[39mfor\u001b[39;49;00m class_, warm_start_coef_ \u001b[39min\u001b[39;49;00m \u001b[39mzip\u001b[39;49m(classes_, warm_start_coef)\n\u001b[1;32m   1314\u001b[0m )\n\u001b[1;32m   1316\u001b[0m fold_coefs_, _, n_iter_ \u001b[39m=\u001b[39m \u001b[39mzip\u001b[39m(\u001b[39m*\u001b[39mfold_coefs_)\n\u001b[1;32m   1317\u001b[0m \u001b[39mself\u001b[39m\u001b[39m.\u001b[39mn_iter_ \u001b[39m=\u001b[39m np\u001b[39m.\u001b[39masarray(n_iter_, dtype\u001b[39m=\u001b[39mnp\u001b[39m.\u001b[39mint32)[:, \u001b[39m0\u001b[39m]\n",
      "File \u001b[0;32m~/.local/lib/python3.10/site-packages/sklearn/utils/parallel.py:63\u001b[0m, in \u001b[0;36mParallel.__call__\u001b[0;34m(self, iterable)\u001b[0m\n\u001b[1;32m     58\u001b[0m config \u001b[39m=\u001b[39m get_config()\n\u001b[1;32m     59\u001b[0m iterable_with_config \u001b[39m=\u001b[39m (\n\u001b[1;32m     60\u001b[0m     (_with_config(delayed_func, config), args, kwargs)\n\u001b[1;32m     61\u001b[0m     \u001b[39mfor\u001b[39;00m delayed_func, args, kwargs \u001b[39min\u001b[39;00m iterable\n\u001b[1;32m     62\u001b[0m )\n\u001b[0;32m---> 63\u001b[0m \u001b[39mreturn\u001b[39;00m \u001b[39msuper\u001b[39;49m()\u001b[39m.\u001b[39;49m\u001b[39m__call__\u001b[39;49m(iterable_with_config)\n",
      "File \u001b[0;32m~/.local/lib/python3.10/site-packages/joblib/parallel.py:1085\u001b[0m, in \u001b[0;36mParallel.__call__\u001b[0;34m(self, iterable)\u001b[0m\n\u001b[1;32m   1076\u001b[0m \u001b[39mtry\u001b[39;00m:\n\u001b[1;32m   1077\u001b[0m     \u001b[39m# Only set self._iterating to True if at least a batch\u001b[39;00m\n\u001b[1;32m   1078\u001b[0m     \u001b[39m# was dispatched. In particular this covers the edge\u001b[39;00m\n\u001b[0;32m   (...)\u001b[0m\n\u001b[1;32m   1082\u001b[0m     \u001b[39m# was very quick and its callback already dispatched all the\u001b[39;00m\n\u001b[1;32m   1083\u001b[0m     \u001b[39m# remaining jobs.\u001b[39;00m\n\u001b[1;32m   1084\u001b[0m     \u001b[39mself\u001b[39m\u001b[39m.\u001b[39m_iterating \u001b[39m=\u001b[39m \u001b[39mFalse\u001b[39;00m\n\u001b[0;32m-> 1085\u001b[0m     \u001b[39mif\u001b[39;00m \u001b[39mself\u001b[39;49m\u001b[39m.\u001b[39;49mdispatch_one_batch(iterator):\n\u001b[1;32m   1086\u001b[0m         \u001b[39mself\u001b[39m\u001b[39m.\u001b[39m_iterating \u001b[39m=\u001b[39m \u001b[39mself\u001b[39m\u001b[39m.\u001b[39m_original_iterator \u001b[39mis\u001b[39;00m \u001b[39mnot\u001b[39;00m \u001b[39mNone\u001b[39;00m\n\u001b[1;32m   1088\u001b[0m     \u001b[39mwhile\u001b[39;00m \u001b[39mself\u001b[39m\u001b[39m.\u001b[39mdispatch_one_batch(iterator):\n",
      "File \u001b[0;32m~/.local/lib/python3.10/site-packages/joblib/parallel.py:901\u001b[0m, in \u001b[0;36mParallel.dispatch_one_batch\u001b[0;34m(self, iterator)\u001b[0m\n\u001b[1;32m    899\u001b[0m     \u001b[39mreturn\u001b[39;00m \u001b[39mFalse\u001b[39;00m\n\u001b[1;32m    900\u001b[0m \u001b[39melse\u001b[39;00m:\n\u001b[0;32m--> 901\u001b[0m     \u001b[39mself\u001b[39;49m\u001b[39m.\u001b[39;49m_dispatch(tasks)\n\u001b[1;32m    902\u001b[0m     \u001b[39mreturn\u001b[39;00m \u001b[39mTrue\u001b[39;00m\n",
      "File \u001b[0;32m~/.local/lib/python3.10/site-packages/joblib/parallel.py:819\u001b[0m, in \u001b[0;36mParallel._dispatch\u001b[0;34m(self, batch)\u001b[0m\n\u001b[1;32m    817\u001b[0m \u001b[39mwith\u001b[39;00m \u001b[39mself\u001b[39m\u001b[39m.\u001b[39m_lock:\n\u001b[1;32m    818\u001b[0m     job_idx \u001b[39m=\u001b[39m \u001b[39mlen\u001b[39m(\u001b[39mself\u001b[39m\u001b[39m.\u001b[39m_jobs)\n\u001b[0;32m--> 819\u001b[0m     job \u001b[39m=\u001b[39m \u001b[39mself\u001b[39;49m\u001b[39m.\u001b[39;49m_backend\u001b[39m.\u001b[39;49mapply_async(batch, callback\u001b[39m=\u001b[39;49mcb)\n\u001b[1;32m    820\u001b[0m     \u001b[39m# A job can complete so quickly than its callback is\u001b[39;00m\n\u001b[1;32m    821\u001b[0m     \u001b[39m# called before we get here, causing self._jobs to\u001b[39;00m\n\u001b[1;32m    822\u001b[0m     \u001b[39m# grow. To ensure correct results ordering, .insert is\u001b[39;00m\n\u001b[1;32m    823\u001b[0m     \u001b[39m# used (rather than .append) in the following line\u001b[39;00m\n\u001b[1;32m    824\u001b[0m     \u001b[39mself\u001b[39m\u001b[39m.\u001b[39m_jobs\u001b[39m.\u001b[39minsert(job_idx, job)\n",
      "File \u001b[0;32m~/.local/lib/python3.10/site-packages/joblib/_parallel_backends.py:208\u001b[0m, in \u001b[0;36mSequentialBackend.apply_async\u001b[0;34m(self, func, callback)\u001b[0m\n\u001b[1;32m    206\u001b[0m \u001b[39mdef\u001b[39;00m \u001b[39mapply_async\u001b[39m(\u001b[39mself\u001b[39m, func, callback\u001b[39m=\u001b[39m\u001b[39mNone\u001b[39;00m):\n\u001b[1;32m    207\u001b[0m \u001b[39m    \u001b[39m\u001b[39m\"\"\"Schedule a func to be run\"\"\"\u001b[39;00m\n\u001b[0;32m--> 208\u001b[0m     result \u001b[39m=\u001b[39m ImmediateResult(func)\n\u001b[1;32m    209\u001b[0m     \u001b[39mif\u001b[39;00m callback:\n\u001b[1;32m    210\u001b[0m         callback(result)\n",
      "File \u001b[0;32m~/.local/lib/python3.10/site-packages/joblib/_parallel_backends.py:597\u001b[0m, in \u001b[0;36mImmediateResult.__init__\u001b[0;34m(self, batch)\u001b[0m\n\u001b[1;32m    594\u001b[0m \u001b[39mdef\u001b[39;00m \u001b[39m__init__\u001b[39m(\u001b[39mself\u001b[39m, batch):\n\u001b[1;32m    595\u001b[0m     \u001b[39m# Don't delay the application, to avoid keeping the input\u001b[39;00m\n\u001b[1;32m    596\u001b[0m     \u001b[39m# arguments in memory\u001b[39;00m\n\u001b[0;32m--> 597\u001b[0m     \u001b[39mself\u001b[39m\u001b[39m.\u001b[39mresults \u001b[39m=\u001b[39m batch()\n",
      "File \u001b[0;32m~/.local/lib/python3.10/site-packages/joblib/parallel.py:288\u001b[0m, in \u001b[0;36mBatchedCalls.__call__\u001b[0;34m(self)\u001b[0m\n\u001b[1;32m    284\u001b[0m \u001b[39mdef\u001b[39;00m \u001b[39m__call__\u001b[39m(\u001b[39mself\u001b[39m):\n\u001b[1;32m    285\u001b[0m     \u001b[39m# Set the default nested backend to self._backend but do not set the\u001b[39;00m\n\u001b[1;32m    286\u001b[0m     \u001b[39m# change the default number of processes to -1\u001b[39;00m\n\u001b[1;32m    287\u001b[0m     \u001b[39mwith\u001b[39;00m parallel_backend(\u001b[39mself\u001b[39m\u001b[39m.\u001b[39m_backend, n_jobs\u001b[39m=\u001b[39m\u001b[39mself\u001b[39m\u001b[39m.\u001b[39m_n_jobs):\n\u001b[0;32m--> 288\u001b[0m         \u001b[39mreturn\u001b[39;00m [func(\u001b[39m*\u001b[39margs, \u001b[39m*\u001b[39m\u001b[39m*\u001b[39mkwargs)\n\u001b[1;32m    289\u001b[0m                 \u001b[39mfor\u001b[39;00m func, args, kwargs \u001b[39min\u001b[39;00m \u001b[39mself\u001b[39m\u001b[39m.\u001b[39mitems]\n",
      "File \u001b[0;32m~/.local/lib/python3.10/site-packages/joblib/parallel.py:288\u001b[0m, in \u001b[0;36m<listcomp>\u001b[0;34m(.0)\u001b[0m\n\u001b[1;32m    284\u001b[0m \u001b[39mdef\u001b[39;00m \u001b[39m__call__\u001b[39m(\u001b[39mself\u001b[39m):\n\u001b[1;32m    285\u001b[0m     \u001b[39m# Set the default nested backend to self._backend but do not set the\u001b[39;00m\n\u001b[1;32m    286\u001b[0m     \u001b[39m# change the default number of processes to -1\u001b[39;00m\n\u001b[1;32m    287\u001b[0m     \u001b[39mwith\u001b[39;00m parallel_backend(\u001b[39mself\u001b[39m\u001b[39m.\u001b[39m_backend, n_jobs\u001b[39m=\u001b[39m\u001b[39mself\u001b[39m\u001b[39m.\u001b[39m_n_jobs):\n\u001b[0;32m--> 288\u001b[0m         \u001b[39mreturn\u001b[39;00m [func(\u001b[39m*\u001b[39;49margs, \u001b[39m*\u001b[39;49m\u001b[39m*\u001b[39;49mkwargs)\n\u001b[1;32m    289\u001b[0m                 \u001b[39mfor\u001b[39;00m func, args, kwargs \u001b[39min\u001b[39;00m \u001b[39mself\u001b[39m\u001b[39m.\u001b[39mitems]\n",
      "File \u001b[0;32m~/.local/lib/python3.10/site-packages/sklearn/utils/parallel.py:123\u001b[0m, in \u001b[0;36m_FuncWrapper.__call__\u001b[0;34m(self, *args, **kwargs)\u001b[0m\n\u001b[1;32m    121\u001b[0m     config \u001b[39m=\u001b[39m {}\n\u001b[1;32m    122\u001b[0m \u001b[39mwith\u001b[39;00m config_context(\u001b[39m*\u001b[39m\u001b[39m*\u001b[39mconfig):\n\u001b[0;32m--> 123\u001b[0m     \u001b[39mreturn\u001b[39;00m \u001b[39mself\u001b[39;49m\u001b[39m.\u001b[39;49mfunction(\u001b[39m*\u001b[39;49margs, \u001b[39m*\u001b[39;49m\u001b[39m*\u001b[39;49mkwargs)\n",
      "File \u001b[0;32m~/.local/lib/python3.10/site-packages/sklearn/linear_model/_logistic.py:450\u001b[0m, in \u001b[0;36m_logistic_regression_path\u001b[0;34m(X, y, pos_class, Cs, fit_intercept, max_iter, tol, verbose, solver, coef, class_weight, dual, penalty, intercept_scaling, multi_class, random_state, check_input, max_squared_sum, sample_weight, l1_ratio, n_threads)\u001b[0m\n\u001b[1;32m    446\u001b[0m l2_reg_strength \u001b[39m=\u001b[39m \u001b[39m1.0\u001b[39m \u001b[39m/\u001b[39m C\n\u001b[1;32m    447\u001b[0m iprint \u001b[39m=\u001b[39m [\u001b[39m-\u001b[39m\u001b[39m1\u001b[39m, \u001b[39m50\u001b[39m, \u001b[39m1\u001b[39m, \u001b[39m100\u001b[39m, \u001b[39m101\u001b[39m][\n\u001b[1;32m    448\u001b[0m     np\u001b[39m.\u001b[39msearchsorted(np\u001b[39m.\u001b[39marray([\u001b[39m0\u001b[39m, \u001b[39m1\u001b[39m, \u001b[39m2\u001b[39m, \u001b[39m3\u001b[39m]), verbose)\n\u001b[1;32m    449\u001b[0m ]\n\u001b[0;32m--> 450\u001b[0m opt_res \u001b[39m=\u001b[39m optimize\u001b[39m.\u001b[39;49mminimize(\n\u001b[1;32m    451\u001b[0m     func,\n\u001b[1;32m    452\u001b[0m     w0,\n\u001b[1;32m    453\u001b[0m     method\u001b[39m=\u001b[39;49m\u001b[39m\"\u001b[39;49m\u001b[39mL-BFGS-B\u001b[39;49m\u001b[39m\"\u001b[39;49m,\n\u001b[1;32m    454\u001b[0m     jac\u001b[39m=\u001b[39;49m\u001b[39mTrue\u001b[39;49;00m,\n\u001b[1;32m    455\u001b[0m     args\u001b[39m=\u001b[39;49m(X, target, sample_weight, l2_reg_strength, n_threads),\n\u001b[1;32m    456\u001b[0m     options\u001b[39m=\u001b[39;49m{\u001b[39m\"\u001b[39;49m\u001b[39miprint\u001b[39;49m\u001b[39m\"\u001b[39;49m: iprint, \u001b[39m\"\u001b[39;49m\u001b[39mgtol\u001b[39;49m\u001b[39m\"\u001b[39;49m: tol, \u001b[39m\"\u001b[39;49m\u001b[39mmaxiter\u001b[39;49m\u001b[39m\"\u001b[39;49m: max_iter},\n\u001b[1;32m    457\u001b[0m )\n\u001b[1;32m    458\u001b[0m n_iter_i \u001b[39m=\u001b[39m _check_optimize_result(\n\u001b[1;32m    459\u001b[0m     solver,\n\u001b[1;32m    460\u001b[0m     opt_res,\n\u001b[1;32m    461\u001b[0m     max_iter,\n\u001b[1;32m    462\u001b[0m     extra_warning_msg\u001b[39m=\u001b[39m_LOGISTIC_SOLVER_CONVERGENCE_MSG,\n\u001b[1;32m    463\u001b[0m )\n\u001b[1;32m    464\u001b[0m w0, loss \u001b[39m=\u001b[39m opt_res\u001b[39m.\u001b[39mx, opt_res\u001b[39m.\u001b[39mfun\n",
      "File \u001b[0;32m~/.local/lib/python3.10/site-packages/scipy/optimize/_minimize.py:696\u001b[0m, in \u001b[0;36mminimize\u001b[0;34m(fun, x0, args, method, jac, hess, hessp, bounds, constraints, tol, callback, options)\u001b[0m\n\u001b[1;32m    693\u001b[0m     res \u001b[39m=\u001b[39m _minimize_newtoncg(fun, x0, args, jac, hess, hessp, callback,\n\u001b[1;32m    694\u001b[0m                              \u001b[39m*\u001b[39m\u001b[39m*\u001b[39moptions)\n\u001b[1;32m    695\u001b[0m \u001b[39melif\u001b[39;00m meth \u001b[39m==\u001b[39m \u001b[39m'\u001b[39m\u001b[39ml-bfgs-b\u001b[39m\u001b[39m'\u001b[39m:\n\u001b[0;32m--> 696\u001b[0m     res \u001b[39m=\u001b[39m _minimize_lbfgsb(fun, x0, args, jac, bounds,\n\u001b[1;32m    697\u001b[0m                            callback\u001b[39m=\u001b[39;49mcallback, \u001b[39m*\u001b[39;49m\u001b[39m*\u001b[39;49moptions)\n\u001b[1;32m    698\u001b[0m \u001b[39melif\u001b[39;00m meth \u001b[39m==\u001b[39m \u001b[39m'\u001b[39m\u001b[39mtnc\u001b[39m\u001b[39m'\u001b[39m:\n\u001b[1;32m    699\u001b[0m     res \u001b[39m=\u001b[39m _minimize_tnc(fun, x0, args, jac, bounds, callback\u001b[39m=\u001b[39mcallback,\n\u001b[1;32m    700\u001b[0m                         \u001b[39m*\u001b[39m\u001b[39m*\u001b[39moptions)\n",
      "File \u001b[0;32m~/.local/lib/python3.10/site-packages/scipy/optimize/_lbfgsb_py.py:350\u001b[0m, in \u001b[0;36m_minimize_lbfgsb\u001b[0;34m(fun, x0, args, jac, bounds, disp, maxcor, ftol, gtol, eps, maxfun, maxiter, iprint, callback, maxls, finite_diff_rel_step, **unknown_options)\u001b[0m\n\u001b[1;32m    346\u001b[0m n_iterations \u001b[39m=\u001b[39m \u001b[39m0\u001b[39m\n\u001b[1;32m    348\u001b[0m \u001b[39mwhile\u001b[39;00m \u001b[39m1\u001b[39m:\n\u001b[1;32m    349\u001b[0m     \u001b[39m# x, f, g, wa, iwa, task, csave, lsave, isave, dsave = \\\u001b[39;00m\n\u001b[0;32m--> 350\u001b[0m     _lbfgsb\u001b[39m.\u001b[39;49msetulb(m, x, low_bnd, upper_bnd, nbd, f, g, factr,\n\u001b[1;32m    351\u001b[0m                    pgtol, wa, iwa, task, iprint, csave, lsave,\n\u001b[1;32m    352\u001b[0m                    isave, dsave, maxls)\n\u001b[1;32m    353\u001b[0m     task_str \u001b[39m=\u001b[39m task\u001b[39m.\u001b[39mtobytes()\n\u001b[1;32m    354\u001b[0m     \u001b[39mif\u001b[39;00m task_str\u001b[39m.\u001b[39mstartswith(\u001b[39mb\u001b[39m\u001b[39m'\u001b[39m\u001b[39mFG\u001b[39m\u001b[39m'\u001b[39m):\n\u001b[1;32m    355\u001b[0m         \u001b[39m# The minimization routine wants f and g at the current x.\u001b[39;00m\n\u001b[1;32m    356\u001b[0m         \u001b[39m# Note that interruptions due to maxfun are postponed\u001b[39;00m\n\u001b[1;32m    357\u001b[0m         \u001b[39m# until the completion of the current minimization iteration.\u001b[39;00m\n\u001b[1;32m    358\u001b[0m         \u001b[39m# Overwrite f and g:\u001b[39;00m\n",
      "\u001b[0;31mKeyboardInterrupt\u001b[0m: "
     ]
    }
   ],
   "source": [
    "\n",
    "param_vec = {'max_features':[None, 5, 50, 500, 5000, 50000], 'sublinear_tf':[True,False]}\n",
    "\n",
    "max_f1 = 0\n",
    "best_param = {}\n",
    "for params in tqdm(ParameterGrid(param_vec)):\n",
    "  # vectorize training set and validation set\n",
    "  vectorizer = TfidfVectorizer(max_features=params[\"max_features\"], sublinear_tf=params[\"sublinear_tf\"])\n",
    "  vect_texts_train = vectorizer.fit_transform(texts_train)\n",
    "  vect_texts_val = vectorizer.transform(texts_val)\n",
    "\n",
    "  # logistic regression\n",
    "  clf = LogisticRegression(random_state=42,C=100,max_iter=1000).fit(vect_texts_train, labels_train)\n",
    "  labels_predicted = clf.predict(vect_texts_val)\n",
    "\n",
    "  cur_f1 = f1_score(labels_val, labels_predicted,average=\"macro\")\n",
    "  if(cur_f1 > max_f1):\n",
    "    max_f1 = cur_f1\n",
    "    best_param = params\n",
    "\n",
    "print(f'{best_param=}')\n",
    "print(f'{max_f1:.3f}')"
   ]
  },
  {
   "attachments": {},
   "cell_type": "markdown",
   "metadata": {},
   "source": [
    "# Q5-Context vectors using BERT"
   ]
  },
  {
   "cell_type": "code",
   "execution_count": 5,
   "metadata": {},
   "outputs": [
    {
     "ename": "ModuleNotFoundError",
     "evalue": "No module named 'torch'",
     "output_type": "error",
     "traceback": [
      "\u001b[0;31m---------------------------------------------------------------------------\u001b[0m",
      "\u001b[0;31mModuleNotFoundError\u001b[0m                       Traceback (most recent call last)",
      "\u001b[1;32m/home/denjo/Glasgow2/textAsData/main.ipynb Cell 37\u001b[0m in \u001b[0;36m<cell line: 3>\u001b[0;34m()\u001b[0m\n\u001b[1;32m      <a href='vscode-notebook-cell:/home/denjo/Glasgow2/textAsData/main.ipynb#X52sZmlsZQ%3D%3D?line=0'>1</a>\u001b[0m \u001b[39mfrom\u001b[39;00m \u001b[39mtransformers\u001b[39;00m \u001b[39mimport\u001b[39;00m AutoTokenizer\n\u001b[0;32m----> <a href='vscode-notebook-cell:/home/denjo/Glasgow2/textAsData/main.ipynb#X52sZmlsZQ%3D%3D?line=2'>3</a>\u001b[0m \u001b[39mimport\u001b[39;00m \u001b[39mtorch\u001b[39;00m\n",
      "\u001b[0;31mModuleNotFoundError\u001b[0m: No module named 'torch'"
     ]
    }
   ],
   "source": [
    "from transformers import AutoTokenizer\n",
    "\n",
    "import torch\n",
    "# tokenizer = AutoTokenizer.from_pretrained(\"bert-base-uncased\")"
   ]
  },
  {
   "cell_type": "code",
   "execution_count": 3,
   "metadata": {},
   "outputs": [
    {
     "data": {
      "text/plain": [
       "['i', 'walked', 'through', 'kelvin', '##grove', '.']"
      ]
     },
     "execution_count": 3,
     "metadata": {},
     "output_type": "execute_result"
    }
   ],
   "source": [
    "tokenizer.tokenize(\"I walked through Kelvingrove.\")"
   ]
  },
  {
   "cell_type": "code",
   "execution_count": 39,
   "metadata": {},
   "outputs": [
    {
     "data": {
      "text/plain": [
       "array([[4.21015997e-35, 8.58148935e-01, 1.41851065e-01, 3.32446694e-21]])"
      ]
     },
     "execution_count": 39,
     "metadata": {},
     "output_type": "execute_result"
    }
   ],
   "source": [
    "import numpy as np\n",
    "def softmax(z):\n",
    "    assert len(z.shape) == 2\n",
    "\n",
    "\n",
    "    s = np.max(z, axis=1)\n",
    "    s = s[:, np.newaxis] # necessary step to do broadcasting\n",
    "    e_x = np.exp(z - s)\n",
    "    div = np.sum(e_x, axis=1)\n",
    "    div = div[:, np.newaxis] # dito\n",
    "    return e_x / div\n",
    "\n",
    "\n",
    "x1 = np.array([[12.1,91.1,89.3, 44.1]])\n",
    "softmax(x1)\n"
   ]
  }
 ],
 "metadata": {
  "kernelspec": {
   "display_name": "Python 3",
   "language": "python",
   "name": "python3"
  },
  "language_info": {
   "codemirror_mode": {
    "name": "ipython",
    "version": 3
   },
   "file_extension": ".py",
   "mimetype": "text/x-python",
   "name": "python",
   "nbconvert_exporter": "python",
   "pygments_lexer": "ipython3",
   "version": "3.8.10"
  },
  "orig_nbformat": 4,
  "vscode": {
   "interpreter": {
    "hash": "31f2aee4e71d21fbe5cf8b01ff0e069b9275f58929596ceb00d14d90e3e16cd6"
   }
  }
 },
 "nbformat": 4,
 "nbformat_minor": 2
}
