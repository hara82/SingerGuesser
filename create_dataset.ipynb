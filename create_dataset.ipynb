{
 "cells": [
  {
   "attachments": {},
   "cell_type": "markdown",
   "metadata": {},
   "source": [
    "# Create Dataset from fetched data"
   ]
  },
  {
   "cell_type": "code",
   "execution_count": 19,
   "metadata": {},
   "outputs": [
    {
     "ename": "FileNotFoundError",
     "evalue": "[Errno 2] No such file or directory: './dataset/dict.json'",
     "output_type": "error",
     "traceback": [
      "\u001b[0;31m---------------------------------------------------------------------------\u001b[0m",
      "\u001b[0;31mFileNotFoundError\u001b[0m                         Traceback (most recent call last)",
      "\u001b[1;32m/home/denjo/Glasgow2/textAsData/mkData.ipynb Cell 2\u001b[0m in \u001b[0;36m<cell line: 3>\u001b[0;34m()\u001b[0m\n\u001b[1;32m      <a href='vscode-notebook-cell:/home/denjo/Glasgow2/textAsData/mkData.ipynb#X13sZmlsZQ%3D%3D?line=0'>1</a>\u001b[0m \u001b[39mimport\u001b[39;00m \u001b[39mjson\u001b[39;00m\n\u001b[0;32m----> <a href='vscode-notebook-cell:/home/denjo/Glasgow2/textAsData/mkData.ipynb#X13sZmlsZQ%3D%3D?line=2'>3</a>\u001b[0m \u001b[39mwith\u001b[39;00m \u001b[39mopen\u001b[39;49m(\u001b[39m'\u001b[39;49m\u001b[39m./dataset/dict.json\u001b[39;49m\u001b[39m'\u001b[39;49m) \u001b[39mas\u001b[39;00m f:\n\u001b[1;32m      <a href='vscode-notebook-cell:/home/denjo/Glasgow2/textAsData/mkData.ipynb#X13sZmlsZQ%3D%3D?line=3'>4</a>\u001b[0m     lyrics_documents \u001b[39m=\u001b[39m json\u001b[39m.\u001b[39mload(f)\n\u001b[1;32m      <a href='vscode-notebook-cell:/home/denjo/Glasgow2/textAsData/mkData.ipynb#X13sZmlsZQ%3D%3D?line=5'>6</a>\u001b[0m \u001b[39mlen\u001b[39m(lyrics_documents)\n",
      "\u001b[0;31mFileNotFoundError\u001b[0m: [Errno 2] No such file or directory: './dataset/dict.json'"
     ]
    }
   ],
   "source": [
    "import json\n",
    "\n",
    "with open('./dataset/dict.json') as f:\n",
    "    lyrics_documents = json.load(f)\n",
    "\n",
    "len(lyrics_documents)"
   ]
  },
  {
   "cell_type": "code",
   "execution_count": 26,
   "metadata": {},
   "outputs": [],
   "source": [
    "lyrics_documents = [\n",
    "    {\"ARTIST_NAME\": \"Ariana Grande\",\n",
    "    \"pov\":\"hogehogehogehogehogehogehoge\",\n",
    "    \"needy\":\"fugafugafugafugafugafugafugafugafugafugafugafugafugafugafuga\",\n",
    "    \"NASA\":\"hogefugahogefugahogefugahogefugahogefugahogefugahogefugahogefugahogefugahogefugahogefugahogefugahogefugahogefugahogefugahogefuga\"},\n",
    "    {\"ARTIST_NAME\": \"Ed Sheeran\",\n",
    "    \"Photograph\":\"keep it in the photograph\",\n",
    "    \"happier\":\"I know I was happier with you\",\n",
    "    \"Shape of you\":\"ahoahoahoahoahoahoahoahoahoahoahoahoahoahoahoaho\"}\n",
    "\n",
    "]"
   ]
  },
  {
   "attachments": {},
   "cell_type": "markdown",
   "metadata": {},
   "source": [
    "## check the range of lyrics length"
   ]
  },
  {
   "cell_type": "code",
   "execution_count": 28,
   "metadata": {},
   "outputs": [
    {
     "name": "stdout",
     "output_type": "stream",
     "text": [
      "min_lyrics_len=25\n",
      "max_lyrics_len=128\n"
     ]
    }
   ],
   "source": [
    "min_lyrics_len = 1e9\n",
    "max_lyrics_len = 0\n",
    "for doc in lyrics_documents:\n",
    "    for index,lyrics in doc.items():\n",
    "        if(index == \"ARTIST_NAME\"):\n",
    "            continue\n",
    "        len_lyrics = len(lyrics)\n",
    "        min_lyrics_len = min(min_lyrics_len, len_lyrics)\n",
    "        max_lyrics_len = max(max_lyrics_len, len_lyrics)\n",
    "print(f\"{min_lyrics_len=}\")\n",
    "print(f\"{max_lyrics_len=}\")"
   ]
  },
  {
   "cell_type": "code",
   "execution_count": 39,
   "metadata": {},
   "outputs": [],
   "source": [
    "labels, texts = [],[]\n",
    "\n",
    "for doc in lyrics_documents:\n",
    "    for title,text in doc.items():\n",
    "        if(title == \"ARTIST_NAME\"):\n",
    "            continue\n",
    "        labels.append(doc[\"ARTIST_NAME\"])\n",
    "        texts.append(title + '\\n' + text)\n"
   ]
  },
  {
   "cell_type": "code",
   "execution_count": 41,
   "metadata": {},
   "outputs": [
    {
     "name": "stdout",
     "output_type": "stream",
     "text": [
      "Ariana Grande,pov\n",
      "hogehogehogehogehogehogehoge\n",
      "Ariana Grande,needy\n",
      "fugafugafugafugafugafugafugafugafugafugafugafugafugafugafuga\n",
      "Ariana Grande,NASA\n",
      "hogefugahogefugahogefugahogefugahogefugahogefugahogefugahogefugahogefugahogefugahogefugahogefugahogefugahogefugahogefugahogefuga\n",
      "Ed Sheeran,Photograph\n",
      "keep it in the photograph\n",
      "Ed Sheeran,happier\n",
      "I know I was happier with you\n",
      "Ed Sheeran,Shape of you\n",
      "ahoahoahoahoahoahoahoahoahoahoahoahoahoahoahoaho\n"
     ]
    }
   ],
   "source": [
    "for i in range(len(labels)):\n",
    "    print(f'{labels[i]},{texts[i]}')"
   ]
  },
  {
   "cell_type": "code",
   "execution_count": null,
   "metadata": {},
   "outputs": [],
   "source": [
    "from lyricsgenius import Genius\n",
    "token = '02BnaBIRnqGhVSFhC2ZXAlL5LWl79xEtVhw9qJS4j1Nii8p9ZSO3JbcEwfQYZSry'\n",
    "import json"
   ]
  },
  {
   "cell_type": "code",
   "execution_count": null,
   "metadata": {},
   "outputs": [],
   "source": [
    "excluded_terms = [\"remix\",\"Acoustic\",\"Instrumental\",\"speech\",\"Commentary\",\"Spotify\",\"version\"]\n",
    "artist_names = [\"Michael Jackson\",\"Elvis Presley\", \"Queen\", \"Aretha Franklin\",\n",
    "\"Elton John\", \"The Beatles\", \"Whitney Housten\",\"Frank Sinatra\",\"David Bowie\"]\n",
    "\n",
    "genius = Genius(access_token=token, timeout=100, remove_section_headers=True,\n",
    " skip_non_songs=True,retries=10, excluded_terms=excluded_terms)\n",
    "\n",
    "for singer in artist_names:\n",
    "    artist = genius.search_artist(singer,sort=\"popularity\", max_songs=200)\n",
    "    artist.save_lyrics(f'./raw_jason/{singer}_artist_file.json')# save artist object as json file just in case\n",
    "\n",
    "    songs_dict = {}\n",
    "    for song in artist.songs:\n",
    "        lyrics_plain_text = song.to_text()\n",
    "        if(lyrics_plain_text != None):\n",
    "            songs_dict[song.title] = lyrics_plain_text\n",
    "    \n",
    "    # save dictionary as json file, key = title, value = lyrics\n",
    "    with open(f'./lyrics/{singer}.json',\"w\") as outfile:\n",
    "        json.dump(songs_dict,outfile)\n",
    "\n",
    "\n",
    "\n"
   ]
  },
  {
   "cell_type": "code",
   "execution_count": 13,
   "metadata": {},
   "outputs": [],
   "source": [
    "import json\n",
    "test_dict = {\"t1\":\"hoge\",\n",
    "             \"t2\":\"huga\",\n",
    "             \"t3\":\"hogehoge\"}\n",
    "test_dict[\"t1\"]\n",
    "# json.dumps(test_dict)\n",
    "# json.dump(test_dict,\"w\",\"testjson.json\",indent=4)\n",
    "with open(\"sample.json\",\"w\") as outfile:\n",
    "    json.dump(test_dict,outfile)"
   ]
  },
  {
   "cell_type": "code",
   "execution_count": 17,
   "metadata": {},
   "outputs": [
    {
     "data": {
      "text/plain": [
       "dict"
      ]
     },
     "execution_count": 17,
     "metadata": {},
     "output_type": "execute_result"
    }
   ],
   "source": [
    "with open(\"sample.json\") as f:\n",
    "    doc = json.load(f)\n",
    "doc[\"t1\"]\n",
    "type(doc)"
   ]
  },
  {
   "cell_type": "code",
   "execution_count": 12,
   "metadata": {},
   "outputs": [
    {
     "name": "stdout",
     "output_type": "stream",
     "text": [
      "Searching for songs by Taylor Swift...\n",
      "\n",
      "\"1989 [Booklet]\" is not valid. Skipping.\n",
      "\"1989 Interview with Paul McGuire\" is not valid. Skipping.\n",
      "\"1989 [Liner Notes]\" is not valid. Skipping.\n",
      "\"1989 Tour Setlist\" is not valid. Skipping.\n",
      "Song 1: \"1989 World Tour Costumes\"\n",
      "Song 2: \"1989 World Tour Dates\"\n",
      "Song 3: \"2021 BRIT Global Icon Award Speech\"\n",
      "Song 4: \"2022 New York University Commencement Speech\"\n",
      "Couldn't find the lyrics section. Please report this if the song has lyrics.\n",
      "Song URL: https://genius.com/Midnite-string-quartet-22-lyrics\n",
      "Song 5: \"22\"\n",
      "Song 6: \"22 (Taylor’s Version)\"\n",
      "Song 7: \"30 Things I Learned Before Turning 30\"\n",
      "\"Acting Like a Boy*\" is not valid. Skipping.\n",
      "Song 8: \"Afterglow\"\n",
      "Song 9: \"Ain’t Nothing ’Bout You\"\n",
      "Song 10: \"Album of the Year Acceptance Speech (Grammys 2016)\"\n",
      "Song 11: \"All Night Diner\"\n",
      "Song 12: \"All of the Girls\"\n",
      "Song 13: \"All Too Well\"\n",
      "Song 14: \"All Too Well (10 Minute Version) (Live on Saturday Night Live)\"\n",
      "Song 15: \"All Too Well (10 Minute Version) (Taylor’s Version) [From the Vault]\"\n",
      "Song 16: \"All Too Well (10 Minute Version) (Taylor’s Version) [Live Acoustic]\"\n",
      "Song 17: \"All Too Well (10 Minute Version) [The Short Film]\"\n",
      "Song 18: \"All Too Well (Sad Girl Autumn Version) - Recorded At Long Pond Studios\"\n",
      "Song 19: \"All Too Well (Taylor’s Version)\"\n",
      "Song 20: \"All You Had to Do Was Stay\"\n",
      "Song 21: \"All You Had To Do Was Stay Speeches\"\n",
      "Song 22: \"AMAs Artist of the Decade Performance\"\n",
      "Song 23: \"American Boy\"\n",
      "Song 24: \"American Girl\"\n",
      "Song 25: \"A Message From Taylor\"\n",
      "Song 26: \"A Message From Taylor (Fountain Pen Songs)\"\n",
      "Song 27: \"A Message From Taylor (Glitter Gel Pen Songs)\"\n",
      "Song 28: \"A Message From Taylor (Quill Pen Songs)\"\n",
      "Song 29: \"Am I Ready for Love\"\n",
      "Song 30: \"A Monster In My Closet!\"\n",
      "Song 31: \"Angelina\"\n",
      "Song 32: \"Animal\"\n",
      "Song 33: \"Anti-Hero\"\n",
      "Song 34: \"Anti-Hero (Acoustic Version)\"\n",
      "Song 35: \"Anti-Hero (Behind The Song)\"\n",
      "Song 36: \"Anti-Hero (ILLENIUM Remix)\"\n",
      "\"Anti-Hero (Instrumental Version)\" is not valid. Skipping.\n",
      "Song 37: \"Anti-Hero (Jayda G Remix)\"\n",
      "Song 38: \"Anti-Hero (Kungs Remix)\"\n",
      "Song 39: \"Anti-Hero (Kungs Remix Extended Version)\"\n",
      "Song 40: \"Anti-Hero (Mixed)\"\n",
      "Song 41: \"Anti-Hero (Mixed) [Jan 2023]\"\n",
      "Song 42: \"Anti-Hero (Remix)\"\n",
      "Song 43: \"Anti-Hero (Roosevelt Remix)\"\n",
      "\"Anymore*\" is not valid. Skipping.\n",
      "Song 44: \"A Perfectly Good Heart\"\n",
      "Song 45: \"A Place In This World\"\n",
      "Song 46: \"A Place In This World (Live from SoHo)\"\n",
      "Song 47: \"​august\"\n",
      "Song 48: \"​august (the long pond studio sessions)\"\n",
      "Song 49: \"Babe (Taylor’s Version) [From the Vault]\"\n",
      "Song 50: \"Baby\"\n",
      "Song 51: \"Baby (live cover)\"\n",
      "Song 52: \"Back to December\"\n",
      "Song 53: \"Back To December (Acoustic)\"\n",
      "Song 54: \"Back to December / Apologize / You’re Not Sorry (Live/2011)\"\n",
      "Song 55: \"Back To December (European Version)\"\n",
      "Couldn't find the lyrics section. Please report this if the song has lyrics.\n",
      "Song URL: https://genius.com/Brooklyn-duo-bad-blood-lyrics\n",
      "Song 56: \"Bad Blood\"\n",
      "Song 57: \"Bad Blood (Remix)\"\n",
      "Song 58: \"Bad Blood/Should’ve Said No\"\n",
      "Song 59: \"“Bad Blood” Video Breakdown\"\n",
      "Song 60: \"Barnyard Song\"\n",
      "\"BBC Radio 1 Biggest Weekend 2018 Setlist\" is not valid. Skipping.\n",
      "\"Beautiful Day*\" is not valid. Skipping.\n",
      "Song 61: \"Beautiful Eyes\"\n",
      "Song 62: \"Beautiful Eyes (Live From Clear Channel Stripped 2008)\"\n",
      "Song 63: \"Beautiful Ghosts\"\n",
      "Couldn't find the lyrics section. Please report this if the song has lyrics.\n",
      "Song URL: https://genius.com/The-piano-guys-begin-again-lyrics\n",
      "Song 64: \"Begin Again\"\n",
      "Song 65: \"Begin Again (Taylor’s Version)\"\n",
      "Song 66: \"Being with My Baby\"\n",
      "Song 67: \"Bejeweled\"\n",
      "Song 68: \"Bejeweled (Behind The Song)\"\n",
      "\"Bejeweled (Instrumental Version)\" is not valid. Skipping.\n",
      "Song 69: \"Bejeweled (Mixed)\"\n",
      "Song 70: \"Bejeweled (Mixed) [Jan 2023]\"\n",
      "Song 71: \"Bette Davis Eyes (Live/2011)\"\n",
      "Song 72: \"Better Man (Demo Version)\"\n",
      "Song 73: \"Better Man (Taylor’s Version) [From the Vault]\"\n",
      "Song 74: \"Better Off\"\n",
      "Song 75: \"Better Than Revenge\"\n",
      "Song 76: \"Better Than Revenge (Live/2011)\"\n",
      "Song 77: \"​betty\"\n",
      "Song 78: \"​betty (Live from the 2020 Academy of Country Music Awards)\"\n",
      "Song 79: \"​betty (Radio Edit)\"\n",
      "Song 80: \"​betty (the long pond studio sessions)\"\n",
      "Song 81: \"Bigger Than The Whole Sky\"\n",
      "Song 82: \"Billboard Woman of the Decade Speech\"\n",
      "Couldn't find the lyrics section. Please report this if the song has lyrics.\n",
      "Song URL: https://genius.com/Vitamin-string-quartet-blank-space-lyrics\n",
      "Couldn't find the lyrics section. Please report this if the song has lyrics.\n",
      "Song URL: https://genius.com/Midnite-string-quartet-blank-space-lyrics\n",
      "Couldn't find the lyrics section. Please report this if the song has lyrics.\n",
      "Song URL: https://genius.com/Vitamin-string-quartet-blank-space-lyrics\n",
      "Song 83: \"Blank Space\"\n",
      "Song 84: \"Blank Space (Voice Memo)\"\n",
      "\"Bother Me*\" is not valid. Skipping.\n",
      "\"Boys and Love*\" is not valid. Skipping.\n",
      "Song 85: \"Brand New World\"\n",
      "Song 86: \"Breathe\"\n",
      "Song 87: \"Breathe (Taylor’s Version)\"\n",
      "Song 88: \"Breathless\"\n",
      "Song 89: \"Brought Up That Way\"\n",
      "Song 90: \"Burn the Barn\"\n",
      "Song 91: \"Bye Bye Baby (Taylor’s Version) [From the Vault]\"\n",
      "Song 92: \"By The Way\"\n",
      "Song 93: \"Call It What You Want\"\n",
      "Song 94: \"Can I Go with You\"\n",
      "\"Cannon Balls\" is not valid. Skipping.\n",
      "Song 95: \"Can’t Stop Loving You (Live Lounge)\"\n",
      "Song 96: \"​cardigan\"\n",
      "Song 97: \"​cardigan / august / willow (Grammys 2021)\"\n",
      "Song 98: \"​cardigan (cabin in candlelight version)\"\n",
      "Song 99: \"​cardigan (the long pond studio sessions)\"\n",
      "Song 100: \"​cardigan (voice memo)\"\n",
      "\n",
      "Reached user-specified song limit (100).\n",
      "Done. Found 100 songs.\n",
      "[Song(id, artist, ...), Song(id, artist, ...), Song(id, artist, ...), Song(id, artist, ...), Song(id, artist, ...), Song(id, artist, ...), Song(id, artist, ...), Song(id, artist, ...), Song(id, artist, ...), Song(id, artist, ...), Song(id, artist, ...), Song(id, artist, ...), Song(id, artist, ...), Song(id, artist, ...), Song(id, artist, ...), Song(id, artist, ...), Song(id, artist, ...), Song(id, artist, ...), Song(id, artist, ...), Song(id, artist, ...), Song(id, artist, ...), Song(id, artist, ...), Song(id, artist, ...), Song(id, artist, ...), Song(id, artist, ...), Song(id, artist, ...), Song(id, artist, ...), Song(id, artist, ...), Song(id, artist, ...), Song(id, artist, ...), Song(id, artist, ...), Song(id, artist, ...), Song(id, artist, ...), Song(id, artist, ...), Song(id, artist, ...), Song(id, artist, ...), Song(id, artist, ...), Song(id, artist, ...), Song(id, artist, ...), Song(id, artist, ...), Song(id, artist, ...), Song(id, artist, ...), Song(id, artist, ...), Song(id, artist, ...), Song(id, artist, ...), Song(id, artist, ...), Song(id, artist, ...), Song(id, artist, ...), Song(id, artist, ...), Song(id, artist, ...), Song(id, artist, ...), Song(id, artist, ...), Song(id, artist, ...), Song(id, artist, ...), Song(id, artist, ...), Song(id, artist, ...), Song(id, artist, ...), Song(id, artist, ...), Song(id, artist, ...), Song(id, artist, ...), Song(id, artist, ...), Song(id, artist, ...), Song(id, artist, ...), Song(id, artist, ...), Song(id, artist, ...), Song(id, artist, ...), Song(id, artist, ...), Song(id, artist, ...), Song(id, artist, ...), Song(id, artist, ...), Song(id, artist, ...), Song(id, artist, ...), Song(id, artist, ...), Song(id, artist, ...), Song(id, artist, ...), Song(id, artist, ...), Song(id, artist, ...), Song(id, artist, ...), Song(id, artist, ...), Song(id, artist, ...), Song(id, artist, ...), Song(id, artist, ...), Song(id, artist, ...), Song(id, artist, ...), Song(id, artist, ...), Song(id, artist, ...), Song(id, artist, ...), Song(id, artist, ...), Song(id, artist, ...), Song(id, artist, ...), Song(id, artist, ...), Song(id, artist, ...), Song(id, artist, ...), Song(id, artist, ...), Song(id, artist, ...), Song(id, artist, ...), Song(id, artist, ...), Song(id, artist, ...), Song(id, artist, ...), Song(id, artist, ...)]\n"
     ]
    }
   ],
   "source": [
    "from lyricsgenius import Genius\n",
    "token = '02BnaBIRnqGhVSFhC2ZXAlL5LWl79xEtVhw9qJS4j1Nii8p9ZSO3JbcEwfQYZSry'\n",
    "\n",
    "\n",
    "genius = Genius(token)\n",
    "artist = genius.search_artist(\"Taylor Swift\", max_songs=100, sort=\"title\")\n",
    "print(artist.songs)"
   ]
  },
  {
   "cell_type": "code",
   "execution_count": 4,
   "metadata": {},
   "outputs": [
    {
     "name": "stdout",
     "output_type": "stream",
     "text": [
      "Searching for songs by Taylor Swift...\n",
      "\n",
      "Song 1: \"All Too Well (10 Minute Version) (Taylor’s Version) [From the Vault]\"\n",
      "Song 2: \"All Too Well (10 Minute Version) (Taylor’s Version) [Live Acoustic]\"\n",
      "Song 3: \"​cardigan\"\n",
      "Song 4: \"​exile\"\n",
      "Song 5: \"Lover\"\n",
      "Song 6: \"​the 1\"\n",
      "Song 7: \"​august\"\n",
      "Song 8: \"Look What You Made Me Do\"\n",
      "Song 9: \"​betty\"\n",
      "Song 10: \"​champagne problems\"\n",
      "Song 11: \"End Game\"\n"
     ]
    },
    {
     "ename": "Timeout",
     "evalue": "Request timed out:\nHTTPSConnectionPool(host='genius.com', port=443): Read timed out. (read timeout=5)",
     "output_type": "error",
     "traceback": [
      "\u001b[0;31m---------------------------------------------------------------------------\u001b[0m",
      "\u001b[0;31mtimeout\u001b[0m                                   Traceback (most recent call last)",
      "File \u001b[0;32m/usr/lib/python3/dist-packages/urllib3/connectionpool.py:421\u001b[0m, in \u001b[0;36mHTTPConnectionPool._make_request\u001b[0;34m(self, conn, method, url, timeout, chunked, **httplib_request_kw)\u001b[0m\n\u001b[1;32m    417\u001b[0m         \u001b[39mexcept\u001b[39;00m \u001b[39mBaseException\u001b[39;00m \u001b[39mas\u001b[39;00m e:\n\u001b[1;32m    418\u001b[0m             \u001b[39m# Remove the TypeError from the exception chain in\u001b[39;00m\n\u001b[1;32m    419\u001b[0m             \u001b[39m# Python 3 (including for exceptions like SystemExit).\u001b[39;00m\n\u001b[1;32m    420\u001b[0m             \u001b[39m# Otherwise it looks like a bug in the code.\u001b[39;00m\n\u001b[0;32m--> 421\u001b[0m             six\u001b[39m.\u001b[39;49mraise_from(e, \u001b[39mNone\u001b[39;49;00m)\n\u001b[1;32m    422\u001b[0m \u001b[39mexcept\u001b[39;00m (SocketTimeout, BaseSSLError, SocketError) \u001b[39mas\u001b[39;00m e:\n",
      "File \u001b[0;32m<string>:3\u001b[0m, in \u001b[0;36mraise_from\u001b[0;34m(value, from_value)\u001b[0m\n",
      "File \u001b[0;32m/usr/lib/python3/dist-packages/urllib3/connectionpool.py:416\u001b[0m, in \u001b[0;36mHTTPConnectionPool._make_request\u001b[0;34m(self, conn, method, url, timeout, chunked, **httplib_request_kw)\u001b[0m\n\u001b[1;32m    415\u001b[0m \u001b[39mtry\u001b[39;00m:\n\u001b[0;32m--> 416\u001b[0m     httplib_response \u001b[39m=\u001b[39m conn\u001b[39m.\u001b[39;49mgetresponse()\n\u001b[1;32m    417\u001b[0m \u001b[39mexcept\u001b[39;00m \u001b[39mBaseException\u001b[39;00m \u001b[39mas\u001b[39;00m e:\n\u001b[1;32m    418\u001b[0m     \u001b[39m# Remove the TypeError from the exception chain in\u001b[39;00m\n\u001b[1;32m    419\u001b[0m     \u001b[39m# Python 3 (including for exceptions like SystemExit).\u001b[39;00m\n\u001b[1;32m    420\u001b[0m     \u001b[39m# Otherwise it looks like a bug in the code.\u001b[39;00m\n",
      "File \u001b[0;32m/usr/lib/python3.8/http/client.py:1348\u001b[0m, in \u001b[0;36mHTTPConnection.getresponse\u001b[0;34m(self)\u001b[0m\n\u001b[1;32m   1347\u001b[0m \u001b[39mtry\u001b[39;00m:\n\u001b[0;32m-> 1348\u001b[0m     response\u001b[39m.\u001b[39;49mbegin()\n\u001b[1;32m   1349\u001b[0m \u001b[39mexcept\u001b[39;00m \u001b[39mConnectionError\u001b[39;00m:\n",
      "File \u001b[0;32m/usr/lib/python3.8/http/client.py:316\u001b[0m, in \u001b[0;36mHTTPResponse.begin\u001b[0;34m(self)\u001b[0m\n\u001b[1;32m    315\u001b[0m \u001b[39mwhile\u001b[39;00m \u001b[39mTrue\u001b[39;00m:\n\u001b[0;32m--> 316\u001b[0m     version, status, reason \u001b[39m=\u001b[39m \u001b[39mself\u001b[39;49m\u001b[39m.\u001b[39;49m_read_status()\n\u001b[1;32m    317\u001b[0m     \u001b[39mif\u001b[39;00m status \u001b[39m!=\u001b[39m CONTINUE:\n",
      "File \u001b[0;32m/usr/lib/python3.8/http/client.py:277\u001b[0m, in \u001b[0;36mHTTPResponse._read_status\u001b[0;34m(self)\u001b[0m\n\u001b[1;32m    276\u001b[0m \u001b[39mdef\u001b[39;00m \u001b[39m_read_status\u001b[39m(\u001b[39mself\u001b[39m):\n\u001b[0;32m--> 277\u001b[0m     line \u001b[39m=\u001b[39m \u001b[39mstr\u001b[39m(\u001b[39mself\u001b[39;49m\u001b[39m.\u001b[39;49mfp\u001b[39m.\u001b[39;49mreadline(_MAXLINE \u001b[39m+\u001b[39;49m \u001b[39m1\u001b[39;49m), \u001b[39m\"\u001b[39m\u001b[39miso-8859-1\u001b[39m\u001b[39m\"\u001b[39m)\n\u001b[1;32m    278\u001b[0m     \u001b[39mif\u001b[39;00m \u001b[39mlen\u001b[39m(line) \u001b[39m>\u001b[39m _MAXLINE:\n",
      "File \u001b[0;32m/usr/lib/python3.8/socket.py:669\u001b[0m, in \u001b[0;36mSocketIO.readinto\u001b[0;34m(self, b)\u001b[0m\n\u001b[1;32m    668\u001b[0m \u001b[39mtry\u001b[39;00m:\n\u001b[0;32m--> 669\u001b[0m     \u001b[39mreturn\u001b[39;00m \u001b[39mself\u001b[39;49m\u001b[39m.\u001b[39;49m_sock\u001b[39m.\u001b[39;49mrecv_into(b)\n\u001b[1;32m    670\u001b[0m \u001b[39mexcept\u001b[39;00m timeout:\n",
      "File \u001b[0;32m/usr/lib/python3.8/ssl.py:1241\u001b[0m, in \u001b[0;36mSSLSocket.recv_into\u001b[0;34m(self, buffer, nbytes, flags)\u001b[0m\n\u001b[1;32m   1238\u001b[0m         \u001b[39mraise\u001b[39;00m \u001b[39mValueError\u001b[39;00m(\n\u001b[1;32m   1239\u001b[0m           \u001b[39m\"\u001b[39m\u001b[39mnon-zero flags not allowed in calls to recv_into() on \u001b[39m\u001b[39m%s\u001b[39;00m\u001b[39m\"\u001b[39m \u001b[39m%\u001b[39m\n\u001b[1;32m   1240\u001b[0m           \u001b[39mself\u001b[39m\u001b[39m.\u001b[39m\u001b[39m__class__\u001b[39m)\n\u001b[0;32m-> 1241\u001b[0m     \u001b[39mreturn\u001b[39;00m \u001b[39mself\u001b[39;49m\u001b[39m.\u001b[39;49mread(nbytes, buffer)\n\u001b[1;32m   1242\u001b[0m \u001b[39melse\u001b[39;00m:\n",
      "File \u001b[0;32m/usr/lib/python3.8/ssl.py:1099\u001b[0m, in \u001b[0;36mSSLSocket.read\u001b[0;34m(self, len, buffer)\u001b[0m\n\u001b[1;32m   1098\u001b[0m \u001b[39mif\u001b[39;00m buffer \u001b[39mis\u001b[39;00m \u001b[39mnot\u001b[39;00m \u001b[39mNone\u001b[39;00m:\n\u001b[0;32m-> 1099\u001b[0m     \u001b[39mreturn\u001b[39;00m \u001b[39mself\u001b[39;49m\u001b[39m.\u001b[39;49m_sslobj\u001b[39m.\u001b[39;49mread(\u001b[39mlen\u001b[39;49m, buffer)\n\u001b[1;32m   1100\u001b[0m \u001b[39melse\u001b[39;00m:\n",
      "\u001b[0;31mtimeout\u001b[0m: The read operation timed out",
      "\nDuring handling of the above exception, another exception occurred:\n",
      "\u001b[0;31mReadTimeoutError\u001b[0m                          Traceback (most recent call last)",
      "File \u001b[0;32m/usr/lib/python3/dist-packages/requests/adapters.py:439\u001b[0m, in \u001b[0;36mHTTPAdapter.send\u001b[0;34m(self, request, stream, timeout, verify, cert, proxies)\u001b[0m\n\u001b[1;32m    438\u001b[0m \u001b[39mif\u001b[39;00m \u001b[39mnot\u001b[39;00m chunked:\n\u001b[0;32m--> 439\u001b[0m     resp \u001b[39m=\u001b[39m conn\u001b[39m.\u001b[39;49murlopen(\n\u001b[1;32m    440\u001b[0m         method\u001b[39m=\u001b[39;49mrequest\u001b[39m.\u001b[39;49mmethod,\n\u001b[1;32m    441\u001b[0m         url\u001b[39m=\u001b[39;49murl,\n\u001b[1;32m    442\u001b[0m         body\u001b[39m=\u001b[39;49mrequest\u001b[39m.\u001b[39;49mbody,\n\u001b[1;32m    443\u001b[0m         headers\u001b[39m=\u001b[39;49mrequest\u001b[39m.\u001b[39;49mheaders,\n\u001b[1;32m    444\u001b[0m         redirect\u001b[39m=\u001b[39;49m\u001b[39mFalse\u001b[39;49;00m,\n\u001b[1;32m    445\u001b[0m         assert_same_host\u001b[39m=\u001b[39;49m\u001b[39mFalse\u001b[39;49;00m,\n\u001b[1;32m    446\u001b[0m         preload_content\u001b[39m=\u001b[39;49m\u001b[39mFalse\u001b[39;49;00m,\n\u001b[1;32m    447\u001b[0m         decode_content\u001b[39m=\u001b[39;49m\u001b[39mFalse\u001b[39;49;00m,\n\u001b[1;32m    448\u001b[0m         retries\u001b[39m=\u001b[39;49m\u001b[39mself\u001b[39;49m\u001b[39m.\u001b[39;49mmax_retries,\n\u001b[1;32m    449\u001b[0m         timeout\u001b[39m=\u001b[39;49mtimeout\n\u001b[1;32m    450\u001b[0m     )\n\u001b[1;32m    452\u001b[0m \u001b[39m# Send the request.\u001b[39;00m\n\u001b[1;32m    453\u001b[0m \u001b[39melse\u001b[39;00m:\n",
      "File \u001b[0;32m/usr/lib/python3/dist-packages/urllib3/connectionpool.py:719\u001b[0m, in \u001b[0;36mHTTPConnectionPool.urlopen\u001b[0;34m(self, method, url, body, headers, retries, redirect, assert_same_host, timeout, pool_timeout, release_conn, chunked, body_pos, **response_kw)\u001b[0m\n\u001b[1;32m    717\u001b[0m     e \u001b[39m=\u001b[39m ProtocolError(\u001b[39m\"\u001b[39m\u001b[39mConnection aborted.\u001b[39m\u001b[39m\"\u001b[39m, e)\n\u001b[0;32m--> 719\u001b[0m retries \u001b[39m=\u001b[39m retries\u001b[39m.\u001b[39;49mincrement(\n\u001b[1;32m    720\u001b[0m     method, url, error\u001b[39m=\u001b[39;49me, _pool\u001b[39m=\u001b[39;49m\u001b[39mself\u001b[39;49m, _stacktrace\u001b[39m=\u001b[39;49msys\u001b[39m.\u001b[39;49mexc_info()[\u001b[39m2\u001b[39;49m]\n\u001b[1;32m    721\u001b[0m )\n\u001b[1;32m    722\u001b[0m retries\u001b[39m.\u001b[39msleep()\n",
      "File \u001b[0;32m/usr/lib/python3/dist-packages/urllib3/util/retry.py:400\u001b[0m, in \u001b[0;36mRetry.increment\u001b[0;34m(self, method, url, response, error, _pool, _stacktrace)\u001b[0m\n\u001b[1;32m    399\u001b[0m \u001b[39mif\u001b[39;00m read \u001b[39mis\u001b[39;00m \u001b[39mFalse\u001b[39;00m \u001b[39mor\u001b[39;00m \u001b[39mnot\u001b[39;00m \u001b[39mself\u001b[39m\u001b[39m.\u001b[39m_is_method_retryable(method):\n\u001b[0;32m--> 400\u001b[0m     \u001b[39mraise\u001b[39;00m six\u001b[39m.\u001b[39;49mreraise(\u001b[39mtype\u001b[39;49m(error), error, _stacktrace)\n\u001b[1;32m    401\u001b[0m \u001b[39melif\u001b[39;00m read \u001b[39mis\u001b[39;00m \u001b[39mnot\u001b[39;00m \u001b[39mNone\u001b[39;00m:\n",
      "File \u001b[0;32m/usr/lib/python3/dist-packages/six.py:703\u001b[0m, in \u001b[0;36mreraise\u001b[0;34m(tp, value, tb)\u001b[0m\n\u001b[1;32m    702\u001b[0m         \u001b[39mraise\u001b[39;00m value\u001b[39m.\u001b[39mwith_traceback(tb)\n\u001b[0;32m--> 703\u001b[0m     \u001b[39mraise\u001b[39;00m value\n\u001b[1;32m    704\u001b[0m \u001b[39mfinally\u001b[39;00m:\n",
      "File \u001b[0;32m/usr/lib/python3/dist-packages/urllib3/connectionpool.py:665\u001b[0m, in \u001b[0;36mHTTPConnectionPool.urlopen\u001b[0;34m(self, method, url, body, headers, retries, redirect, assert_same_host, timeout, pool_timeout, release_conn, chunked, body_pos, **response_kw)\u001b[0m\n\u001b[1;32m    664\u001b[0m \u001b[39m# Make the request on the httplib connection object.\u001b[39;00m\n\u001b[0;32m--> 665\u001b[0m httplib_response \u001b[39m=\u001b[39m \u001b[39mself\u001b[39;49m\u001b[39m.\u001b[39;49m_make_request(\n\u001b[1;32m    666\u001b[0m     conn,\n\u001b[1;32m    667\u001b[0m     method,\n\u001b[1;32m    668\u001b[0m     url,\n\u001b[1;32m    669\u001b[0m     timeout\u001b[39m=\u001b[39;49mtimeout_obj,\n\u001b[1;32m    670\u001b[0m     body\u001b[39m=\u001b[39;49mbody,\n\u001b[1;32m    671\u001b[0m     headers\u001b[39m=\u001b[39;49mheaders,\n\u001b[1;32m    672\u001b[0m     chunked\u001b[39m=\u001b[39;49mchunked,\n\u001b[1;32m    673\u001b[0m )\n\u001b[1;32m    675\u001b[0m \u001b[39m# If we're going to release the connection in ``finally:``, then\u001b[39;00m\n\u001b[1;32m    676\u001b[0m \u001b[39m# the response doesn't need to know about the connection. Otherwise\u001b[39;00m\n\u001b[1;32m    677\u001b[0m \u001b[39m# it will also try to release it and we'll have a double-release\u001b[39;00m\n\u001b[1;32m    678\u001b[0m \u001b[39m# mess.\u001b[39;00m\n",
      "File \u001b[0;32m/usr/lib/python3/dist-packages/urllib3/connectionpool.py:423\u001b[0m, in \u001b[0;36mHTTPConnectionPool._make_request\u001b[0;34m(self, conn, method, url, timeout, chunked, **httplib_request_kw)\u001b[0m\n\u001b[1;32m    422\u001b[0m \u001b[39mexcept\u001b[39;00m (SocketTimeout, BaseSSLError, SocketError) \u001b[39mas\u001b[39;00m e:\n\u001b[0;32m--> 423\u001b[0m     \u001b[39mself\u001b[39;49m\u001b[39m.\u001b[39;49m_raise_timeout(err\u001b[39m=\u001b[39;49me, url\u001b[39m=\u001b[39;49murl, timeout_value\u001b[39m=\u001b[39;49mread_timeout)\n\u001b[1;32m    424\u001b[0m     \u001b[39mraise\u001b[39;00m\n",
      "File \u001b[0;32m/usr/lib/python3/dist-packages/urllib3/connectionpool.py:330\u001b[0m, in \u001b[0;36mHTTPConnectionPool._raise_timeout\u001b[0;34m(self, err, url, timeout_value)\u001b[0m\n\u001b[1;32m    329\u001b[0m \u001b[39mif\u001b[39;00m \u001b[39misinstance\u001b[39m(err, SocketTimeout):\n\u001b[0;32m--> 330\u001b[0m     \u001b[39mraise\u001b[39;00m ReadTimeoutError(\n\u001b[1;32m    331\u001b[0m         \u001b[39mself\u001b[39m, url, \u001b[39m\"\u001b[39m\u001b[39mRead timed out. (read timeout=\u001b[39m\u001b[39m%s\u001b[39;00m\u001b[39m)\u001b[39m\u001b[39m\"\u001b[39m \u001b[39m%\u001b[39m timeout_value\n\u001b[1;32m    332\u001b[0m     )\n\u001b[1;32m    334\u001b[0m \u001b[39m# See the above comment about EAGAIN in Python 3. In Python 2 we have\u001b[39;00m\n\u001b[1;32m    335\u001b[0m \u001b[39m# to specifically catch it and throw the timeout error\u001b[39;00m\n",
      "\u001b[0;31mReadTimeoutError\u001b[0m: HTTPSConnectionPool(host='genius.com', port=443): Read timed out. (read timeout=5)",
      "\nDuring handling of the above exception, another exception occurred:\n",
      "\u001b[0;31mReadTimeout\u001b[0m                               Traceback (most recent call last)",
      "File \u001b[0;32m~/.local/lib/python3.8/site-packages/lyricsgenius/api/base.py:75\u001b[0m, in \u001b[0;36mSender._make_request\u001b[0;34m(self, path, method, params_, public_api, web, **kwargs)\u001b[0m\n\u001b[1;32m     74\u001b[0m \u001b[39mtry\u001b[39;00m:\n\u001b[0;32m---> 75\u001b[0m     response \u001b[39m=\u001b[39m \u001b[39mself\u001b[39;49m\u001b[39m.\u001b[39;49m_session\u001b[39m.\u001b[39;49mrequest(method, uri,\n\u001b[1;32m     76\u001b[0m                                      timeout\u001b[39m=\u001b[39;49m\u001b[39mself\u001b[39;49m\u001b[39m.\u001b[39;49mtimeout,\n\u001b[1;32m     77\u001b[0m                                      params\u001b[39m=\u001b[39;49mparams_,\n\u001b[1;32m     78\u001b[0m                                      headers\u001b[39m=\u001b[39;49mheader,\n\u001b[1;32m     79\u001b[0m                                      \u001b[39m*\u001b[39;49m\u001b[39m*\u001b[39;49mkwargs)\n\u001b[1;32m     80\u001b[0m     response\u001b[39m.\u001b[39mraise_for_status()\n",
      "File \u001b[0;32m/usr/lib/python3/dist-packages/requests/sessions.py:533\u001b[0m, in \u001b[0;36mSession.request\u001b[0;34m(self, method, url, params, data, headers, cookies, files, auth, timeout, allow_redirects, proxies, hooks, stream, verify, cert, json)\u001b[0m\n\u001b[1;32m    532\u001b[0m send_kwargs\u001b[39m.\u001b[39mupdate(settings)\n\u001b[0;32m--> 533\u001b[0m resp \u001b[39m=\u001b[39m \u001b[39mself\u001b[39;49m\u001b[39m.\u001b[39;49msend(prep, \u001b[39m*\u001b[39;49m\u001b[39m*\u001b[39;49msend_kwargs)\n\u001b[1;32m    535\u001b[0m \u001b[39mreturn\u001b[39;00m resp\n",
      "File \u001b[0;32m/usr/lib/python3/dist-packages/requests/sessions.py:646\u001b[0m, in \u001b[0;36mSession.send\u001b[0;34m(self, request, **kwargs)\u001b[0m\n\u001b[1;32m    645\u001b[0m \u001b[39m# Send the request\u001b[39;00m\n\u001b[0;32m--> 646\u001b[0m r \u001b[39m=\u001b[39m adapter\u001b[39m.\u001b[39;49msend(request, \u001b[39m*\u001b[39;49m\u001b[39m*\u001b[39;49mkwargs)\n\u001b[1;32m    648\u001b[0m \u001b[39m# Total elapsed time of the request (approximately)\u001b[39;00m\n",
      "File \u001b[0;32m/usr/lib/python3/dist-packages/requests/adapters.py:529\u001b[0m, in \u001b[0;36mHTTPAdapter.send\u001b[0;34m(self, request, stream, timeout, verify, cert, proxies)\u001b[0m\n\u001b[1;32m    528\u001b[0m \u001b[39melif\u001b[39;00m \u001b[39misinstance\u001b[39m(e, ReadTimeoutError):\n\u001b[0;32m--> 529\u001b[0m     \u001b[39mraise\u001b[39;00m ReadTimeout(e, request\u001b[39m=\u001b[39mrequest)\n\u001b[1;32m    530\u001b[0m \u001b[39melse\u001b[39;00m:\n",
      "\u001b[0;31mReadTimeout\u001b[0m: HTTPSConnectionPool(host='genius.com', port=443): Read timed out. (read timeout=5)",
      "\nDuring handling of the above exception, another exception occurred:\n",
      "\u001b[0;31mTimeout\u001b[0m                                   Traceback (most recent call last)",
      "\u001b[1;32m/home/denjo/Glasgow2/test.ipynb Cell 2\u001b[0m in \u001b[0;36m<cell line: 1>\u001b[0;34m()\u001b[0m\n\u001b[0;32m----> <a href='vscode-notebook-cell:/home/denjo/Glasgow2/test.ipynb#W1sZmlsZQ%3D%3D?line=0'>1</a>\u001b[0m artist \u001b[39m=\u001b[39m genius\u001b[39m.\u001b[39;49msearch_artist(\u001b[39m\"\u001b[39;49m\u001b[39mTaylor Swift\u001b[39;49m\u001b[39m\"\u001b[39;49m)\n\u001b[1;32m      <a href='vscode-notebook-cell:/home/denjo/Glasgow2/test.ipynb#W1sZmlsZQ%3D%3D?line=1'>2</a>\u001b[0m song \u001b[39m=\u001b[39m genius\u001b[39m.\u001b[39msearch_song(\u001b[39m\"\u001b[39m\u001b[39m22\u001b[39m\u001b[39m\"\u001b[39m,artist\u001b[39m.\u001b[39mname)\n\u001b[1;32m      <a href='vscode-notebook-cell:/home/denjo/Glasgow2/test.ipynb#W1sZmlsZQ%3D%3D?line=2'>3</a>\u001b[0m song\u001b[39m.\u001b[39mlyrics\n",
      "File \u001b[0;32m~/.local/lib/python3.8/site-packages/lyricsgenius/genius.py:564\u001b[0m, in \u001b[0;36mGenius.search_artist\u001b[0;34m(self, artist_name, max_songs, sort, per_page, get_full_info, allow_name_change, artist_id, include_features)\u001b[0m\n\u001b[1;32m    562\u001b[0m \u001b[39m# Create the Song object from lyrics and metadata\u001b[39;00m\n\u001b[1;32m    563\u001b[0m \u001b[39mif\u001b[39;00m song_info[\u001b[39m'\u001b[39m\u001b[39mlyrics_state\u001b[39m\u001b[39m'\u001b[39m] \u001b[39m==\u001b[39m \u001b[39m'\u001b[39m\u001b[39mcomplete\u001b[39m\u001b[39m'\u001b[39m:\n\u001b[0;32m--> 564\u001b[0m     lyrics \u001b[39m=\u001b[39m \u001b[39mself\u001b[39;49m\u001b[39m.\u001b[39;49mlyrics(song_url\u001b[39m=\u001b[39;49msong_info[\u001b[39m'\u001b[39;49m\u001b[39murl\u001b[39;49m\u001b[39m'\u001b[39;49m])\n\u001b[1;32m    565\u001b[0m \u001b[39melse\u001b[39;00m:\n\u001b[1;32m    566\u001b[0m     lyrics \u001b[39m=\u001b[39m \u001b[39m\"\u001b[39m\u001b[39m\"\u001b[39m\n",
      "File \u001b[0;32m~/.local/lib/python3.8/site-packages/lyricsgenius/genius.py:132\u001b[0m, in \u001b[0;36mGenius.lyrics\u001b[0;34m(self, song_id, song_url, remove_section_headers)\u001b[0m\n\u001b[1;32m    128\u001b[0m     path \u001b[39m=\u001b[39m \u001b[39mself\u001b[39m\u001b[39m.\u001b[39msong(song_id)[\u001b[39m'\u001b[39m\u001b[39msong\u001b[39m\u001b[39m'\u001b[39m][\u001b[39m'\u001b[39m\u001b[39mpath\u001b[39m\u001b[39m'\u001b[39m][\u001b[39m1\u001b[39m:]\n\u001b[1;32m    130\u001b[0m \u001b[39m# Scrape the song lyrics from the HTML\u001b[39;00m\n\u001b[1;32m    131\u001b[0m html \u001b[39m=\u001b[39m BeautifulSoup(\n\u001b[0;32m--> 132\u001b[0m     \u001b[39mself\u001b[39;49m\u001b[39m.\u001b[39;49m_make_request(path, web\u001b[39m=\u001b[39;49m\u001b[39mTrue\u001b[39;49;00m)\u001b[39m.\u001b[39mreplace(\u001b[39m'\u001b[39m\u001b[39m<br/>\u001b[39m\u001b[39m'\u001b[39m, \u001b[39m'\u001b[39m\u001b[39m\\n\u001b[39;00m\u001b[39m'\u001b[39m),\n\u001b[1;32m    133\u001b[0m     \u001b[39m\"\u001b[39m\u001b[39mhtml.parser\u001b[39m\u001b[39m\"\u001b[39m\n\u001b[1;32m    134\u001b[0m )\n\u001b[1;32m    136\u001b[0m \u001b[39m# Determine the class of the div\u001b[39;00m\n\u001b[1;32m    137\u001b[0m div \u001b[39m=\u001b[39m html\u001b[39m.\u001b[39mfind(\u001b[39m\"\u001b[39m\u001b[39mdiv\u001b[39m\u001b[39m\"\u001b[39m, class_\u001b[39m=\u001b[39mre\u001b[39m.\u001b[39mcompile(\u001b[39m\"\u001b[39m\u001b[39m^lyrics$|Lyrics__Root\u001b[39m\u001b[39m\"\u001b[39m))\n",
      "File \u001b[0;32m~/.local/lib/python3.8/site-packages/lyricsgenius/api/base.py:84\u001b[0m, in \u001b[0;36mSender._make_request\u001b[0;34m(self, path, method, params_, public_api, web, **kwargs)\u001b[0m\n\u001b[1;32m     82\u001b[0m     error \u001b[39m=\u001b[39m \u001b[39m\"\u001b[39m\u001b[39mRequest timed out:\u001b[39m\u001b[39m\\n\u001b[39;00m\u001b[39m{e}\u001b[39;00m\u001b[39m\"\u001b[39m\u001b[39m.\u001b[39mformat(e\u001b[39m=\u001b[39me)\n\u001b[1;32m     83\u001b[0m     \u001b[39mif\u001b[39;00m tries \u001b[39m>\u001b[39m \u001b[39mself\u001b[39m\u001b[39m.\u001b[39mretries:\n\u001b[0;32m---> 84\u001b[0m         \u001b[39mraise\u001b[39;00m Timeout(error)\n\u001b[1;32m     85\u001b[0m \u001b[39mexcept\u001b[39;00m HTTPError \u001b[39mas\u001b[39;00m e:\n\u001b[1;32m     86\u001b[0m     error \u001b[39m=\u001b[39m get_description(e)\n",
      "\u001b[0;31mTimeout\u001b[0m: Request timed out:\nHTTPSConnectionPool(host='genius.com', port=443): Read timed out. (read timeout=5)"
     ]
    }
   ],
   "source": [
    "artist = genius.search_artist(\"Taylor Swift\")\n",
    "song = genius.search_song(\"22\",artist.name)\n",
    "song.lyrics"
   ]
  },
  {
   "cell_type": "code",
   "execution_count": 10,
   "metadata": {},
   "outputs": [
    {
     "name": "stdout",
     "output_type": "stream",
     "text": [
      "Searching for songs by Michael Jackson...\n",
      "\n",
      "Song 1: \"Billie Jean\"\n",
      "Song 2: \"Smooth Criminal\"\n",
      "Song 3: \"Wanna Be Startin’ Somethin’\"\n",
      "Song 4: \"They Don’t Care About Us\"\n",
      "Song 5: \"Thriller\"\n",
      "Song 6: \"Human Nature\"\n"
     ]
    },
    {
     "ename": "Timeout",
     "evalue": "Request timed out:\nHTTPSConnectionPool(host='api.genius.com', port=443): Read timed out. (read timeout=5)",
     "output_type": "error",
     "traceback": [
      "\u001b[0;31m---------------------------------------------------------------------------\u001b[0m",
      "\u001b[0;31mtimeout\u001b[0m                                   Traceback (most recent call last)",
      "File \u001b[0;32m/usr/lib/python3/dist-packages/urllib3/connectionpool.py:421\u001b[0m, in \u001b[0;36mHTTPConnectionPool._make_request\u001b[0;34m(self, conn, method, url, timeout, chunked, **httplib_request_kw)\u001b[0m\n\u001b[1;32m    417\u001b[0m         \u001b[39mexcept\u001b[39;00m \u001b[39mBaseException\u001b[39;00m \u001b[39mas\u001b[39;00m e:\n\u001b[1;32m    418\u001b[0m             \u001b[39m# Remove the TypeError from the exception chain in\u001b[39;00m\n\u001b[1;32m    419\u001b[0m             \u001b[39m# Python 3 (including for exceptions like SystemExit).\u001b[39;00m\n\u001b[1;32m    420\u001b[0m             \u001b[39m# Otherwise it looks like a bug in the code.\u001b[39;00m\n\u001b[0;32m--> 421\u001b[0m             six\u001b[39m.\u001b[39;49mraise_from(e, \u001b[39mNone\u001b[39;49;00m)\n\u001b[1;32m    422\u001b[0m \u001b[39mexcept\u001b[39;00m (SocketTimeout, BaseSSLError, SocketError) \u001b[39mas\u001b[39;00m e:\n",
      "File \u001b[0;32m<string>:3\u001b[0m, in \u001b[0;36mraise_from\u001b[0;34m(value, from_value)\u001b[0m\n",
      "File \u001b[0;32m/usr/lib/python3/dist-packages/urllib3/connectionpool.py:416\u001b[0m, in \u001b[0;36mHTTPConnectionPool._make_request\u001b[0;34m(self, conn, method, url, timeout, chunked, **httplib_request_kw)\u001b[0m\n\u001b[1;32m    415\u001b[0m \u001b[39mtry\u001b[39;00m:\n\u001b[0;32m--> 416\u001b[0m     httplib_response \u001b[39m=\u001b[39m conn\u001b[39m.\u001b[39;49mgetresponse()\n\u001b[1;32m    417\u001b[0m \u001b[39mexcept\u001b[39;00m \u001b[39mBaseException\u001b[39;00m \u001b[39mas\u001b[39;00m e:\n\u001b[1;32m    418\u001b[0m     \u001b[39m# Remove the TypeError from the exception chain in\u001b[39;00m\n\u001b[1;32m    419\u001b[0m     \u001b[39m# Python 3 (including for exceptions like SystemExit).\u001b[39;00m\n\u001b[1;32m    420\u001b[0m     \u001b[39m# Otherwise it looks like a bug in the code.\u001b[39;00m\n",
      "File \u001b[0;32m/usr/lib/python3.8/http/client.py:1348\u001b[0m, in \u001b[0;36mHTTPConnection.getresponse\u001b[0;34m(self)\u001b[0m\n\u001b[1;32m   1347\u001b[0m \u001b[39mtry\u001b[39;00m:\n\u001b[0;32m-> 1348\u001b[0m     response\u001b[39m.\u001b[39;49mbegin()\n\u001b[1;32m   1349\u001b[0m \u001b[39mexcept\u001b[39;00m \u001b[39mConnectionError\u001b[39;00m:\n",
      "File \u001b[0;32m/usr/lib/python3.8/http/client.py:316\u001b[0m, in \u001b[0;36mHTTPResponse.begin\u001b[0;34m(self)\u001b[0m\n\u001b[1;32m    315\u001b[0m \u001b[39mwhile\u001b[39;00m \u001b[39mTrue\u001b[39;00m:\n\u001b[0;32m--> 316\u001b[0m     version, status, reason \u001b[39m=\u001b[39m \u001b[39mself\u001b[39;49m\u001b[39m.\u001b[39;49m_read_status()\n\u001b[1;32m    317\u001b[0m     \u001b[39mif\u001b[39;00m status \u001b[39m!=\u001b[39m CONTINUE:\n",
      "File \u001b[0;32m/usr/lib/python3.8/http/client.py:277\u001b[0m, in \u001b[0;36mHTTPResponse._read_status\u001b[0;34m(self)\u001b[0m\n\u001b[1;32m    276\u001b[0m \u001b[39mdef\u001b[39;00m \u001b[39m_read_status\u001b[39m(\u001b[39mself\u001b[39m):\n\u001b[0;32m--> 277\u001b[0m     line \u001b[39m=\u001b[39m \u001b[39mstr\u001b[39m(\u001b[39mself\u001b[39;49m\u001b[39m.\u001b[39;49mfp\u001b[39m.\u001b[39;49mreadline(_MAXLINE \u001b[39m+\u001b[39;49m \u001b[39m1\u001b[39;49m), \u001b[39m\"\u001b[39m\u001b[39miso-8859-1\u001b[39m\u001b[39m\"\u001b[39m)\n\u001b[1;32m    278\u001b[0m     \u001b[39mif\u001b[39;00m \u001b[39mlen\u001b[39m(line) \u001b[39m>\u001b[39m _MAXLINE:\n",
      "File \u001b[0;32m/usr/lib/python3.8/socket.py:669\u001b[0m, in \u001b[0;36mSocketIO.readinto\u001b[0;34m(self, b)\u001b[0m\n\u001b[1;32m    668\u001b[0m \u001b[39mtry\u001b[39;00m:\n\u001b[0;32m--> 669\u001b[0m     \u001b[39mreturn\u001b[39;00m \u001b[39mself\u001b[39;49m\u001b[39m.\u001b[39;49m_sock\u001b[39m.\u001b[39;49mrecv_into(b)\n\u001b[1;32m    670\u001b[0m \u001b[39mexcept\u001b[39;00m timeout:\n",
      "File \u001b[0;32m/usr/lib/python3.8/ssl.py:1241\u001b[0m, in \u001b[0;36mSSLSocket.recv_into\u001b[0;34m(self, buffer, nbytes, flags)\u001b[0m\n\u001b[1;32m   1238\u001b[0m         \u001b[39mraise\u001b[39;00m \u001b[39mValueError\u001b[39;00m(\n\u001b[1;32m   1239\u001b[0m           \u001b[39m\"\u001b[39m\u001b[39mnon-zero flags not allowed in calls to recv_into() on \u001b[39m\u001b[39m%s\u001b[39;00m\u001b[39m\"\u001b[39m \u001b[39m%\u001b[39m\n\u001b[1;32m   1240\u001b[0m           \u001b[39mself\u001b[39m\u001b[39m.\u001b[39m\u001b[39m__class__\u001b[39m)\n\u001b[0;32m-> 1241\u001b[0m     \u001b[39mreturn\u001b[39;00m \u001b[39mself\u001b[39;49m\u001b[39m.\u001b[39;49mread(nbytes, buffer)\n\u001b[1;32m   1242\u001b[0m \u001b[39melse\u001b[39;00m:\n",
      "File \u001b[0;32m/usr/lib/python3.8/ssl.py:1099\u001b[0m, in \u001b[0;36mSSLSocket.read\u001b[0;34m(self, len, buffer)\u001b[0m\n\u001b[1;32m   1098\u001b[0m \u001b[39mif\u001b[39;00m buffer \u001b[39mis\u001b[39;00m \u001b[39mnot\u001b[39;00m \u001b[39mNone\u001b[39;00m:\n\u001b[0;32m-> 1099\u001b[0m     \u001b[39mreturn\u001b[39;00m \u001b[39mself\u001b[39;49m\u001b[39m.\u001b[39;49m_sslobj\u001b[39m.\u001b[39;49mread(\u001b[39mlen\u001b[39;49m, buffer)\n\u001b[1;32m   1100\u001b[0m \u001b[39melse\u001b[39;00m:\n",
      "\u001b[0;31mtimeout\u001b[0m: The read operation timed out",
      "\nDuring handling of the above exception, another exception occurred:\n",
      "\u001b[0;31mReadTimeoutError\u001b[0m                          Traceback (most recent call last)",
      "File \u001b[0;32m/usr/lib/python3/dist-packages/requests/adapters.py:439\u001b[0m, in \u001b[0;36mHTTPAdapter.send\u001b[0;34m(self, request, stream, timeout, verify, cert, proxies)\u001b[0m\n\u001b[1;32m    438\u001b[0m \u001b[39mif\u001b[39;00m \u001b[39mnot\u001b[39;00m chunked:\n\u001b[0;32m--> 439\u001b[0m     resp \u001b[39m=\u001b[39m conn\u001b[39m.\u001b[39;49murlopen(\n\u001b[1;32m    440\u001b[0m         method\u001b[39m=\u001b[39;49mrequest\u001b[39m.\u001b[39;49mmethod,\n\u001b[1;32m    441\u001b[0m         url\u001b[39m=\u001b[39;49murl,\n\u001b[1;32m    442\u001b[0m         body\u001b[39m=\u001b[39;49mrequest\u001b[39m.\u001b[39;49mbody,\n\u001b[1;32m    443\u001b[0m         headers\u001b[39m=\u001b[39;49mrequest\u001b[39m.\u001b[39;49mheaders,\n\u001b[1;32m    444\u001b[0m         redirect\u001b[39m=\u001b[39;49m\u001b[39mFalse\u001b[39;49;00m,\n\u001b[1;32m    445\u001b[0m         assert_same_host\u001b[39m=\u001b[39;49m\u001b[39mFalse\u001b[39;49;00m,\n\u001b[1;32m    446\u001b[0m         preload_content\u001b[39m=\u001b[39;49m\u001b[39mFalse\u001b[39;49;00m,\n\u001b[1;32m    447\u001b[0m         decode_content\u001b[39m=\u001b[39;49m\u001b[39mFalse\u001b[39;49;00m,\n\u001b[1;32m    448\u001b[0m         retries\u001b[39m=\u001b[39;49m\u001b[39mself\u001b[39;49m\u001b[39m.\u001b[39;49mmax_retries,\n\u001b[1;32m    449\u001b[0m         timeout\u001b[39m=\u001b[39;49mtimeout\n\u001b[1;32m    450\u001b[0m     )\n\u001b[1;32m    452\u001b[0m \u001b[39m# Send the request.\u001b[39;00m\n\u001b[1;32m    453\u001b[0m \u001b[39melse\u001b[39;00m:\n",
      "File \u001b[0;32m/usr/lib/python3/dist-packages/urllib3/connectionpool.py:719\u001b[0m, in \u001b[0;36mHTTPConnectionPool.urlopen\u001b[0;34m(self, method, url, body, headers, retries, redirect, assert_same_host, timeout, pool_timeout, release_conn, chunked, body_pos, **response_kw)\u001b[0m\n\u001b[1;32m    717\u001b[0m     e \u001b[39m=\u001b[39m ProtocolError(\u001b[39m\"\u001b[39m\u001b[39mConnection aborted.\u001b[39m\u001b[39m\"\u001b[39m, e)\n\u001b[0;32m--> 719\u001b[0m retries \u001b[39m=\u001b[39m retries\u001b[39m.\u001b[39;49mincrement(\n\u001b[1;32m    720\u001b[0m     method, url, error\u001b[39m=\u001b[39;49me, _pool\u001b[39m=\u001b[39;49m\u001b[39mself\u001b[39;49m, _stacktrace\u001b[39m=\u001b[39;49msys\u001b[39m.\u001b[39;49mexc_info()[\u001b[39m2\u001b[39;49m]\n\u001b[1;32m    721\u001b[0m )\n\u001b[1;32m    722\u001b[0m retries\u001b[39m.\u001b[39msleep()\n",
      "File \u001b[0;32m/usr/lib/python3/dist-packages/urllib3/util/retry.py:400\u001b[0m, in \u001b[0;36mRetry.increment\u001b[0;34m(self, method, url, response, error, _pool, _stacktrace)\u001b[0m\n\u001b[1;32m    399\u001b[0m \u001b[39mif\u001b[39;00m read \u001b[39mis\u001b[39;00m \u001b[39mFalse\u001b[39;00m \u001b[39mor\u001b[39;00m \u001b[39mnot\u001b[39;00m \u001b[39mself\u001b[39m\u001b[39m.\u001b[39m_is_method_retryable(method):\n\u001b[0;32m--> 400\u001b[0m     \u001b[39mraise\u001b[39;00m six\u001b[39m.\u001b[39;49mreraise(\u001b[39mtype\u001b[39;49m(error), error, _stacktrace)\n\u001b[1;32m    401\u001b[0m \u001b[39melif\u001b[39;00m read \u001b[39mis\u001b[39;00m \u001b[39mnot\u001b[39;00m \u001b[39mNone\u001b[39;00m:\n",
      "File \u001b[0;32m/usr/lib/python3/dist-packages/six.py:703\u001b[0m, in \u001b[0;36mreraise\u001b[0;34m(tp, value, tb)\u001b[0m\n\u001b[1;32m    702\u001b[0m         \u001b[39mraise\u001b[39;00m value\u001b[39m.\u001b[39mwith_traceback(tb)\n\u001b[0;32m--> 703\u001b[0m     \u001b[39mraise\u001b[39;00m value\n\u001b[1;32m    704\u001b[0m \u001b[39mfinally\u001b[39;00m:\n",
      "File \u001b[0;32m/usr/lib/python3/dist-packages/urllib3/connectionpool.py:665\u001b[0m, in \u001b[0;36mHTTPConnectionPool.urlopen\u001b[0;34m(self, method, url, body, headers, retries, redirect, assert_same_host, timeout, pool_timeout, release_conn, chunked, body_pos, **response_kw)\u001b[0m\n\u001b[1;32m    664\u001b[0m \u001b[39m# Make the request on the httplib connection object.\u001b[39;00m\n\u001b[0;32m--> 665\u001b[0m httplib_response \u001b[39m=\u001b[39m \u001b[39mself\u001b[39;49m\u001b[39m.\u001b[39;49m_make_request(\n\u001b[1;32m    666\u001b[0m     conn,\n\u001b[1;32m    667\u001b[0m     method,\n\u001b[1;32m    668\u001b[0m     url,\n\u001b[1;32m    669\u001b[0m     timeout\u001b[39m=\u001b[39;49mtimeout_obj,\n\u001b[1;32m    670\u001b[0m     body\u001b[39m=\u001b[39;49mbody,\n\u001b[1;32m    671\u001b[0m     headers\u001b[39m=\u001b[39;49mheaders,\n\u001b[1;32m    672\u001b[0m     chunked\u001b[39m=\u001b[39;49mchunked,\n\u001b[1;32m    673\u001b[0m )\n\u001b[1;32m    675\u001b[0m \u001b[39m# If we're going to release the connection in ``finally:``, then\u001b[39;00m\n\u001b[1;32m    676\u001b[0m \u001b[39m# the response doesn't need to know about the connection. Otherwise\u001b[39;00m\n\u001b[1;32m    677\u001b[0m \u001b[39m# it will also try to release it and we'll have a double-release\u001b[39;00m\n\u001b[1;32m    678\u001b[0m \u001b[39m# mess.\u001b[39;00m\n",
      "File \u001b[0;32m/usr/lib/python3/dist-packages/urllib3/connectionpool.py:423\u001b[0m, in \u001b[0;36mHTTPConnectionPool._make_request\u001b[0;34m(self, conn, method, url, timeout, chunked, **httplib_request_kw)\u001b[0m\n\u001b[1;32m    422\u001b[0m \u001b[39mexcept\u001b[39;00m (SocketTimeout, BaseSSLError, SocketError) \u001b[39mas\u001b[39;00m e:\n\u001b[0;32m--> 423\u001b[0m     \u001b[39mself\u001b[39;49m\u001b[39m.\u001b[39;49m_raise_timeout(err\u001b[39m=\u001b[39;49me, url\u001b[39m=\u001b[39;49murl, timeout_value\u001b[39m=\u001b[39;49mread_timeout)\n\u001b[1;32m    424\u001b[0m     \u001b[39mraise\u001b[39;00m\n",
      "File \u001b[0;32m/usr/lib/python3/dist-packages/urllib3/connectionpool.py:330\u001b[0m, in \u001b[0;36mHTTPConnectionPool._raise_timeout\u001b[0;34m(self, err, url, timeout_value)\u001b[0m\n\u001b[1;32m    329\u001b[0m \u001b[39mif\u001b[39;00m \u001b[39misinstance\u001b[39m(err, SocketTimeout):\n\u001b[0;32m--> 330\u001b[0m     \u001b[39mraise\u001b[39;00m ReadTimeoutError(\n\u001b[1;32m    331\u001b[0m         \u001b[39mself\u001b[39m, url, \u001b[39m\"\u001b[39m\u001b[39mRead timed out. (read timeout=\u001b[39m\u001b[39m%s\u001b[39;00m\u001b[39m)\u001b[39m\u001b[39m\"\u001b[39m \u001b[39m%\u001b[39m timeout_value\n\u001b[1;32m    332\u001b[0m     )\n\u001b[1;32m    334\u001b[0m \u001b[39m# See the above comment about EAGAIN in Python 3. In Python 2 we have\u001b[39;00m\n\u001b[1;32m    335\u001b[0m \u001b[39m# to specifically catch it and throw the timeout error\u001b[39;00m\n",
      "\u001b[0;31mReadTimeoutError\u001b[0m: HTTPSConnectionPool(host='api.genius.com', port=443): Read timed out. (read timeout=5)",
      "\nDuring handling of the above exception, another exception occurred:\n",
      "\u001b[0;31mReadTimeout\u001b[0m                               Traceback (most recent call last)",
      "File \u001b[0;32m~/.local/lib/python3.8/site-packages/lyricsgenius/api/base.py:75\u001b[0m, in \u001b[0;36mSender._make_request\u001b[0;34m(self, path, method, params_, public_api, web, **kwargs)\u001b[0m\n\u001b[1;32m     74\u001b[0m \u001b[39mtry\u001b[39;00m:\n\u001b[0;32m---> 75\u001b[0m     response \u001b[39m=\u001b[39m \u001b[39mself\u001b[39;49m\u001b[39m.\u001b[39;49m_session\u001b[39m.\u001b[39;49mrequest(method, uri,\n\u001b[1;32m     76\u001b[0m                                      timeout\u001b[39m=\u001b[39;49m\u001b[39mself\u001b[39;49m\u001b[39m.\u001b[39;49mtimeout,\n\u001b[1;32m     77\u001b[0m                                      params\u001b[39m=\u001b[39;49mparams_,\n\u001b[1;32m     78\u001b[0m                                      headers\u001b[39m=\u001b[39;49mheader,\n\u001b[1;32m     79\u001b[0m                                      \u001b[39m*\u001b[39;49m\u001b[39m*\u001b[39;49mkwargs)\n\u001b[1;32m     80\u001b[0m     response\u001b[39m.\u001b[39mraise_for_status()\n",
      "File \u001b[0;32m/usr/lib/python3/dist-packages/requests/sessions.py:533\u001b[0m, in \u001b[0;36mSession.request\u001b[0;34m(self, method, url, params, data, headers, cookies, files, auth, timeout, allow_redirects, proxies, hooks, stream, verify, cert, json)\u001b[0m\n\u001b[1;32m    532\u001b[0m send_kwargs\u001b[39m.\u001b[39mupdate(settings)\n\u001b[0;32m--> 533\u001b[0m resp \u001b[39m=\u001b[39m \u001b[39mself\u001b[39;49m\u001b[39m.\u001b[39;49msend(prep, \u001b[39m*\u001b[39;49m\u001b[39m*\u001b[39;49msend_kwargs)\n\u001b[1;32m    535\u001b[0m \u001b[39mreturn\u001b[39;00m resp\n",
      "File \u001b[0;32m/usr/lib/python3/dist-packages/requests/sessions.py:646\u001b[0m, in \u001b[0;36mSession.send\u001b[0;34m(self, request, **kwargs)\u001b[0m\n\u001b[1;32m    645\u001b[0m \u001b[39m# Send the request\u001b[39;00m\n\u001b[0;32m--> 646\u001b[0m r \u001b[39m=\u001b[39m adapter\u001b[39m.\u001b[39;49msend(request, \u001b[39m*\u001b[39;49m\u001b[39m*\u001b[39;49mkwargs)\n\u001b[1;32m    648\u001b[0m \u001b[39m# Total elapsed time of the request (approximately)\u001b[39;00m\n",
      "File \u001b[0;32m/usr/lib/python3/dist-packages/requests/adapters.py:529\u001b[0m, in \u001b[0;36mHTTPAdapter.send\u001b[0;34m(self, request, stream, timeout, verify, cert, proxies)\u001b[0m\n\u001b[1;32m    528\u001b[0m \u001b[39melif\u001b[39;00m \u001b[39misinstance\u001b[39m(e, ReadTimeoutError):\n\u001b[0;32m--> 529\u001b[0m     \u001b[39mraise\u001b[39;00m ReadTimeout(e, request\u001b[39m=\u001b[39mrequest)\n\u001b[1;32m    530\u001b[0m \u001b[39melse\u001b[39;00m:\n",
      "\u001b[0;31mReadTimeout\u001b[0m: HTTPSConnectionPool(host='api.genius.com', port=443): Read timed out. (read timeout=5)",
      "\nDuring handling of the above exception, another exception occurred:\n",
      "\u001b[0;31mTimeout\u001b[0m                                   Traceback (most recent call last)",
      "\u001b[1;32m/home/denjo/Glasgow2/test.ipynb Cell 3\u001b[0m in \u001b[0;36m<cell line: 8>\u001b[0;34m()\u001b[0m\n\u001b[1;32m      <a href='vscode-notebook-cell:/home/denjo/Glasgow2/test.ipynb#W2sZmlsZQ%3D%3D?line=4'>5</a>\u001b[0m token \u001b[39m=\u001b[39m \u001b[39m'\u001b[39m\u001b[39m02BnaBIRnqGhVSFhC2ZXAlL5LWl79xEtVhw9qJS4j1Nii8p9ZSO3JbcEwfQYZSry\u001b[39m\u001b[39m'\u001b[39m\n\u001b[1;32m      <a href='vscode-notebook-cell:/home/denjo/Glasgow2/test.ipynb#W2sZmlsZQ%3D%3D?line=6'>7</a>\u001b[0m genius \u001b[39m=\u001b[39m lyricsgenius\u001b[39m.\u001b[39mGenius(token)\n\u001b[0;32m----> <a href='vscode-notebook-cell:/home/denjo/Glasgow2/test.ipynb#W2sZmlsZQ%3D%3D?line=7'>8</a>\u001b[0m artist \u001b[39m=\u001b[39m genius\u001b[39m.\u001b[39;49msearch_artist(\u001b[39m\"\u001b[39;49m\u001b[39mMichael Jackson\u001b[39;49m\u001b[39m\"\u001b[39;49m, max_songs\u001b[39m=\u001b[39;49m\u001b[39m10\u001b[39;49m)\n\u001b[1;32m     <a href='vscode-notebook-cell:/home/denjo/Glasgow2/test.ipynb#W2sZmlsZQ%3D%3D?line=9'>10</a>\u001b[0m song \u001b[39m=\u001b[39m genius\u001b[39m.\u001b[39msearch_song(\u001b[39m\"\u001b[39m\u001b[39mBillie Jean\u001b[39m\u001b[39m\"\u001b[39m, artist\u001b[39m.\u001b[39mname)\n\u001b[1;32m     <a href='vscode-notebook-cell:/home/denjo/Glasgow2/test.ipynb#W2sZmlsZQ%3D%3D?line=10'>11</a>\u001b[0m \u001b[39mprint\u001b[39m(song\u001b[39m.\u001b[39mlyrics)\n",
      "File \u001b[0;32m~/.local/lib/python3.8/site-packages/lyricsgenius/genius.py:568\u001b[0m, in \u001b[0;36mGenius.search_artist\u001b[0;34m(self, artist_name, max_songs, sort, per_page, get_full_info, allow_name_change, artist_id, include_features)\u001b[0m\n\u001b[1;32m    566\u001b[0m     lyrics \u001b[39m=\u001b[39m \u001b[39m\"\u001b[39m\u001b[39m\"\u001b[39m\n\u001b[1;32m    567\u001b[0m \u001b[39mif\u001b[39;00m get_full_info:\n\u001b[0;32m--> 568\u001b[0m     new_info \u001b[39m=\u001b[39m \u001b[39mself\u001b[39;49m\u001b[39m.\u001b[39;49msong(song_info[\u001b[39m'\u001b[39;49m\u001b[39mid\u001b[39;49m\u001b[39m'\u001b[39;49m])[\u001b[39m'\u001b[39m\u001b[39msong\u001b[39m\u001b[39m'\u001b[39m]\n\u001b[1;32m    569\u001b[0m     song_info\u001b[39m.\u001b[39mupdate(new_info)\n\u001b[1;32m    570\u001b[0m song \u001b[39m=\u001b[39m Song(\u001b[39mself\u001b[39m, song_info, lyrics)\n",
      "File \u001b[0;32m~/.local/lib/python3.8/site-packages/lyricsgenius/api/api.py:437\u001b[0m, in \u001b[0;36mAPI.song\u001b[0;34m(self, song_id, text_format)\u001b[0m\n\u001b[1;32m    435\u001b[0m endpoint \u001b[39m=\u001b[39m \u001b[39m\"\u001b[39m\u001b[39msongs/\u001b[39m\u001b[39m{id}\u001b[39;00m\u001b[39m\"\u001b[39m\u001b[39m.\u001b[39mformat(\u001b[39mid\u001b[39m\u001b[39m=\u001b[39msong_id)\n\u001b[1;32m    436\u001b[0m params \u001b[39m=\u001b[39m {\u001b[39m'\u001b[39m\u001b[39mtext_format\u001b[39m\u001b[39m'\u001b[39m: text_format \u001b[39mor\u001b[39;00m \u001b[39mself\u001b[39m\u001b[39m.\u001b[39mresponse_format}\n\u001b[0;32m--> 437\u001b[0m \u001b[39mreturn\u001b[39;00m \u001b[39mself\u001b[39;49m\u001b[39m.\u001b[39;49m_make_request(endpoint, params_\u001b[39m=\u001b[39;49mparams)\n",
      "File \u001b[0;32m~/.local/lib/python3.8/site-packages/lyricsgenius/api/base.py:84\u001b[0m, in \u001b[0;36mSender._make_request\u001b[0;34m(self, path, method, params_, public_api, web, **kwargs)\u001b[0m\n\u001b[1;32m     82\u001b[0m     error \u001b[39m=\u001b[39m \u001b[39m\"\u001b[39m\u001b[39mRequest timed out:\u001b[39m\u001b[39m\\n\u001b[39;00m\u001b[39m{e}\u001b[39;00m\u001b[39m\"\u001b[39m\u001b[39m.\u001b[39mformat(e\u001b[39m=\u001b[39me)\n\u001b[1;32m     83\u001b[0m     \u001b[39mif\u001b[39;00m tries \u001b[39m>\u001b[39m \u001b[39mself\u001b[39m\u001b[39m.\u001b[39mretries:\n\u001b[0;32m---> 84\u001b[0m         \u001b[39mraise\u001b[39;00m Timeout(error)\n\u001b[1;32m     85\u001b[0m \u001b[39mexcept\u001b[39;00m HTTPError \u001b[39mas\u001b[39;00m e:\n\u001b[1;32m     86\u001b[0m     error \u001b[39m=\u001b[39m get_description(e)\n",
      "\u001b[0;31mTimeout\u001b[0m: Request timed out:\nHTTPSConnectionPool(host='api.genius.com', port=443): Read timed out. (read timeout=5)"
     ]
    }
   ],
   "source": [
    "import lyricsgenius\n",
    " \n",
    "#token = 'APIのトークン'\n",
    " \n",
    "token = '02BnaBIRnqGhVSFhC2ZXAlL5LWl79xEtVhw9qJS4j1Nii8p9ZSO3JbcEwfQYZSry'\n",
    "\n",
    "genius = lyricsgenius.Genius(token)\n",
    "artist = genius.search_artist(\"Michael Jackson\", max_songs=10)\n",
    " \n",
    "song = genius.search_song(\"Billie Jean\", artist.name)\n",
    "print(song.lyrics)"
   ]
  },
  {
   "cell_type": "code",
   "execution_count": 11,
   "metadata": {},
   "outputs": [
    {
     "data": {
      "text/plain": [
       "'3.0.1'"
      ]
     },
     "execution_count": 11,
     "metadata": {},
     "output_type": "execute_result"
    }
   ],
   "source": [
    "lyricsgenius.__version__"
   ]
  },
  {
   "cell_type": "code",
   "execution_count": 49,
   "metadata": {},
   "outputs": [
    {
     "name": "stdout",
     "output_type": "stream",
     "text": [
      "TranslationsEspañolPortuguêsAll You Had to Do Was Stay Lyrics[Intro]\n",
      "(Hey, hey, hey)\n",
      "(Hey, hey, hey)\n",
      "(Hey, hey, hey)\n",
      "(Hey, hey, hey)\n",
      "\n",
      "[Verse 1]\n",
      "People like you always want back\n",
      "The love they gave away\n",
      "And people like me wanna believe you\n",
      "When you say you've changed\n",
      "The more I think about it now\n",
      "The less I know\n",
      "All I know is that you drove us\n",
      "Off the road\n",
      "[Chorus]\n",
      "(Stay) Hey, all you had to do was stay\n",
      "Had me in the palm of your hand, then\n",
      "Why'd you have to go and lock me out when I let you in?\n",
      "(Stay) Hey, now you say you want it back\n",
      "Now that it's just too late\n",
      "Well, could've been easy\n",
      "All you had to do was (Stay)\n",
      "\n",
      "[Post-Chorus]\n",
      "All you had to do was (Stay)\n",
      "All you had to do was (Stay)\n",
      "All you had to do was (Stay)\n",
      "All you had to do was stay\n",
      "\n",
      "[Verse 2]\n",
      "Here you are now, calling me up\n",
      "But I don't know what to say\n",
      "I've been picking up the pieces\n",
      "Of the mess you made\n",
      "People like you always want back\n",
      "The love they pushed aside\n",
      "But people like me are gone forever\n",
      "When you say goodbye\n",
      "\n",
      "[Chorus]\n",
      "(Stay) Hey, all you had to do was stay\n",
      "Had me in the palm of your hand, then\n",
      "Why'd you have to go and lock me out when I let you in?\n",
      "(Stay) Hey, now you say you want it back\n",
      "Now that it's just too late\n",
      "Well, could've been easy\n",
      "All you had to do was (Stay)\n",
      "You might also like[Post-Chorus]\n",
      "All you had to do was (Stay)\n",
      "All you had to do was (Stay)\n",
      "All you had to do was (Stay, stay, stay, stay, stay)\n",
      "\n",
      "[Bridge]\n",
      "Let me remind you\n",
      "This was what you wanted (Oh, oh, oh-oh-oh)\n",
      "You ended it\n",
      "You were all I wanted (Oh, oh, oh-oh-oh)\n",
      "But not like this\n",
      "Not like this\n",
      "Not like this\n",
      "Oh, all you had to do was...\n",
      "\n",
      "[Chorus]\n",
      "(Stay) Hey, all you had to do was stay\n",
      "Had me in the palm of your hand, then\n",
      "Why'd you want to go and lock me out when I let you in?\n",
      "(Stay) Hey, now you say you want it back\n",
      "Now that it's just too late\n",
      "Well, could've been easy\n",
      "All you had to do was...\n",
      "(Stay) Hey, all you had to do was stay\n",
      "Had me in the palm of your hand, then\n",
      "Why'd you have to go and lock me out when I let you in?\n",
      "(Stay) Hey, now you say you want it back\n",
      "Now that it's just too late\n",
      "Well, could've been easy (All you had to do was stay)\n",
      "All you had to do was (Stay)\n",
      "[Post-Chorus]\n",
      "All you had to do was (Stay) (Oh)\n",
      "All you had to do was (Stay)\n",
      "All you had to do was (Stay) (Ooh)\n",
      "All you had to do was (Stay)193Embed\n"
     ]
    }
   ],
   "source": [
    "print(artist.songs[19].lyrics)"
   ]
  },
  {
   "cell_type": "code",
   "execution_count": null,
   "metadata": {},
   "outputs": [],
   "source": []
  }
 ],
 "metadata": {
  "kernelspec": {
   "display_name": "Python 3",
   "language": "python",
   "name": "python3"
  },
  "language_info": {
   "codemirror_mode": {
    "name": "ipython",
    "version": 3
   },
   "file_extension": ".py",
   "mimetype": "text/x-python",
   "name": "python",
   "nbconvert_exporter": "python",
   "pygments_lexer": "ipython3",
   "version": "3.8.10"
  },
  "orig_nbformat": 4,
  "vscode": {
   "interpreter": {
    "hash": "31f2aee4e71d21fbe5cf8b01ff0e069b9275f58929596ceb00d14d90e3e16cd6"
   }
  }
 },
 "nbformat": 4,
 "nbformat_minor": 2
}
